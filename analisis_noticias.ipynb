{
 "cells": [
  {
   "cell_type": "markdown",
   "metadata": {},
   "source": [
    "# Análisis exploratorio de noticias\n",
    "Este cuaderno carga un resumen inicial del archivo `data/raw/noticias.csv` sin necesidad de leerlo completo.\n"
   ]
  },
  {
   "cell_type": "code",
   "execution_count": 1,
   "id": "d3ef5d33",
   "metadata": {},
   "outputs": [
    {
     "data": {
      "text/plain": [
       "6937.128843307495"
      ]
     },
     "execution_count": 1,
     "metadata": {},
     "output_type": "execute_result"
    }
   ],
   "source": [
    "from pathlib import Path\n",
    "import pandas as pd\n",
    "\n",
    "data_path = Path('data/raw/noticias.csv')\n",
    "if not data_path.exists():\n",
    "    raise FileNotFoundError(f'No se encontró el archivo: {data_path}')\n",
    "\n",
    "file_size_mb = data_path.stat().st_size / (1024 ** 2)\n",
    "file_size_mb\n"
   ]
  },
  {
   "cell_type": "code",
   "execution_count": 2,
   "id": "5e987979",
   "metadata": {},
   "outputs": [
    {
     "name": "stdout",
     "output_type": "stream",
     "text": [
      "Total de columnas: 8\n"
     ]
    },
    {
     "data": {
      "text/plain": [
       "['Unnamed: 0',\n",
       " 'id',\n",
       " 'title',\n",
       " 'body',\n",
       " 'source',\n",
       " 'country',\n",
       " 'publish_date',\n",
       " 'platform']"
      ]
     },
     "execution_count": 2,
     "metadata": {},
     "output_type": "execute_result"
    }
   ],
   "source": [
    "# Solo leemos la fila de encabezados para obtener los nombres de columna\n",
    "column_names = pd.read_csv(data_path, nrows=0).columns.tolist()\n",
    "print(f'Total de columnas: {len(column_names)}')\n",
    "column_names\n"
   ]
  },
  {
   "cell_type": "code",
   "execution_count": 3,
   "id": "9e3792a7",
   "metadata": {},
   "outputs": [
    {
     "data": {
      "application/vnd.microsoft.datawrangler.viewer.v0+json": {
       "columns": [
        {
         "name": "index",
         "rawType": "int64",
         "type": "integer"
        },
        {
         "name": "Unnamed: 0",
         "rawType": "int64",
         "type": "integer"
        },
        {
         "name": "id",
         "rawType": "object",
         "type": "string"
        },
        {
         "name": "title",
         "rawType": "object",
         "type": "string"
        },
        {
         "name": "body",
         "rawType": "object",
         "type": "string"
        },
        {
         "name": "source",
         "rawType": "object",
         "type": "string"
        },
        {
         "name": "country",
         "rawType": "object",
         "type": "string"
        },
        {
         "name": "publish_date",
         "rawType": "object",
         "type": "string"
        },
        {
         "name": "platform",
         "rawType": "object",
         "type": "string"
        }
       ],
       "ref": "56a270f4-c65e-4cb1-9814-6de6c7cd1c10",
       "rows": [
        [
         "0",
         "0",
         "14fae92262bf935db2acd1b27326a7ce832446f3ae29f48ba3f8b55cf9e27178",
         "Incendio en el centro de Iquique dejó al menos tres fallecidos",
         "Durante la madrugada de este domingo, un incendio afectó a viviendas en el centro de Iquique, dejando al menos tres personas fallecidas.\n\nLas llamas afectaron al menos a tres viviendas ubicadas en la intersección de calles Thompson con Barros Arana.\n\nEl comandante de Bomberos Jorge Medina indicó a Radio Bío Bío que \"en el trabajo de búsqueda, lamentablemente podemos confirmar que hay tres personas fallecidas en esta alarma de incendio\". El voluntario indicó que las llamas afectaron a 10 habitaciones y tres locales comerciales; y que al menos tres personas fueron encontradas calcinadas: una adulta y dos menores de edad.\n\n\"Los cuerpos ya fueron encontrados al interior del recinto y estamos a la espera de personal de la Brigada de Homicidios para iniciar la investigación correspondiente. El incendio ocurre a las 1:10 horas. En el lugar se presentan ocho compañías\", añadió el bombero.\n\nAdemás, la encargada de emergencias de la Municipalidad de Iquique, Vanessa Bravo, expresó al medio citado que \"por calle Thompson logramos identificar, de un total de seis viviendas revisadas, se logró llegar a un catastro parcial de seis personas afectadas de diversa consideración, principalmente por afectación de agua; dos personas damnificadas de la dirección Thompson #833. Aún está pendiente el levantamiento por calle Barros Arana. Estimativamente tenemos una consideración de entre 10 y 20 personas que podrían estar con algún nivel de damnificación o afectación\".",
         "24horas.cl",
         "Chile",
         "2019-11-17",
         "Event Registry"
        ],
        [
         "1",
         "1",
         "0ebd40ff8cf0d0e72d33595efd0d55e3f29bd63c5255ce9795cb5a64c5a51bd6",
         "EE.UU. sanciona al ministro del Interior cubano por su \"participación\" en violaciones de DD.HH. en Venezuela",
         "Según el comunicado difundido por la oficina de Mike Pompeo, ni Julio César Gandarilla ni sus hijos podrán entrar en Estados Unidos.\n\nEl Departamento de Estado estadounidense ha sancionado este sábado al ministro del Interior de Cuba, Julio César Gandarilla, por su \"participación y responsabilidad\" en las \"graves\" violaciones de Derechos Humanos en Venezuela.\n\nSegún el comunicado difundido por la oficina de Mike Pompeo, ni Gandarilla ni sus hijos, Julio César Gandarilla y Alejandro Gandarilla, podrán entrar en Estados Unidos.\n\nEsta decisión se ha tomado en virtud de una norma que especifica que, si el secretario de Estado tiene \"información creíble\" de que funcionarios extranjeros están involucrados en una \"corrupción significativa o grave\" de los Derechos Humanos, Estados Unidos puede vetar la entrada del funcionario en cuestión y sus familiares inmediatos al país, según el comunicado.\n\nAsimismo, el comunicado también alude a que el Ministerio del Interior de Cuba es \"responsable de arrestar y detener arbitrariamente a miles de ciudadanos cubanos y encarcelar ilegalmente a más de 100 presos políticos\" en el país.\n\n\"Los funcionarios del Ministerio han supervisado la tortura de disidentes políticos, detenidos y prisioneros, así como el asesinato de algunas de estas personas por la Policía y las fuerzas de seguridad\", ha indicado la oficina de Pompeo.\n\n\"Gandarilla es cómplice de la vigilancia arbitraria o ilegal de estos grupos, ya sean ciudadanos o visitantes\", ha zanjado el comunicado, que ha hecho hincapié en el apoyo estadounidense a los pueblos cubano y venezolano.",
         "24horas.cl",
         "Chile",
         "2019-11-17",
         "Event Registry"
        ],
        [
         "2",
         "2",
         "4ddf688088b0b404dc739602d0efa40f29662d81ad0b0c011f85cc2008573b10",
         "General Rozas y actuar de Carabineros: No es posible asegurar que haya incidido en el lamentable deceso de Abel Acuña",
         "El General Director de Carabineros leyó un comunicado donde aseveró que los uniformados trabajaron en condiciones visibilidad adversa el viernes en Plaza Italia. Además, aseguró que los perdigones usados son de goma y que pedirá análisis a una universidad extranjera y laboratorio externo.\n\nEl General Director de Carabineros, Mario Rozas, brindó un punto de prensa durante la jornada de este domingo donde leyó un comunicado, señalando las dificultades de visibilidad que tuvieron los uniformados mientras operaban en Plaza Italia al momento del fallecimiento de Abel Acuña el pasado viernes.\n\nLa máxima autoridad de Carabineros señaló que, debido a que había más de mil personas, el lanzamiento de artefactos incendiarios, la oscuridad y los punteros láseres, había \"poca visibilidad y condiciones muy complejas y adversas\".\n\nEs así como aseveró que \"con los antecedentes que hemos recopilado, no es posible asegurar que la operación de control de orden público haya incidido en el lamentable deceso de este joven\".\n\nPor otra parte, Rozas se refirió al estudio realizado por el Departamento de Ingeniería Mecánica de la Universidad de Chile, el que asegura que la composición de los perdigones usados por Carabineros tienen solo el 20% de goma, conteniendo varios metales, entre ellos, plomo.\n\nEl General Director aseveró que el material de los perdigones \"sí es de goma. De acuerdo a un análisis del labocar, también da cuenta que son de goma\", anunciando que se le pedirá a la empresa proveedora una auditoría, como también un análisis a un laboratorio externo y a una universidad extranjera.\n\nTambién quiso recordar que en las manifestaciones \"no solo Carabineros de Chile ha usado escopetas\", añadiendo que \"el uso de la escopeta se acotó solo para casos de inminente peligro para carabineros y civiles\".\n\nRozas añadió su deseo de \"una vez más expresar nuestro compromiso con el respeto irrestricto por los derechos humanos\", junto con agradecer \"las muestras de cariño y afecto\" que la institución ha recibido.\n\nFinalmente, el General Directo agregó que \"hago un llamado a la tranquilidad, tolerancia y la prudencia, confiemos en nuestras autoridades que serán capaz de restablecer la paz social\".",
         "24horas.cl",
         "Chile",
         "2019-11-17",
         "Event Registry"
        ],
        [
         "3",
         "3",
         "4615e874256022f2d724bdaf9418e48bd159d7eb4c8033bf0a7d872e42142bd7",
         "Bachelet por crisis en Bolivia: \"Esta situación no será resuelta por medio de la fuerza y la represión\"",
         "La Alta Comisionada de la ONU para los Derechos Humanos expresó su preocupación sobre \"que la situación pueda salirse de control si las autoridades no la manejan cuidadosamente\".\n\nDurante este sábado, la Alta Comisionada de la ONU para los Derechos Humanos, Michelle Bachelet, se refirió a la crisis por la que atraviesa Bolivia, reportando que ha recibido denuncias de muertes de al menos cinco manifestantes en Cochabamba \"presuntamente a consecuencia del uso de munición letal por parte de las fuerzas de seguridad\".\n\n\"Tenemos información de que al menos 17 personas han fallecido en el contexto de las protestas, incluidas 14 sólo en los últimos seis días\", añadió la autoridad de la ONU.\n\nRespecto al actuar de la policía, Bachelet indicó que \"mientras que las primeras muertes se produjeron como resultado de enfrentamientos violentos entre manifestantes rivales, las más recientes parecen derivar de un uso innecesario o desproporcionado de la fuerza por parte de personal policial o militar\".\n\nJunto con condenar los fallecimientos, la Alta Comisionada sostuvo que \"realmente me preocupa que la situación en Bolivia pueda salirse de control si las autoridades no la manejan cuidadosamente, de acuerdo con las normas y estándares internacionales que rigen el uso de la fuerza, y con un respeto pleno por los derechos humanos\".\n\nEn una situación como esta, las acciones represivas de parte de las autoridades simplemente avivarán más esa ira, y pueden poner en peligro cualquier camino de diálogo posible\", insistió Bachelet.\n\n\"Esta situación no será resuelta por medio de la fuerza y la represión. Todos los sectores tienen el derecho a hacer oír sus voces, cuestión fundamental para la democracia. Insto a todos los actores, incluyendo a los manifestantes, a que renuncien a la violencia para transitar hacia una solución pacífica a la crisis actual\", finalizó.",
         "24horas.cl",
         "Chile",
         "2019-11-17",
         "Event Registry"
        ],
        [
         "4",
         "4",
         "266463d44ea2a15ade44c267ea2de44ff6e85c4a814c0b7d13d9a1912456bdbf",
         "Tsitsipas vence a Thiem en dramático duelo y se consagra campeón del Masters de Londres",
         "El griego venció al pupilo de Nicolás Massú y se convirtió en el tenista más joven en ganar este torneo desde que Lleyton Hewitt lo obtuvo en el año 2001.\n\nStefanos Tsitsipas se convirtió en el primer griego en ganar las Finales ATP al remontar este domingo y vencer al austríaco Dominic Thiem por 6-7(6), 6-2 y 7-6(4) y convertirse, con 21 años y tres meses, en el más joven ganador de este torneo, desde que el australiano Lleyton Hewitt triunfó en 2001 en Sydney, con 20 años.\n\nEl joven ateniense, ganador el pasado año de las Finales ATP Nueva Generación en Milán, se recuperó anímicamente tras ceder en el desempate, para vencer a Thiem en dos horas y 35 minutos, y aunque terminó con síntomas de calambres se apuntó el título más importante de su incipiente carrera.\n\nLos estadounidenses John McEnroe (19 años y 11 meses), Pete Sampras (20 años y tres meses) y Andre Agassi (20 años y tres meses) fueron más precoces en ganar este evento. Curiosamente, ningún representante de EE.UU. ha triunfado en el mismo, desde hace 20 años, con Sampras imponiéndose en Hannover (Alemania).\n\nTsitsipas lleva ya cuatro títulos, tres este año: Marsella, Estoril y Londres, y en total tres en pista cubierta.\n\nEste es el cuarto año consecutivo en el que surge un nuevo campeón de este torneo, después de las victorias del británico Andy Murray (2016), el búlgaro Grigor Dimitrov (2017) y el alemán Alexander Zverev, el pasado año.",
         "24horas.cl",
         "Chile",
         "2019-11-17",
         "Event Registry"
        ]
       ],
       "shape": {
        "columns": 8,
        "rows": 5
       }
      },
      "text/html": [
       "<div>\n",
       "<style scoped>\n",
       "    .dataframe tbody tr th:only-of-type {\n",
       "        vertical-align: middle;\n",
       "    }\n",
       "\n",
       "    .dataframe tbody tr th {\n",
       "        vertical-align: top;\n",
       "    }\n",
       "\n",
       "    .dataframe thead th {\n",
       "        text-align: right;\n",
       "    }\n",
       "</style>\n",
       "<table border=\"1\" class=\"dataframe\">\n",
       "  <thead>\n",
       "    <tr style=\"text-align: right;\">\n",
       "      <th></th>\n",
       "      <th>Unnamed: 0</th>\n",
       "      <th>id</th>\n",
       "      <th>title</th>\n",
       "      <th>body</th>\n",
       "      <th>source</th>\n",
       "      <th>country</th>\n",
       "      <th>publish_date</th>\n",
       "      <th>platform</th>\n",
       "    </tr>\n",
       "  </thead>\n",
       "  <tbody>\n",
       "    <tr>\n",
       "      <th>0</th>\n",
       "      <td>0</td>\n",
       "      <td>14fae92262bf935db2acd1b27326a7ce832446f3ae29f4...</td>\n",
       "      <td>Incendio en el centro de Iquique dejó al menos...</td>\n",
       "      <td>Durante la madrugada de este domingo, un incen...</td>\n",
       "      <td>24horas.cl</td>\n",
       "      <td>Chile</td>\n",
       "      <td>2019-11-17</td>\n",
       "      <td>Event Registry</td>\n",
       "    </tr>\n",
       "    <tr>\n",
       "      <th>1</th>\n",
       "      <td>1</td>\n",
       "      <td>0ebd40ff8cf0d0e72d33595efd0d55e3f29bd63c5255ce...</td>\n",
       "      <td>EE.UU. sanciona al ministro del Interior cuban...</td>\n",
       "      <td>Según el comunicado difundido por la oficina d...</td>\n",
       "      <td>24horas.cl</td>\n",
       "      <td>Chile</td>\n",
       "      <td>2019-11-17</td>\n",
       "      <td>Event Registry</td>\n",
       "    </tr>\n",
       "    <tr>\n",
       "      <th>2</th>\n",
       "      <td>2</td>\n",
       "      <td>4ddf688088b0b404dc739602d0efa40f29662d81ad0b0c...</td>\n",
       "      <td>General Rozas y actuar de Carabineros: No es p...</td>\n",
       "      <td>El General Director de Carabineros leyó un com...</td>\n",
       "      <td>24horas.cl</td>\n",
       "      <td>Chile</td>\n",
       "      <td>2019-11-17</td>\n",
       "      <td>Event Registry</td>\n",
       "    </tr>\n",
       "    <tr>\n",
       "      <th>3</th>\n",
       "      <td>3</td>\n",
       "      <td>4615e874256022f2d724bdaf9418e48bd159d7eb4c8033...</td>\n",
       "      <td>Bachelet por crisis en Bolivia: \"Esta situació...</td>\n",
       "      <td>La Alta Comisionada de la ONU para los Derecho...</td>\n",
       "      <td>24horas.cl</td>\n",
       "      <td>Chile</td>\n",
       "      <td>2019-11-17</td>\n",
       "      <td>Event Registry</td>\n",
       "    </tr>\n",
       "    <tr>\n",
       "      <th>4</th>\n",
       "      <td>4</td>\n",
       "      <td>266463d44ea2a15ade44c267ea2de44ff6e85c4a814c0b...</td>\n",
       "      <td>Tsitsipas vence a Thiem en dramático duelo y s...</td>\n",
       "      <td>El griego venció al pupilo de Nicolás Massú y ...</td>\n",
       "      <td>24horas.cl</td>\n",
       "      <td>Chile</td>\n",
       "      <td>2019-11-17</td>\n",
       "      <td>Event Registry</td>\n",
       "    </tr>\n",
       "  </tbody>\n",
       "</table>\n",
       "</div>"
      ],
      "text/plain": [
       "   Unnamed: 0                                                 id  \\\n",
       "0           0  14fae92262bf935db2acd1b27326a7ce832446f3ae29f4...   \n",
       "1           1  0ebd40ff8cf0d0e72d33595efd0d55e3f29bd63c5255ce...   \n",
       "2           2  4ddf688088b0b404dc739602d0efa40f29662d81ad0b0c...   \n",
       "3           3  4615e874256022f2d724bdaf9418e48bd159d7eb4c8033...   \n",
       "4           4  266463d44ea2a15ade44c267ea2de44ff6e85c4a814c0b...   \n",
       "\n",
       "                                               title  \\\n",
       "0  Incendio en el centro de Iquique dejó al menos...   \n",
       "1  EE.UU. sanciona al ministro del Interior cuban...   \n",
       "2  General Rozas y actuar de Carabineros: No es p...   \n",
       "3  Bachelet por crisis en Bolivia: \"Esta situació...   \n",
       "4  Tsitsipas vence a Thiem en dramático duelo y s...   \n",
       "\n",
       "                                                body      source country  \\\n",
       "0  Durante la madrugada de este domingo, un incen...  24horas.cl   Chile   \n",
       "1  Según el comunicado difundido por la oficina d...  24horas.cl   Chile   \n",
       "2  El General Director de Carabineros leyó un com...  24horas.cl   Chile   \n",
       "3  La Alta Comisionada de la ONU para los Derecho...  24horas.cl   Chile   \n",
       "4  El griego venció al pupilo de Nicolás Massú y ...  24horas.cl   Chile   \n",
       "\n",
       "  publish_date        platform  \n",
       "0   2019-11-17  Event Registry  \n",
       "1   2019-11-17  Event Registry  \n",
       "2   2019-11-17  Event Registry  \n",
       "3   2019-11-17  Event Registry  \n",
       "4   2019-11-17  Event Registry  "
      ]
     },
     "execution_count": 3,
     "metadata": {},
     "output_type": "execute_result"
    }
   ],
   "source": [
    "# Muestreamos unas filas para revisar el contenido sin cargar todo el CSV\n",
    "sample = pd.read_csv(data_path, nrows=5)\n",
    "sample\n"
   ]
  },
  {
   "cell_type": "code",
   "execution_count": 4,
   "id": "fe1ae989",
   "metadata": {},
   "outputs": [
    {
     "data": {
      "application/vnd.microsoft.datawrangler.viewer.v0+json": {
       "columns": [
        {
         "name": "index",
         "rawType": "int64",
         "type": "integer"
        },
        {
         "name": "source",
         "rawType": "object",
         "type": "string"
        },
        {
         "name": "count",
         "rawType": "int64",
         "type": "integer"
        }
       ],
       "ref": "4dd9a9cb-4f12-483b-98b9-24139d54d535",
       "rows": [
        [
         "0",
         "biobiochile.cl",
         "292625"
        ],
        [
         "1",
         "adnradio.cl",
         "190145"
        ],
        [
         "2",
         "cooperativa.cl",
         "177038"
        ],
        [
         "3",
         "latercera.com",
         "141203"
        ],
        [
         "4",
         "lacuarta.com",
         "136037"
        ],
        [
         "5",
         "24horas.cl",
         "133644"
        ],
        [
         "6",
         "t13.cl",
         "110839"
        ],
        [
         "7",
         "radioagricultura.cl",
         "108975"
        ],
        [
         "8",
         "elmostrador.cl",
         "105529"
        ],
        [
         "9",
         "elciudadano.com",
         "95115"
        ]
       ],
       "shape": {
        "columns": 2,
        "rows": 10
       }
      },
      "text/html": [
       "<div>\n",
       "<style scoped>\n",
       "    .dataframe tbody tr th:only-of-type {\n",
       "        vertical-align: middle;\n",
       "    }\n",
       "\n",
       "    .dataframe tbody tr th {\n",
       "        vertical-align: top;\n",
       "    }\n",
       "\n",
       "    .dataframe thead th {\n",
       "        text-align: right;\n",
       "    }\n",
       "</style>\n",
       "<table border=\"1\" class=\"dataframe\">\n",
       "  <thead>\n",
       "    <tr style=\"text-align: right;\">\n",
       "      <th></th>\n",
       "      <th>source</th>\n",
       "      <th>count</th>\n",
       "    </tr>\n",
       "  </thead>\n",
       "  <tbody>\n",
       "    <tr>\n",
       "      <th>0</th>\n",
       "      <td>biobiochile.cl</td>\n",
       "      <td>292625</td>\n",
       "    </tr>\n",
       "    <tr>\n",
       "      <th>1</th>\n",
       "      <td>adnradio.cl</td>\n",
       "      <td>190145</td>\n",
       "    </tr>\n",
       "    <tr>\n",
       "      <th>2</th>\n",
       "      <td>cooperativa.cl</td>\n",
       "      <td>177038</td>\n",
       "    </tr>\n",
       "    <tr>\n",
       "      <th>3</th>\n",
       "      <td>latercera.com</td>\n",
       "      <td>141203</td>\n",
       "    </tr>\n",
       "    <tr>\n",
       "      <th>4</th>\n",
       "      <td>lacuarta.com</td>\n",
       "      <td>136037</td>\n",
       "    </tr>\n",
       "    <tr>\n",
       "      <th>5</th>\n",
       "      <td>24horas.cl</td>\n",
       "      <td>133644</td>\n",
       "    </tr>\n",
       "    <tr>\n",
       "      <th>6</th>\n",
       "      <td>t13.cl</td>\n",
       "      <td>110839</td>\n",
       "    </tr>\n",
       "    <tr>\n",
       "      <th>7</th>\n",
       "      <td>radioagricultura.cl</td>\n",
       "      <td>108975</td>\n",
       "    </tr>\n",
       "    <tr>\n",
       "      <th>8</th>\n",
       "      <td>elmostrador.cl</td>\n",
       "      <td>105529</td>\n",
       "    </tr>\n",
       "    <tr>\n",
       "      <th>9</th>\n",
       "      <td>elciudadano.com</td>\n",
       "      <td>95115</td>\n",
       "    </tr>\n",
       "  </tbody>\n",
       "</table>\n",
       "</div>"
      ],
      "text/plain": [
       "                source   count\n",
       "0       biobiochile.cl  292625\n",
       "1          adnradio.cl  190145\n",
       "2       cooperativa.cl  177038\n",
       "3        latercera.com  141203\n",
       "4         lacuarta.com  136037\n",
       "5           24horas.cl  133644\n",
       "6               t13.cl  110839\n",
       "7  radioagricultura.cl  108975\n",
       "8       elmostrador.cl  105529\n",
       "9      elciudadano.com   95115"
      ]
     },
     "execution_count": 4,
     "metadata": {},
     "output_type": "execute_result"
    }
   ],
   "source": [
    "# Conteo de las fuentes más frecuentes\n",
    "top_sources = (\n",
    "    pd.read_csv(data_path, usecols=['source'])['source']\n",
    "    .value_counts(dropna=False)\n",
    "    .head(10)\n",
    "    .rename_axis('source')\n",
    "    .reset_index(name='count')\n",
    ")\n",
    "top_sources\n"
   ]
  },
  {
   "cell_type": "markdown",
   "id": "92daf24f",
   "metadata": {},
   "source": [
    "## Carga a DataFrame y conteo global\n",
    "Configura un modo de muestra para pruebas rapidas y calcula el total de filas del CSV.\n"
   ]
  },
  {
   "cell_type": "code",
   "execution_count": 5,
   "id": "2ed00e28",
   "metadata": {},
   "outputs": [
    {
     "name": "stdout",
     "output_type": "stream",
     "text": [
      "Total de noticias en el CSV: 48,450,538\n",
      "Filas cargadas en este DataFrame: 200,000\n"
     ]
    },
    {
     "data": {
      "application/vnd.microsoft.datawrangler.viewer.v0+json": {
       "columns": [
        {
         "name": "index",
         "rawType": "int64",
         "type": "integer"
        },
        {
         "name": "id",
         "rawType": "object",
         "type": "string"
        },
        {
         "name": "title",
         "rawType": "object",
         "type": "string"
        },
        {
         "name": "source",
         "rawType": "object",
         "type": "string"
        },
        {
         "name": "country",
         "rawType": "object",
         "type": "string"
        },
        {
         "name": "publish_date",
         "rawType": "object",
         "type": "string"
        },
        {
         "name": "platform",
         "rawType": "object",
         "type": "string"
        }
       ],
       "ref": "4f886848-56ec-4f7a-a1fa-cfe99cee8762",
       "rows": [
        [
         "0",
         "14fae92262bf935db2acd1b27326a7ce832446f3ae29f48ba3f8b55cf9e27178",
         "Incendio en el centro de Iquique dejó al menos tres fallecidos",
         "24horas.cl",
         "Chile",
         "2019-11-17",
         "Event Registry"
        ],
        [
         "1",
         "0ebd40ff8cf0d0e72d33595efd0d55e3f29bd63c5255ce9795cb5a64c5a51bd6",
         "EE.UU. sanciona al ministro del Interior cubano por su \"participación\" en violaciones de DD.HH. en Venezuela",
         "24horas.cl",
         "Chile",
         "2019-11-17",
         "Event Registry"
        ],
        [
         "2",
         "4ddf688088b0b404dc739602d0efa40f29662d81ad0b0c011f85cc2008573b10",
         "General Rozas y actuar de Carabineros: No es posible asegurar que haya incidido en el lamentable deceso de Abel Acuña",
         "24horas.cl",
         "Chile",
         "2019-11-17",
         "Event Registry"
        ]
       ],
       "shape": {
        "columns": 6,
        "rows": 3
       }
      },
      "text/html": [
       "<div>\n",
       "<style scoped>\n",
       "    .dataframe tbody tr th:only-of-type {\n",
       "        vertical-align: middle;\n",
       "    }\n",
       "\n",
       "    .dataframe tbody tr th {\n",
       "        vertical-align: top;\n",
       "    }\n",
       "\n",
       "    .dataframe thead th {\n",
       "        text-align: right;\n",
       "    }\n",
       "</style>\n",
       "<table border=\"1\" class=\"dataframe\">\n",
       "  <thead>\n",
       "    <tr style=\"text-align: right;\">\n",
       "      <th></th>\n",
       "      <th>id</th>\n",
       "      <th>title</th>\n",
       "      <th>source</th>\n",
       "      <th>country</th>\n",
       "      <th>publish_date</th>\n",
       "      <th>platform</th>\n",
       "    </tr>\n",
       "  </thead>\n",
       "  <tbody>\n",
       "    <tr>\n",
       "      <th>0</th>\n",
       "      <td>14fae92262bf935db2acd1b27326a7ce832446f3ae29f4...</td>\n",
       "      <td>Incendio en el centro de Iquique dejó al menos...</td>\n",
       "      <td>24horas.cl</td>\n",
       "      <td>Chile</td>\n",
       "      <td>2019-11-17</td>\n",
       "      <td>Event Registry</td>\n",
       "    </tr>\n",
       "    <tr>\n",
       "      <th>1</th>\n",
       "      <td>0ebd40ff8cf0d0e72d33595efd0d55e3f29bd63c5255ce...</td>\n",
       "      <td>EE.UU. sanciona al ministro del Interior cuban...</td>\n",
       "      <td>24horas.cl</td>\n",
       "      <td>Chile</td>\n",
       "      <td>2019-11-17</td>\n",
       "      <td>Event Registry</td>\n",
       "    </tr>\n",
       "    <tr>\n",
       "      <th>2</th>\n",
       "      <td>4ddf688088b0b404dc739602d0efa40f29662d81ad0b0c...</td>\n",
       "      <td>General Rozas y actuar de Carabineros: No es p...</td>\n",
       "      <td>24horas.cl</td>\n",
       "      <td>Chile</td>\n",
       "      <td>2019-11-17</td>\n",
       "      <td>Event Registry</td>\n",
       "    </tr>\n",
       "  </tbody>\n",
       "</table>\n",
       "</div>"
      ],
      "text/plain": [
       "                                                  id  \\\n",
       "0  14fae92262bf935db2acd1b27326a7ce832446f3ae29f4...   \n",
       "1  0ebd40ff8cf0d0e72d33595efd0d55e3f29bd63c5255ce...   \n",
       "2  4ddf688088b0b404dc739602d0efa40f29662d81ad0b0c...   \n",
       "\n",
       "                                               title      source country  \\\n",
       "0  Incendio en el centro de Iquique dejó al menos...  24horas.cl   Chile   \n",
       "1  EE.UU. sanciona al ministro del Interior cuban...  24horas.cl   Chile   \n",
       "2  General Rozas y actuar de Carabineros: No es p...  24horas.cl   Chile   \n",
       "\n",
       "  publish_date        platform  \n",
       "0   2019-11-17  Event Registry  \n",
       "1   2019-11-17  Event Registry  \n",
       "2   2019-11-17  Event Registry  "
      ]
     },
     "execution_count": 5,
     "metadata": {},
     "output_type": "execute_result"
    }
   ],
   "source": [
    "LOAD_SAMPLE = True\n",
    "SAMPLE_ROWS = 200_000\n",
    "LOAD_COLUMNS = ['id', 'title', 'source', 'country', 'publish_date', 'platform']\n",
    "\n",
    "def count_total_rows(path):\n",
    "    with path.open('r', encoding='utf-8', errors='ignore') as fh:\n",
    "        next(fh, None)\n",
    "        return sum(1 for _ in fh)\n",
    "\n",
    "read_kwargs = {}\n",
    "if LOAD_COLUMNS:\n",
    "    read_kwargs['usecols'] = LOAD_COLUMNS\n",
    "\n",
    "if LOAD_SAMPLE:\n",
    "    df = pd.read_csv(data_path, nrows=SAMPLE_ROWS, **read_kwargs)\n",
    "else:\n",
    "    df = pd.read_csv(data_path, **read_kwargs)\n",
    "\n",
    "total_news = count_total_rows(data_path)\n",
    "print(f'Total de noticias en el CSV: {total_news:,}')\n",
    "print(f'Filas cargadas en este DataFrame: {len(df):,}')\n",
    "df.head(3)\n"
   ]
  },
  {
   "cell_type": "markdown",
   "id": "1b86d663",
   "metadata": {},
   "source": [
    "### Incorporar la columna `body` después de haber cargado una muestra\n",
    "Si la muestra actual se creó sin `body`, recreamos un mapeo desde el CSV original y lo fusionamos por `id`.\n"
   ]
  },
  {
   "cell_type": "code",
   "execution_count": null,
   "id": "3ee7f37a",
   "metadata": {},
   "outputs": [],
   "source": [
    "NEED_BODY = 'body' not in df.columns\n",
    "BODY_CHUNKSIZE = 250_000\n",
    "\n",
    "if NEED_BODY:\n",
    "    target_ids = set(df['id'])\n",
    "    body_lookup = {}\n",
    "    for chunk in pd.read_csv(data_path, usecols=['id', 'body'], chunksize=BODY_CHUNKSIZE):\n",
    "        matches = chunk[chunk['id'].isin(target_ids)]\n",
    "        body_lookup.update(zip(matches['id'], matches['body']))\n",
    "        target_ids -= set(matches['id'])\n",
    "        print(f\"Quedan {len(target_ids):,} ids por resolver\")\n",
    "        if not target_ids:\n",
    "            break\n",
    "    df['body'] = df['id'].map(body_lookup)\n",
    "    missing = df['body'].isna().sum()\n",
    "    print(f\"Se añadieron cuerpos para {len(df) - missing:,} noticias; sin cuerpo: {missing:,}\")\n",
    "else:\n",
    "    print('La columna body ya está presente en el DataFrame.')\n",
    "\n",
    "df[['id', 'title', 'body']].head(3)\n",
    "\n"
   ]
  },
  {
   "cell_type": "markdown",
   "id": "f940b1f5",
   "metadata": {},
   "source": [
    "## Preprocesamiento de titulos\n",
    "Normaliza los titulos para reducir variantes y dejar el texto listo para posteriores pasos.\n"
   ]
  },
  {
   "cell_type": "code",
   "execution_count": 6,
   "id": "3949e514",
   "metadata": {},
   "outputs": [
    {
     "data": {
      "application/vnd.microsoft.datawrangler.viewer.v0+json": {
       "columns": [
        {
         "name": "index",
         "rawType": "int64",
         "type": "integer"
        },
        {
         "name": "title",
         "rawType": "object",
         "type": "string"
        },
        {
         "name": "title_normalized",
         "rawType": "object",
         "type": "string"
        }
       ],
       "ref": "c6d623c8-0f12-4e7c-8409-0b79785c0730",
       "rows": [
        [
         "0",
         "Incendio en el centro de Iquique dejó al menos tres fallecidos",
         "incendio en el centro de iquique dejó al menos tres fallecidos"
        ],
        [
         "1",
         "EE.UU. sanciona al ministro del Interior cubano por su \"participación\" en violaciones de DD.HH. en Venezuela",
         "ee.uu. sanciona al ministro del interior cubano por su \"participación\" en violaciones de dd.hh. en venezuela"
        ],
        [
         "2",
         "General Rozas y actuar de Carabineros: No es posible asegurar que haya incidido en el lamentable deceso de Abel Acuña",
         "general rozas y actuar de carabineros: no es posible asegurar que haya incidido en el lamentable deceso de abel acuña"
        ],
        [
         "3",
         "Bachelet por crisis en Bolivia: \"Esta situación no será resuelta por medio de la fuerza y la represión\"",
         "bachelet por crisis en bolivia: \"esta situación no será resuelta por medio de la fuerza y la represión\""
        ],
        [
         "4",
         "Tsitsipas vence a Thiem en dramático duelo y se consagra campeón del Masters de Londres",
         "tsitsipas vence a thiem en dramático duelo y se consagra campeón del masters de londres"
        ]
       ],
       "shape": {
        "columns": 2,
        "rows": 5
       }
      },
      "text/html": [
       "<div>\n",
       "<style scoped>\n",
       "    .dataframe tbody tr th:only-of-type {\n",
       "        vertical-align: middle;\n",
       "    }\n",
       "\n",
       "    .dataframe tbody tr th {\n",
       "        vertical-align: top;\n",
       "    }\n",
       "\n",
       "    .dataframe thead th {\n",
       "        text-align: right;\n",
       "    }\n",
       "</style>\n",
       "<table border=\"1\" class=\"dataframe\">\n",
       "  <thead>\n",
       "    <tr style=\"text-align: right;\">\n",
       "      <th></th>\n",
       "      <th>title</th>\n",
       "      <th>title_normalized</th>\n",
       "    </tr>\n",
       "  </thead>\n",
       "  <tbody>\n",
       "    <tr>\n",
       "      <th>0</th>\n",
       "      <td>Incendio en el centro de Iquique dejó al menos...</td>\n",
       "      <td>incendio en el centro de iquique dejó al menos...</td>\n",
       "    </tr>\n",
       "    <tr>\n",
       "      <th>1</th>\n",
       "      <td>EE.UU. sanciona al ministro del Interior cuban...</td>\n",
       "      <td>ee.uu. sanciona al ministro del interior cuban...</td>\n",
       "    </tr>\n",
       "    <tr>\n",
       "      <th>2</th>\n",
       "      <td>General Rozas y actuar de Carabineros: No es p...</td>\n",
       "      <td>general rozas y actuar de carabineros: no es p...</td>\n",
       "    </tr>\n",
       "    <tr>\n",
       "      <th>3</th>\n",
       "      <td>Bachelet por crisis en Bolivia: \"Esta situació...</td>\n",
       "      <td>bachelet por crisis en bolivia: \"esta situació...</td>\n",
       "    </tr>\n",
       "    <tr>\n",
       "      <th>4</th>\n",
       "      <td>Tsitsipas vence a Thiem en dramático duelo y s...</td>\n",
       "      <td>tsitsipas vence a thiem en dramático duelo y s...</td>\n",
       "    </tr>\n",
       "  </tbody>\n",
       "</table>\n",
       "</div>"
      ],
      "text/plain": [
       "                                               title  \\\n",
       "0  Incendio en el centro de Iquique dejó al menos...   \n",
       "1  EE.UU. sanciona al ministro del Interior cuban...   \n",
       "2  General Rozas y actuar de Carabineros: No es p...   \n",
       "3  Bachelet por crisis en Bolivia: \"Esta situació...   \n",
       "4  Tsitsipas vence a Thiem en dramático duelo y s...   \n",
       "\n",
       "                                    title_normalized  \n",
       "0  incendio en el centro de iquique dejó al menos...  \n",
       "1  ee.uu. sanciona al ministro del interior cuban...  \n",
       "2  general rozas y actuar de carabineros: no es p...  \n",
       "3  bachelet por crisis en bolivia: \"esta situació...  \n",
       "4  tsitsipas vence a thiem en dramático duelo y s...  "
      ]
     },
     "execution_count": 6,
     "metadata": {},
     "output_type": "execute_result"
    }
   ],
   "source": [
    "import re\n",
    "import unicodedata\n",
    "\n",
    "def normalize_title(text):\n",
    "    if not isinstance(text, str):\n",
    "        return ''\n",
    "    text = unicodedata.normalize('NFKC', text)\n",
    "    text = ''.join(ch for ch in text if not unicodedata.combining(ch))\n",
    "    text = re.sub(r'\\s+', ' ', text).strip()\n",
    "    return text.lower()\n",
    "\n",
    "df['title_normalized'] = df['title'].fillna('').map(normalize_title)\n",
    "df[['title', 'title_normalized']].head(5)\n"
   ]
  },
  {
   "cell_type": "markdown",
   "id": "eb0bf03f",
   "metadata": {},
   "source": [
    "## Extraccion de personas en titulos (NER)\n",
    "Usa spaCy con procesamiento en lotes para detectar entidades de tipo persona y agregarlas como nueva columna.\n"
   ]
  },
  {
   "cell_type": "code",
   "execution_count": 8,
   "id": "e404ab68",
   "metadata": {},
   "outputs": [
    {
     "data": {
      "application/vnd.microsoft.datawrangler.viewer.v0+json": {
       "columns": [
        {
         "name": "index",
         "rawType": "int64",
         "type": "integer"
        },
        {
         "name": "id",
         "rawType": "object",
         "type": "string"
        },
        {
         "name": "title",
         "rawType": "object",
         "type": "string"
        },
        {
         "name": "personas_title",
         "rawType": "object",
         "type": "unknown"
        },
        {
         "name": "personas_title_count",
         "rawType": "int64",
         "type": "integer"
        }
       ],
       "ref": "0549153a-e646-4fd8-8df3-61360ce6c2eb",
       "rows": [
        [
         "0",
         "14fae92262bf935db2acd1b27326a7ce832446f3ae29f48ba3f8b55cf9e27178",
         "Incendio en el centro de Iquique dejó al menos tres fallecidos",
         "[]",
         "0"
        ],
        [
         "1",
         "0ebd40ff8cf0d0e72d33595efd0d55e3f29bd63c5255ce9795cb5a64c5a51bd6",
         "EE.UU. sanciona al ministro del Interior cubano por su \"participación\" en violaciones de DD.HH. en Venezuela",
         "[]",
         "0"
        ],
        [
         "2",
         "4ddf688088b0b404dc739602d0efa40f29662d81ad0b0c011f85cc2008573b10",
         "General Rozas y actuar de Carabineros: No es posible asegurar que haya incidido en el lamentable deceso de Abel Acuña",
         "['Abel Acuña', 'General Rozas']",
         "2"
        ],
        [
         "3",
         "4615e874256022f2d724bdaf9418e48bd159d7eb4c8033bf0a7d872e42142bd7",
         "Bachelet por crisis en Bolivia: \"Esta situación no será resuelta por medio de la fuerza y la represión\"",
         "['Bachelet']",
         "1"
        ],
        [
         "4",
         "266463d44ea2a15ade44c267ea2de44ff6e85c4a814c0b7d13d9a1912456bdbf",
         "Tsitsipas vence a Thiem en dramático duelo y se consagra campeón del Masters de Londres",
         "['Thiem', 'Tsitsipas']",
         "2"
        ]
       ],
       "shape": {
        "columns": 4,
        "rows": 5
       }
      },
      "text/html": [
       "<div>\n",
       "<style scoped>\n",
       "    .dataframe tbody tr th:only-of-type {\n",
       "        vertical-align: middle;\n",
       "    }\n",
       "\n",
       "    .dataframe tbody tr th {\n",
       "        vertical-align: top;\n",
       "    }\n",
       "\n",
       "    .dataframe thead th {\n",
       "        text-align: right;\n",
       "    }\n",
       "</style>\n",
       "<table border=\"1\" class=\"dataframe\">\n",
       "  <thead>\n",
       "    <tr style=\"text-align: right;\">\n",
       "      <th></th>\n",
       "      <th>id</th>\n",
       "      <th>title</th>\n",
       "      <th>personas_title</th>\n",
       "      <th>personas_title_count</th>\n",
       "    </tr>\n",
       "  </thead>\n",
       "  <tbody>\n",
       "    <tr>\n",
       "      <th>0</th>\n",
       "      <td>14fae92262bf935db2acd1b27326a7ce832446f3ae29f4...</td>\n",
       "      <td>Incendio en el centro de Iquique dejó al menos...</td>\n",
       "      <td>[]</td>\n",
       "      <td>0</td>\n",
       "    </tr>\n",
       "    <tr>\n",
       "      <th>1</th>\n",
       "      <td>0ebd40ff8cf0d0e72d33595efd0d55e3f29bd63c5255ce...</td>\n",
       "      <td>EE.UU. sanciona al ministro del Interior cuban...</td>\n",
       "      <td>[]</td>\n",
       "      <td>0</td>\n",
       "    </tr>\n",
       "    <tr>\n",
       "      <th>2</th>\n",
       "      <td>4ddf688088b0b404dc739602d0efa40f29662d81ad0b0c...</td>\n",
       "      <td>General Rozas y actuar de Carabineros: No es p...</td>\n",
       "      <td>[Abel Acuña, General Rozas]</td>\n",
       "      <td>2</td>\n",
       "    </tr>\n",
       "    <tr>\n",
       "      <th>3</th>\n",
       "      <td>4615e874256022f2d724bdaf9418e48bd159d7eb4c8033...</td>\n",
       "      <td>Bachelet por crisis en Bolivia: \"Esta situació...</td>\n",
       "      <td>[Bachelet]</td>\n",
       "      <td>1</td>\n",
       "    </tr>\n",
       "    <tr>\n",
       "      <th>4</th>\n",
       "      <td>266463d44ea2a15ade44c267ea2de44ff6e85c4a814c0b...</td>\n",
       "      <td>Tsitsipas vence a Thiem en dramático duelo y s...</td>\n",
       "      <td>[Thiem, Tsitsipas]</td>\n",
       "      <td>2</td>\n",
       "    </tr>\n",
       "  </tbody>\n",
       "</table>\n",
       "</div>"
      ],
      "text/plain": [
       "                                                  id  \\\n",
       "0  14fae92262bf935db2acd1b27326a7ce832446f3ae29f4...   \n",
       "1  0ebd40ff8cf0d0e72d33595efd0d55e3f29bd63c5255ce...   \n",
       "2  4ddf688088b0b404dc739602d0efa40f29662d81ad0b0c...   \n",
       "3  4615e874256022f2d724bdaf9418e48bd159d7eb4c8033...   \n",
       "4  266463d44ea2a15ade44c267ea2de44ff6e85c4a814c0b...   \n",
       "\n",
       "                                               title  \\\n",
       "0  Incendio en el centro de Iquique dejó al menos...   \n",
       "1  EE.UU. sanciona al ministro del Interior cuban...   \n",
       "2  General Rozas y actuar de Carabineros: No es p...   \n",
       "3  Bachelet por crisis en Bolivia: \"Esta situació...   \n",
       "4  Tsitsipas vence a Thiem en dramático duelo y s...   \n",
       "\n",
       "                personas_title  personas_title_count  \n",
       "0                           []                     0  \n",
       "1                           []                     0  \n",
       "2  [Abel Acuña, General Rozas]                     2  \n",
       "3                   [Bachelet]                     1  \n",
       "4           [Thiem, Tsitsipas]                     2  "
      ]
     },
     "execution_count": 8,
     "metadata": {},
     "output_type": "execute_result"
    }
   ],
   "source": [
    "import spacy\n",
    "\n",
    "try:\n",
    "    GPU_ACTIVE = spacy.require_gpu()\n",
    "except Exception:\n",
    "    GPU_ACTIVE = spacy.prefer_gpu()\n",
    "\n",
    "MODEL_NAME = 'es_core_news_md'\n",
    "nlp = spacy.load(MODEL_NAME)\n",
    "for pipe_name in ['tok2vec', 'morphologizer', 'tagger', 'parser', 'attribute_ruler', 'lemmatizer']:\n",
    "    if pipe_name in nlp.pipe_names:\n",
    "        nlp.disable_pipe(pipe_name)\n",
    "\n",
    "BATCH_SIZE = 4096\n",
    "N_PROCESS = 12\n",
    "TARGET_LABELS = {'PER', 'PERSON'}\n",
    "\n",
    "def iter_person_entities(texts, batch_size=BATCH_SIZE, n_process=N_PROCESS):\n",
    "    for doc in nlp.pipe(texts, batch_size=batch_size, n_process=n_process):\n",
    "        yield sorted({ent.text for ent in doc.ents if ent.label_ in TARGET_LABELS})\n",
    "\n",
    "persons = list(iter_person_entities(df['title'].fillna('')))\n",
    "df['personas_title'] = persons\n",
    "df['personas_title_count'] = [len(p) for p in persons]\n",
    "df[['id', 'title', 'personas_title', 'personas_title_count']].head(5)\n"
   ]
  },
  {
   "cell_type": "markdown",
   "id": "a905aa5f",
   "metadata": {},
   "source": [
    "### Procesamiento por lotes para el dataset completo\n",
    "Ejemplo de flujo para anotar todas las noticias en chunks y guardar resultados incrementales.\n"
   ]
  },
  {
   "cell_type": "code",
   "execution_count": 9,
   "id": "ff518397",
   "metadata": {},
   "outputs": [
    {
     "name": "stdout",
     "output_type": "stream",
     "text": [
      "Chunk 0 guardado con 250,000 filas\n",
      "Chunk 1 guardado con 250,000 filas\n",
      "Chunk 2 guardado con 250,000 filas\n",
      "Chunk 3 guardado con 250,000 filas\n",
      "Chunk 4 guardado con 250,000 filas\n",
      "Chunk 5 guardado con 250,000 filas\n",
      "Chunk 6 guardado con 250,000 filas\n",
      "Chunk 7 guardado con 250,000 filas\n",
      "Chunk 8 guardado con 250,000 filas\n",
      "Chunk 9 guardado con 250,000 filas\n",
      "Chunk 10 guardado con 250,000 filas\n",
      "Chunk 11 guardado con 159,528 filas\n",
      "Procesamiento completado\n"
     ]
    }
   ],
   "source": [
    "from pathlib import Path\n",
    "\n",
    "def annotate_dataset(csv_path, chunksize=250_000, batch_size=BATCH_SIZE, n_process=N_PROCESS):\n",
    "    read_kwargs = {}\n",
    "    if LOAD_COLUMNS:\n",
    "        read_kwargs['usecols'] = LOAD_COLUMNS\n",
    "    for chunk_idx, chunk in enumerate(pd.read_csv(csv_path, chunksize=chunksize, **read_kwargs)):\n",
    "        chunk['title_normalized'] = chunk['title'].fillna('').map(normalize_title)\n",
    "        persons_chunk = list(iter_person_entities(chunk['title'].fillna(''), batch_size=batch_size, n_process=n_process))\n",
    "        chunk['personas_title'] = persons_chunk\n",
    "        chunk['personas_title_count'] = [len(p) for p in persons_chunk]\n",
    "        yield chunk\n",
    "\n",
    "# Ejemplo de persistencia incremental en CSV (ajusta la ruta a tus necesidades).\n",
    "output_path = Path('data/processed/noticias_personas.csv')\n",
    "output_path.parent.mkdir(parents=True, exist_ok=True)\n",
    "for idx, processed_chunk in enumerate(annotate_dataset(data_path)):\n",
    "    processed_chunk.to_csv(\n",
    "        output_path,\n",
    "        mode='a',\n",
    "        index=False,\n",
    "        header=idx == 0\n",
    "    )\n",
    "    print(f'Chunk {idx} guardado con {len(processed_chunk):,} filas')\n",
    "\n",
    "print('Procesamiento completado')\n"
   ]
  },
  {
   "cell_type": "markdown",
   "id": "59b1d9f1",
   "metadata": {},
   "source": [
    "### Enriquecer archivos procesados existentes con `body`\n",
    "Fusiona `data/processed/noticias_personas.csv` con el texto original desde `data/raw/noticias.csv` usando `id`.\n",
    "El flujo usa DuckDB para evitar cargar los ~6 millones de filas íntegramente en pandas.\n"
   ]
  },
  {
   "cell_type": "code",
   "execution_count": null,
   "id": "51fd3cb9",
   "metadata": {},
   "outputs": [
    {
     "ename": "AttributeError",
     "evalue": "'DataFrame' object has no attribute 'csv'",
     "output_type": "error",
     "traceback": [
      "\u001b[1;31m---------------------------------------------------------------------------\u001b[0m",
      "\u001b[1;31mAttributeError\u001b[0m                            Traceback (most recent call last)",
      "\u001b[1;32m~\\AppData\\Local\\Temp\\ipykernel_10920\\2385476733.py\u001b[0m in \u001b[0;36m?\u001b[1;34m()\u001b[0m\n\u001b[0;32m     13\u001b[0m \u001b[1;31m# --- Merge por 'id' ---\u001b[0m\u001b[1;33m\u001b[0m\u001b[1;33m\u001b[0m\u001b[0m\n\u001b[0;32m     14\u001b[0m \u001b[0mdf_merged\u001b[0m \u001b[1;33m=\u001b[0m \u001b[0mdf_personas\u001b[0m\u001b[1;33m.\u001b[0m\u001b[0mmerge\u001b[0m\u001b[1;33m(\u001b[0m\u001b[0mdf_raw\u001b[0m\u001b[1;33m,\u001b[0m \u001b[0mon\u001b[0m\u001b[1;33m=\u001b[0m\u001b[1;34m\"id\"\u001b[0m\u001b[1;33m,\u001b[0m \u001b[0mhow\u001b[0m\u001b[1;33m=\u001b[0m\u001b[1;34m\"left\"\u001b[0m\u001b[1;33m)\u001b[0m\u001b[1;33m\u001b[0m\u001b[1;33m\u001b[0m\u001b[0m\n\u001b[0;32m     15\u001b[0m \u001b[1;33m\u001b[0m\u001b[0m\n\u001b[0;32m     16\u001b[0m \u001b[1;31m# --- Guardar a parquet ---\u001b[0m\u001b[1;33m\u001b[0m\u001b[1;33m\u001b[0m\u001b[0m\n\u001b[1;32m---> 17\u001b[1;33m \u001b[0mdf_merged\u001b[0m\u001b[1;33m.\u001b[0m\u001b[0mcsv\u001b[0m\u001b[1;33m(\u001b[0m\u001b[0moutput_path\u001b[0m\u001b[1;33m,\u001b[0m \u001b[0mindex\u001b[0m\u001b[1;33m=\u001b[0m\u001b[1;32mFalse\u001b[0m\u001b[1;33m)\u001b[0m\u001b[1;33m\u001b[0m\u001b[1;33m\u001b[0m\u001b[0m\n\u001b[0m\u001b[0;32m     18\u001b[0m \u001b[1;33m\u001b[0m\u001b[0m\n\u001b[0;32m     19\u001b[0m \u001b[0mprint\u001b[0m\u001b[1;33m(\u001b[0m\u001b[1;33mf\"\u001b[0m\u001b[1;33mArchivo enriquecido guardado en: \u001b[0m\u001b[1;33m{\u001b[0m\u001b[0moutput_path\u001b[0m\u001b[1;33m}\u001b[0m\u001b[1;33m\"\u001b[0m\u001b[1;33m)\u001b[0m\u001b[1;33m\u001b[0m\u001b[1;33m\u001b[0m\u001b[0m\n\u001b[0;32m     20\u001b[0m \u001b[0mprint\u001b[0m\u001b[1;33m(\u001b[0m\u001b[0mdf_merged\u001b[0m\u001b[1;33m.\u001b[0m\u001b[0mhead\u001b[0m\u001b[1;33m(\u001b[0m\u001b[1;33m)\u001b[0m\u001b[1;33m)\u001b[0m\u001b[1;33m\u001b[0m\u001b[1;33m\u001b[0m\u001b[0m\n",
      "\u001b[1;32mc:\\Users\\benja\\AppData\\Local\\Programs\\Python\\Python312\\Lib\\site-packages\\pandas\\core\\generic.py\u001b[0m in \u001b[0;36m?\u001b[1;34m(self, name)\u001b[0m\n\u001b[0;32m   6295\u001b[0m             \u001b[1;32mand\u001b[0m \u001b[0mname\u001b[0m \u001b[1;32mnot\u001b[0m \u001b[1;32min\u001b[0m \u001b[0mself\u001b[0m\u001b[1;33m.\u001b[0m\u001b[0m_accessors\u001b[0m\u001b[1;33m\u001b[0m\u001b[1;33m\u001b[0m\u001b[0m\n\u001b[0;32m   6296\u001b[0m             \u001b[1;32mand\u001b[0m \u001b[0mself\u001b[0m\u001b[1;33m.\u001b[0m\u001b[0m_info_axis\u001b[0m\u001b[1;33m.\u001b[0m\u001b[0m_can_hold_identifiers_and_holds_name\u001b[0m\u001b[1;33m(\u001b[0m\u001b[0mname\u001b[0m\u001b[1;33m)\u001b[0m\u001b[1;33m\u001b[0m\u001b[1;33m\u001b[0m\u001b[0m\n\u001b[0;32m   6297\u001b[0m         \u001b[1;33m)\u001b[0m\u001b[1;33m:\u001b[0m\u001b[1;33m\u001b[0m\u001b[1;33m\u001b[0m\u001b[0m\n\u001b[0;32m   6298\u001b[0m             \u001b[1;32mreturn\u001b[0m \u001b[0mself\u001b[0m\u001b[1;33m[\u001b[0m\u001b[0mname\u001b[0m\u001b[1;33m]\u001b[0m\u001b[1;33m\u001b[0m\u001b[1;33m\u001b[0m\u001b[0m\n\u001b[1;32m-> 6299\u001b[1;33m         \u001b[1;32mreturn\u001b[0m \u001b[0mobject\u001b[0m\u001b[1;33m.\u001b[0m\u001b[0m__getattribute__\u001b[0m\u001b[1;33m(\u001b[0m\u001b[0mself\u001b[0m\u001b[1;33m,\u001b[0m \u001b[0mname\u001b[0m\u001b[1;33m)\u001b[0m\u001b[1;33m\u001b[0m\u001b[1;33m\u001b[0m\u001b[0m\n\u001b[0m",
      "\u001b[1;31mAttributeError\u001b[0m: 'DataFrame' object has no attribute 'csv'"
     ]
    }
   ],
   "source": [
    "import pandas as pd\n",
    "from pathlib import Path\n",
    "\n",
    "# --- Rutas ---\n",
    "processed_path = Path(\"data/processed/noticias_personas.csv\")\n",
    "raw_body_path  = Path(\"data/raw/noticias.csv\")\n",
    "output_path    = Path(\"data/processed/noticias_personas_con_body.csv\")\n",
    "\n",
    "# --- Cargar dataframes ---\n",
    "df_personas = pd.read_csv(processed_path)\n",
    "df_raw      = pd.read_csv(raw_body_path, usecols=[\"id\", \"body\"])  # solo tomamos id y body\n",
    "\n",
    "# --- Merge por 'id' ---\n",
    "df_merged = df_personas.merge(df_raw, on=\"id\", how=\"left\")\n"
   ]
  },
  {
   "cell_type": "code",
   "execution_count": 32,
   "id": "6d95160a",
   "metadata": {},
   "outputs": [
    {
     "name": "stdout",
     "output_type": "stream",
     "text": [
      "Archivo enriquecido guardado en: data\\processed\\noticias_personas_con_body.csv\n",
      "                                                  id  \\\n",
      "0  14fae92262bf935db2acd1b27326a7ce832446f3ae29f4...   \n",
      "1  0ebd40ff8cf0d0e72d33595efd0d55e3f29bd63c5255ce...   \n",
      "2  4ddf688088b0b404dc739602d0efa40f29662d81ad0b0c...   \n",
      "3  4615e874256022f2d724bdaf9418e48bd159d7eb4c8033...   \n",
      "4  266463d44ea2a15ade44c267ea2de44ff6e85c4a814c0b...   \n",
      "\n",
      "                                               title      source country  \\\n",
      "0  Incendio en el centro de Iquique dejó al menos...  24horas.cl   Chile   \n",
      "1  EE.UU. sanciona al ministro del Interior cuban...  24horas.cl   Chile   \n",
      "2  General Rozas y actuar de Carabineros: No es p...  24horas.cl   Chile   \n",
      "3  Bachelet por crisis en Bolivia: \"Esta situació...  24horas.cl   Chile   \n",
      "4  Tsitsipas vence a Thiem en dramático duelo y s...  24horas.cl   Chile   \n",
      "\n",
      "  publish_date        platform  \\\n",
      "0   2019-11-17  Event Registry   \n",
      "1   2019-11-17  Event Registry   \n",
      "2   2019-11-17  Event Registry   \n",
      "3   2019-11-17  Event Registry   \n",
      "4   2019-11-17  Event Registry   \n",
      "\n",
      "                                    title_normalized  \\\n",
      "0  incendio en el centro de iquique dejó al menos...   \n",
      "1  ee.uu. sanciona al ministro del interior cuban...   \n",
      "2  general rozas y actuar de carabineros: no es p...   \n",
      "3  bachelet por crisis en bolivia: \"esta situació...   \n",
      "4  tsitsipas vence a thiem en dramático duelo y s...   \n",
      "\n",
      "                    personas_title  personas_title_count  \\\n",
      "0                               []                     0   \n",
      "1                               []                     0   \n",
      "2  ['Abel Acuña', 'General Rozas']                     2   \n",
      "3                     ['Bachelet']                     1   \n",
      "4           ['Thiem', 'Tsitsipas']                     2   \n",
      "\n",
      "                                                body  \n",
      "0  Durante la madrugada de este domingo, un incen...  \n",
      "1  Según el comunicado difundido por la oficina d...  \n",
      "2  El General Director de Carabineros leyó un com...  \n",
      "3  La Alta Comisionada de la ONU para los Derecho...  \n",
      "4  El griego venció al pupilo de Nicolás Massú y ...  \n"
     ]
    }
   ],
   "source": [
    "\n",
    "df_merged.to_csv(output_path, index=False)\n",
    "\n",
    "print(f\"Archivo enriquecido guardado en: {output_path}\")\n",
    "print(df_merged.head())\n",
    "\n"
   ]
  },
  {
   "cell_type": "markdown",
   "id": "b0f7d98c",
   "metadata": {},
   "source": [
    "# Pre filtrado de noticias"
   ]
  },
  {
   "cell_type": "code",
   "execution_count": 34,
   "id": "9221a38f",
   "metadata": {},
   "outputs": [],
   "source": [
    "df = pd.read_csv('data/processed/noticias_personas_con_body.csv')\n",
    "\n"
   ]
  },
  {
   "cell_type": "code",
   "execution_count": 41,
   "id": "5dfab820",
   "metadata": {},
   "outputs": [
    {
     "data": {
      "application/vnd.microsoft.datawrangler.viewer.v0+json": {
       "columns": [
        {
         "name": "index",
         "rawType": "int64",
         "type": "integer"
        },
        {
         "name": "id",
         "rawType": "object",
         "type": "string"
        },
        {
         "name": "title",
         "rawType": "object",
         "type": "unknown"
        },
        {
         "name": "source",
         "rawType": "object",
         "type": "string"
        },
        {
         "name": "country",
         "rawType": "object",
         "type": "string"
        },
        {
         "name": "publish_date",
         "rawType": "datetime64[ns]",
         "type": "datetime"
        },
        {
         "name": "platform",
         "rawType": "object",
         "type": "string"
        },
        {
         "name": "title_normalized",
         "rawType": "object",
         "type": "unknown"
        },
        {
         "name": "personas_title",
         "rawType": "object",
         "type": "string"
        },
        {
         "name": "personas_title_count",
         "rawType": "int64",
         "type": "integer"
        },
        {
         "name": "body",
         "rawType": "object",
         "type": "string"
        },
        {
         "name": "year_month",
         "rawType": "period[M]",
         "type": "unknown"
        }
       ],
       "ref": "74a9aabb-ef02-41d1-b5ce-acbf1d90ffef",
       "rows": [
        [
         "0",
         "14fae92262bf935db2acd1b27326a7ce832446f3ae29f48ba3f8b55cf9e27178",
         "Incendio en el centro de Iquique dejó al menos tres fallecidos",
         "24horas.cl",
         "Chile",
         "2019-11-17 00:00:00",
         "Event Registry",
         "incendio en el centro de iquique dejó al menos tres fallecidos",
         "[]",
         "0",
         "Durante la madrugada de este domingo, un incendio afectó a viviendas en el centro de Iquique, dejando al menos tres personas fallecidas.\n\nLas llamas afectaron al menos a tres viviendas ubicadas en la intersección de calles Thompson con Barros Arana.\n\nEl comandante de Bomberos Jorge Medina indicó a Radio Bío Bío que \"en el trabajo de búsqueda, lamentablemente podemos confirmar que hay tres personas fallecidas en esta alarma de incendio\". El voluntario indicó que las llamas afectaron a 10 habitaciones y tres locales comerciales; y que al menos tres personas fueron encontradas calcinadas: una adulta y dos menores de edad.\n\n\"Los cuerpos ya fueron encontrados al interior del recinto y estamos a la espera de personal de la Brigada de Homicidios para iniciar la investigación correspondiente. El incendio ocurre a las 1:10 horas. En el lugar se presentan ocho compañías\", añadió el bombero.\n\nAdemás, la encargada de emergencias de la Municipalidad de Iquique, Vanessa Bravo, expresó al medio citado que \"por calle Thompson logramos identificar, de un total de seis viviendas revisadas, se logró llegar a un catastro parcial de seis personas afectadas de diversa consideración, principalmente por afectación de agua; dos personas damnificadas de la dirección Thompson #833. Aún está pendiente el levantamiento por calle Barros Arana. Estimativamente tenemos una consideración de entre 10 y 20 personas que podrían estar con algún nivel de damnificación o afectación\".",
         "2019-11"
        ],
        [
         "1",
         "0ebd40ff8cf0d0e72d33595efd0d55e3f29bd63c5255ce9795cb5a64c5a51bd6",
         "EE.UU. sanciona al ministro del Interior cubano por su \"participación\" en violaciones de DD.HH. en Venezuela",
         "24horas.cl",
         "Chile",
         "2019-11-17 00:00:00",
         "Event Registry",
         "ee.uu. sanciona al ministro del interior cubano por su \"participación\" en violaciones de dd.hh. en venezuela",
         "[]",
         "0",
         "Según el comunicado difundido por la oficina de Mike Pompeo, ni Julio César Gandarilla ni sus hijos podrán entrar en Estados Unidos.\n\nEl Departamento de Estado estadounidense ha sancionado este sábado al ministro del Interior de Cuba, Julio César Gandarilla, por su \"participación y responsabilidad\" en las \"graves\" violaciones de Derechos Humanos en Venezuela.\n\nSegún el comunicado difundido por la oficina de Mike Pompeo, ni Gandarilla ni sus hijos, Julio César Gandarilla y Alejandro Gandarilla, podrán entrar en Estados Unidos.\n\nEsta decisión se ha tomado en virtud de una norma que especifica que, si el secretario de Estado tiene \"información creíble\" de que funcionarios extranjeros están involucrados en una \"corrupción significativa o grave\" de los Derechos Humanos, Estados Unidos puede vetar la entrada del funcionario en cuestión y sus familiares inmediatos al país, según el comunicado.\n\nAsimismo, el comunicado también alude a que el Ministerio del Interior de Cuba es \"responsable de arrestar y detener arbitrariamente a miles de ciudadanos cubanos y encarcelar ilegalmente a más de 100 presos políticos\" en el país.\n\n\"Los funcionarios del Ministerio han supervisado la tortura de disidentes políticos, detenidos y prisioneros, así como el asesinato de algunas de estas personas por la Policía y las fuerzas de seguridad\", ha indicado la oficina de Pompeo.\n\n\"Gandarilla es cómplice de la vigilancia arbitraria o ilegal de estos grupos, ya sean ciudadanos o visitantes\", ha zanjado el comunicado, que ha hecho hincapié en el apoyo estadounidense a los pueblos cubano y venezolano.",
         "2019-11"
        ],
        [
         "2",
         "4ddf688088b0b404dc739602d0efa40f29662d81ad0b0c011f85cc2008573b10",
         "General Rozas y actuar de Carabineros: No es posible asegurar que haya incidido en el lamentable deceso de Abel Acuña",
         "24horas.cl",
         "Chile",
         "2019-11-17 00:00:00",
         "Event Registry",
         "general rozas y actuar de carabineros: no es posible asegurar que haya incidido en el lamentable deceso de abel acuña",
         "['Abel Acuña', 'General Rozas']",
         "2",
         "El General Director de Carabineros leyó un comunicado donde aseveró que los uniformados trabajaron en condiciones visibilidad adversa el viernes en Plaza Italia. Además, aseguró que los perdigones usados son de goma y que pedirá análisis a una universidad extranjera y laboratorio externo.\n\nEl General Director de Carabineros, Mario Rozas, brindó un punto de prensa durante la jornada de este domingo donde leyó un comunicado, señalando las dificultades de visibilidad que tuvieron los uniformados mientras operaban en Plaza Italia al momento del fallecimiento de Abel Acuña el pasado viernes.\n\nLa máxima autoridad de Carabineros señaló que, debido a que había más de mil personas, el lanzamiento de artefactos incendiarios, la oscuridad y los punteros láseres, había \"poca visibilidad y condiciones muy complejas y adversas\".\n\nEs así como aseveró que \"con los antecedentes que hemos recopilado, no es posible asegurar que la operación de control de orden público haya incidido en el lamentable deceso de este joven\".\n\nPor otra parte, Rozas se refirió al estudio realizado por el Departamento de Ingeniería Mecánica de la Universidad de Chile, el que asegura que la composición de los perdigones usados por Carabineros tienen solo el 20% de goma, conteniendo varios metales, entre ellos, plomo.\n\nEl General Director aseveró que el material de los perdigones \"sí es de goma. De acuerdo a un análisis del labocar, también da cuenta que son de goma\", anunciando que se le pedirá a la empresa proveedora una auditoría, como también un análisis a un laboratorio externo y a una universidad extranjera.\n\nTambién quiso recordar que en las manifestaciones \"no solo Carabineros de Chile ha usado escopetas\", añadiendo que \"el uso de la escopeta se acotó solo para casos de inminente peligro para carabineros y civiles\".\n\nRozas añadió su deseo de \"una vez más expresar nuestro compromiso con el respeto irrestricto por los derechos humanos\", junto con agradecer \"las muestras de cariño y afecto\" que la institución ha recibido.\n\nFinalmente, el General Directo agregó que \"hago un llamado a la tranquilidad, tolerancia y la prudencia, confiemos en nuestras autoridades que serán capaz de restablecer la paz social\".",
         "2019-11"
        ],
        [
         "3",
         "4615e874256022f2d724bdaf9418e48bd159d7eb4c8033bf0a7d872e42142bd7",
         "Bachelet por crisis en Bolivia: \"Esta situación no será resuelta por medio de la fuerza y la represión\"",
         "24horas.cl",
         "Chile",
         "2019-11-17 00:00:00",
         "Event Registry",
         "bachelet por crisis en bolivia: \"esta situación no será resuelta por medio de la fuerza y la represión\"",
         "['Bachelet']",
         "1",
         "La Alta Comisionada de la ONU para los Derechos Humanos expresó su preocupación sobre \"que la situación pueda salirse de control si las autoridades no la manejan cuidadosamente\".\n\nDurante este sábado, la Alta Comisionada de la ONU para los Derechos Humanos, Michelle Bachelet, se refirió a la crisis por la que atraviesa Bolivia, reportando que ha recibido denuncias de muertes de al menos cinco manifestantes en Cochabamba \"presuntamente a consecuencia del uso de munición letal por parte de las fuerzas de seguridad\".\n\n\"Tenemos información de que al menos 17 personas han fallecido en el contexto de las protestas, incluidas 14 sólo en los últimos seis días\", añadió la autoridad de la ONU.\n\nRespecto al actuar de la policía, Bachelet indicó que \"mientras que las primeras muertes se produjeron como resultado de enfrentamientos violentos entre manifestantes rivales, las más recientes parecen derivar de un uso innecesario o desproporcionado de la fuerza por parte de personal policial o militar\".\n\nJunto con condenar los fallecimientos, la Alta Comisionada sostuvo que \"realmente me preocupa que la situación en Bolivia pueda salirse de control si las autoridades no la manejan cuidadosamente, de acuerdo con las normas y estándares internacionales que rigen el uso de la fuerza, y con un respeto pleno por los derechos humanos\".\n\nEn una situación como esta, las acciones represivas de parte de las autoridades simplemente avivarán más esa ira, y pueden poner en peligro cualquier camino de diálogo posible\", insistió Bachelet.\n\n\"Esta situación no será resuelta por medio de la fuerza y la represión. Todos los sectores tienen el derecho a hacer oír sus voces, cuestión fundamental para la democracia. Insto a todos los actores, incluyendo a los manifestantes, a que renuncien a la violencia para transitar hacia una solución pacífica a la crisis actual\", finalizó.",
         "2019-11"
        ],
        [
         "4",
         "266463d44ea2a15ade44c267ea2de44ff6e85c4a814c0b7d13d9a1912456bdbf",
         "Tsitsipas vence a Thiem en dramático duelo y se consagra campeón del Masters de Londres",
         "24horas.cl",
         "Chile",
         "2019-11-17 00:00:00",
         "Event Registry",
         "tsitsipas vence a thiem en dramático duelo y se consagra campeón del masters de londres",
         "['Thiem', 'Tsitsipas']",
         "2",
         "El griego venció al pupilo de Nicolás Massú y se convirtió en el tenista más joven en ganar este torneo desde que Lleyton Hewitt lo obtuvo en el año 2001.\n\nStefanos Tsitsipas se convirtió en el primer griego en ganar las Finales ATP al remontar este domingo y vencer al austríaco Dominic Thiem por 6-7(6), 6-2 y 7-6(4) y convertirse, con 21 años y tres meses, en el más joven ganador de este torneo, desde que el australiano Lleyton Hewitt triunfó en 2001 en Sydney, con 20 años.\n\nEl joven ateniense, ganador el pasado año de las Finales ATP Nueva Generación en Milán, se recuperó anímicamente tras ceder en el desempate, para vencer a Thiem en dos horas y 35 minutos, y aunque terminó con síntomas de calambres se apuntó el título más importante de su incipiente carrera.\n\nLos estadounidenses John McEnroe (19 años y 11 meses), Pete Sampras (20 años y tres meses) y Andre Agassi (20 años y tres meses) fueron más precoces en ganar este evento. Curiosamente, ningún representante de EE.UU. ha triunfado en el mismo, desde hace 20 años, con Sampras imponiéndose en Hannover (Alemania).\n\nTsitsipas lleva ya cuatro títulos, tres este año: Marsella, Estoril y Londres, y en total tres en pista cubierta.\n\nEste es el cuarto año consecutivo en el que surge un nuevo campeón de este torneo, después de las victorias del británico Andy Murray (2016), el búlgaro Grigor Dimitrov (2017) y el alemán Alexander Zverev, el pasado año.",
         "2019-11"
        ],
        [
         "5",
         "5113b3e332f2e2a1b711c03f81abf0200deea6345c669d6fefc7f3ba8df0077b",
         "Las reuniones de trabajo \"inútiles\" son \"realmente una forma de terapia\"",
         "24horas.cl",
         "Chile",
         "2019-11-17 00:00:00",
         "Event Registry",
         "las reuniones de trabajo \"inútiles\" son \"realmente una forma de terapia\"",
         "[]",
         "0",
         "Según el profesor sueco Patrik Hall, las reuniones suelen ser desacreditadas \"de manera innecesaria\".\n\nLas reuniones laborales son una forma de \"terapia\", en vez de un lugar para tomar decisiones.\n\nEso es lo que consideran investigadores suecos en la Universidad de Malmö, quienes aseguran que las reuniones de trabajo pueden representar una oportunidad para que los empleados sean reconocidos o expresen su frustración.\n\nEl profesor Patrik Hall indica que este tipo de espacios se están volviendo cada vez más frecuentes a medida que crece el número de empleos gerenciales y de \"estrategia\", los cuales generan más convocaciones.\n\nSin embargo, Hall afirma que a pesar de que hay más reuniones, en estas \"se toman pocas decisiones\".\n\nEl profesor ha encontrado una aparente contradicción en cómo las personas pueden tener una opinión negativa sobre las reuniones de trabajo y a pesar de esto, su número sigue en aumento.\n\nHall explica que el aumento de las reuniones de trabajo refleja los cambios que se han estado efectuando en la fuerza laboral.\n\nCada vez hay menos personas haciendo cosas, pero a la vez son más las que se ven involucradas en roles que ameritan \"reuniones intensivas\", como los asesores, consultores y gerentes.\n\n\"La gente ya no hace cosas concretas\", dice Hall.\n\nY los roles gerenciales, que frecuentemente no están muy bien definidos, y donde \"la jerarquía no está tan clara\", están en aumento.\n\n\"Muchos gerentes no saben qué hacer\", opina el politólogo, y cuando están \"inseguros de su rol\", responden organizando más reuniones.\n\n\"A la gente le gusta hablar y esto les ayuda a encontrar un rol\", dice el profesor, quien además explica que este tipo de personas puede pasar la mitad de sus horas de trabajo en reuniones.\n\nLas reuniones laborales pueden despertar sentimientos de falta de propósito, según el profesor.\n\nNo obstante, él argumenta que a menudo se pierde el objetivo de ellas. En las que son especialmente largas, por ejemplo, su función puede volverse \"casi terapéutica\".\n\nIndependientemente del tema de discusión, sirven como \"oportunidad para quejarse y ser notado por sus colegas\".\n\nPero para los investigadores, las personas que asisten a muchas reuniones pueden perder la paciencia y pasar la mayor parte del tiempo jugando con sus teléfonos móviles.\n\nEl profesor Hall dice que, como resultado, las reuniones pueden ser desacreditadas \"de manera innecesaria\".\n\n\"Algunas personas lo encuentran frustrante y se preguntan por qué deben soportarlas\".\n\nSin embargo, el académico sueco explica que la negatividad con la que se perciben las reuniones puede deberse a que sus verdaderos propósitos son mal entendidos.\n\nMuchas reuniones internas, que se realizan regularmente, pueden parecer completamente \"inútiles\" para sus participantes, asegura.\n\nEl verdadero propósito de este tipo de reuniones podría ser el hacer valer la autoridad de una organización, para que los empleados recuerden que son parte de ella.\n\nEl experto recomienda reservar salas por períodos más cortos, ya que dice que las reuniones se extenderán para cumplir con el tiempo de duración estimado.\n\nAdemás resalta la importancia de la \"igualdad\" de sus participantes: \"Cuando tienes reuniones con colegas del mismo nivel logras discutir sobre las diferentes problemáticas que te interesa tratar\", señala.\n\nCuando las reuniones son controladas por personas con diferentes estatus, se convierten en una \"lucha de poder\" y dejan un sentido de frustración para la mayoría de sus participantes.\n\nDe la misma manera, el profesor sueco dice que las reuniones pueden convertirse injustamente en el foco de otras insatisfacciones.\n\n\"Las personas se sienten marginadas frecuentemente. Sienten que no tienen influencia ni posición. En estos casos, la percepción es que las reuniones no mejoran nada, sino que en realidad causan aún más frustración\".",
         "2019-11"
        ],
        [
         "6",
         "7bad4044f800edd3e76409de34bba26434618acddcdafba009b6c9dec54db3a5",
         "Al menos tres casas sufren daños por incendios forestales en Valparaíso",
         "24horas.cl",
         "Chile",
         "2019-11-17 00:00:00",
         "Event Registry",
         "al menos tres casas sufren daños por incendios forestales en valparaíso",
         "[]",
         "0",
         "Por su parte, la Onemi decidió evacuar las viviendas ubicadas en los sectores de Mesano Alto, calle Santa Rita, Aquiles Ramírez, Miguel Ángel y Chaparro.\n\nUna compleja situación se vive en la región de Valparaíso, donde incendios forestales han consumido más de dos mil hectáreas y aún se mantiene en alerta roja, al punto que incluso durante esta tarde las llamas afectaron a tres viviendas en el Cerro Jiménez.\n\nLas casas afectadas se encontraban en la parte alta de la calle Aquiles Ramírez, muy cercana al centro penitenciario de Valparaíso. En el sector se encuentran 12 Cuerpos de Bomberos de Valparaíso y Viña del Mar acompañados por personal de la Conaf, quienes han intentado contrarrestar el incendio en la parte alta de Valparaíso.\n\nLa Onemi decidió evacuar las casas de los sectores Mesano Alto, calle Santa Rita, Aquiles Ramírez, Miguel Ángel y Chaparro, cercanos a los incendios forestales que aún se encuentran activos, debido a las condiciones de viento que se han registrado durante esta tarde.\n\nEl trabajo de bomberos se ha enfocado en contener el fuego y evitar que llegue a la parte baja de Valparaíso. Además, gran cantidad de casas del sector son de material ligero, por lo que se ha procurado proteger su integridad alejando el fuego. Los mismos vecinos han salido a proteger sus viviendas y a apoyar la labor de bomberos.\n\nHasta ahora, se contabilizan 2.030 hectáreas consumidas por el fuego.",
         "2019-11"
        ],
        [
         "7",
         "82fdadd4cd749f1bbb63489f49f165ff2f1747cf29f7c83d609e3ae0de2deefd",
         "Realizan velatón en Plaza Italia por muerte de Abel Acuña y todos los fallecidos durante las manifestaciones ",
         "24horas.cl",
         "Chile",
         "2019-11-17 00:00:00",
         "Event Registry",
         "realizan velatón en plaza italia por muerte de abel acuña y todos los fallecidos durante las manifestaciones",
         "['Abel Acuña']",
         "1",
         "Decenas de personas se reunieron en el monumento del general Baquedano para recordar al joven fallecido durante las manifestaciones de este viernes.\n\nUn grupo de manifestantes llegó hasta la Plaza Italia la noche de este sábado para realizar una velatón en memoria de Abel Acuña y todos los fallecidos en el mes de movilizaciones.\n\nEsto ocurre luego que durante las manifestaciones del viernes falleciera Abel Acuña de un paro caridiorrespiratorio, según el parte médico, tras participar de una marcha.\n\nEn la ocasión, las personas exigieron que se sancione a los responsables de su deceso.\n\nSi bien la muerte del joven de 29 años motivó el que las personas se reunieran en el lugar que ha sido el epicentro de las manifestaciones, también se recordó a las otras personas que resultaron fallecidos a raíz de diferentes motivos durante las movilizaciones.\n\nTras el fallecimiento de Abel se anunciaron investigaciones de parte del Gobierno y del Instituto Nacional de Derechos Humanos para establecer las posibles responsabilidades del hecho.",
         "2019-11"
        ],
        [
         "8",
         "04fee7a06ff5ff7fd241d06cf818a6da8d71b1497c0f7676b212c6a325236735",
         "Por qué en Venezuela se protesta ahora menos que en otros países de América Latina",
         "24horas.cl",
         "Chile",
         "2019-11-17 00:00:00",
         "Event Registry",
         "por qué en venezuela se protesta ahora menos que en otros países de américa latina",
         "[]",
         "0",
         "La afluencia a las marchas convocadas por gobierno y oposición se reduce al mismo tiempo que la conflictividad aumenta en otros países de la región\n\nLa oposición venezolana, liderada por Juan Guaidó, volvió a protestar este sábado en diferentes lugares del país contra el gobierno del \"usurpador\" Nicolás Maduro.\n\nLa marcha convocada en Caracas, en la que Guaidó renovó sus llamamientos a la movilización popular para derribar a Maduro, terminó frente a la embajada de Bolivia, donde el dirigente opositor y el pequeño grupo de seguidores que le acompañó hasta allí cantaron el himno nacional.\n\nLa elección del punto final de concentración no fue casual.\n\nLa oposición venezolana esperaba que la renuncia de Evo Morales como presidente boliviano y su salida del país en medio de acusaciones de fraude electoral y presiones de la cúpula militar animarían a sus seguidores a echarse de nuevo multitudinariamente a las calles contra Maduro, como sucedió en los primeros meses del año, después de que Guaidó se declarara presidente interino y fuera reconocido como tal por Estados Unidos, y la mayoría de países de la Unión Europea y Latinoamérica.\n\nPero las protestas de este sábado, como otras convocadas últimamente, estuvieron lejos de ser masivas y la permanencia de Maduro en el poder no parece más amenazada que antes.\n\nLos venezolanos, que vivieron grandes manifestaciones y semanas de choques entre detractores del gobierno y sus fuerzas de seguridad en 2013, 2014 y 2017, se abstienen ahora mayoritariamente de participar en protestas de contenido político, una actitud que contrasta con la conflictividad creciente en otros países de la región.\n\nA la caída de Evo Morales en Bolivia, se suman las semanas de contestación a las que se enfrenta el gobierno de Sebastián Piñera en Chile y un inminente paro nacional en Colombia.\n\nAntes de eso, el presidente de Ecuador, Lenín Moreno, tuvo que anular la retirada de un subsidio a la gasolina que había anunciado ante la respuesta que encontró en las calles.\n\nAunque en Venezuela sigue habiendo con frecuencia pequeñas protestas por la falta de agua, gas o gasolina que sufren sus comunidades, las grandes movilizaciones han dejado de ser la tónica.\n\n¿Por qué la tradicionalmente agitada Venezuela va ahora a contracorriente?\n\nSabana Grande, en el centro de Caracas, era una de las zonas por las que debía discurrir la caravana opositora convocada por Guaidó para el sábado.\n\nUna de sus partidarias, la profesora jubilada Zuleyma Castro, explicó allí por qué cree que cada vez menos gente le sigue.\n\n\"Los meses que se gastaron en negociar con el gobierno le han restado fuerza\", indica a la entrada de un centro comercial en el que hay muchos más policías que manifestantes.\n\nLa oposición venezolana dejó de convocar protestas en las calles cuando el pasado mayo se inició -con la mediación de Noruega- una negociación con el gobierno.\n\nEl proceso fracasó, igual que el celebrado en República Dominicana entre 2017 y 2018, reforzando los argumentos de los sectores del ala más dura de la oposición, encabezados por María Corina Machado y su partido Vente Venezuela, que rechazan cualquier negociación con el gobierno\n\nMarielena Martínez, otra de las personas que sí iba a manifestarse en la zona de Chacaíto, cree que el diálogo fallido hizo aflorar \"divisiones en la oposición\".\n\nGuaidó volvió a prometer este sábado \"mantener la protesta hasta lograr la libertad\".\n\nLa señora Castro sigue creyendo en el liderazgo del dirigente de Voluntad Popular. \"¿A quién vamos a poner en su lugar?\", se pregunta. Pero encuestadoras como Delphos detectan ya un descenso de su crédito entre la población.\n\nSu rival Maduro tampoco sale favorecido en los sondeos y en las marchas progubernamentales, muchos de los asistentes suelen ser empleados públicos o pensionistas que reciben alguna compensación por acudir.\n\nLa desmovilización afecta a ambos bandos.\n\nRobinson Paternina acudió a las marchas convocadas por Guaidó a comienzos de año, pero este sábado BBC Mundo lo encontró haciendo cola en una licorería de la zona de Bello Monte. \"Antes había un río de gente en las marchas, pero ya no lo hay, porque no hay líderes\", dijo.\n\nPese a que a principios de año, Guaidó trató de descabalgar al chavismo mediante acciones fulgurantes y de impacto, como el intento de ingreso de la llamada \"ayuda humanitaria\" el 23 de febrero o el frustrado levantamiento militar del 30 de abril, ahora insiste en que \"no hay una fecha mágica\".\n\nPero en un país con una historia llena de golpes militares y caudillos que lo gobernaron de manera autoritaria resulta difícil hacer que ese mensaje cale.\n\nEl propio Paternina reclama dirigentes que \"hagan lo que hay que hacer, que digan que vamos a matarlos o a que nos maten\".\n\nA la hora en que Guaidó cerraba su marcha frente a la embajada boliviana, los seguidores del gobierno escuchaban en la otra punta de la ciudad a Diosdado Cabello, uno de los más poderosos dirigentes chavistas, clamar contra \"el golpe de Estado\" que derrocó a Evo Morales.\n\nMarchas de la oposición y contramarchas del gobierno son una constante en la historia reciente de Venezuela.\n\nPero en unas y en otras cada vez se ve menos gente.\n\nJosefina, hoy jubilada del sector del turismo, era asidua a las concentraciones del chavismo. Ha perdido esa vieja costumbre.\n\n\"Una marcha y marcha y al final todo sigue igual\", cuenta, mientras busca el puesto de fruta con el mejor precio en un mercadillo de la avenida Baralt, a poca distancia del Palacio de Miraflores. Ella, como tantos otros se queja de lo dura que se ha vuelto la vida en el país, golpeado por una grave crisis económica.\n\nEl efecto contagio de Bolivia que anhelaba la oposición no se ha producido, al menos de momento.\n\nSi Morales renunció cuando el alto mando militar y policial de su país le pidió que lo hiciera, en Venezuela, salvo esporádicas deserciones, las Fuerzas Armadas continúan del lado del gobierno.\n\nGeoff Ramsey, analista del centro de análisis Washington Office of Latin America, indica que \"Maduro construyó muchos lazos con los militares y ha mostrado mucha más habilidad para controlarlos que Morales\".\n\nLa falta de concreción de las amenazas de Estados Unidos contra Nicolás Maduro ha sido otra de las razones que han hecho desinflarse a la oposición.\n\nWashington repitió muchas veces aquello de que \"todas las opciones están sobre la mesa\" para derribar a Maduro, lo que parecía abrir la puerta a una intervención militar en Venezuela.\n\nPero el paso de los meses ha dejado claro que el gobierno de Donald Trump no va a ir más allá de la imposición de sanciones y la presión diplomática contra el mandatario chavista.\n\nAunque ha agravado sus problemas económicos, nada de eso ha servido para hacer caer al gobierno.\n\nLa noche antes de la movilización convocada para este sábado, encapuchados con armas largas irrumpieron en una oficina del partido de Guaidó en Caracas. Según quienes estaban allí, encañonaron a los presentes, les robaron sus pertenencias, y causaron destrozos.\n\nFue el último ejemplo de la intimidación y violencia que sufren con frecuencia los seguidores de la oposición.\n\nCuando en febrero, Guaidó movilizó a sus seguidores hacia la frontera con Colombia para apoyar la entrada de los insumos donados por sus aliados internacionales, grupos motorizados armados dispararon en la zona donde se hallaban los activistas sin que la Guardia Nacional, ampliamente desplegada allí, hiciera nada por impedirlo.\n\nUn informe de la alta comisionada de Naciones Unidas para los Derechos Humanos, Michelle Bachelet, reportó múltiples casos de \"uso excesivo de la fuerza\" contra los manifestantes por parte de las fuerzas de seguridad.\n\nEn una visita a Caracas, Bachelet dijo que también los seguidores del gobierno habían sido objeto de agresiones en el marco de las protestas, pero finalmente no incluyó ese extremo en su informe.\n\nEl peligro intrínseco a manifestarse también ha contribuido a disuadir a muchos de participar.\n\n\"Con las marchas no se gana nada y además se expone uno a que le caiga un perdigonazo\", dijo Josefina, que prefiere que no se difunda su apellido.\n\nSon muchos los venezolanos que, en estos duros momentos para ellos, ven prioritarias otras batallas.\n\nRobinson Paternina dijo: \"Antes me lo podía permitir, pero ahora no puedo perder un día de trabajo para asistir a una marcha\".\n\nJosefina corrobora: \"Mi marcha todos los días es para encontrar el agua y el gas, que no llegan a mi casa. No puedo perder el tiempo en otras cosas\".",
         "2019-11"
        ],
        [
         "9",
         "8ab2d7b9ffe88464b404bfd61f146ad781c80dc1d5e4a3e4e29d2c4250fcef55",
         "Afirman que Reinaldo Rueda tendría decidido renunciar a la Selección Chilena",
         "24horas.cl",
         "Chile",
         "2019-11-17 00:00:00",
         "Event Registry",
         "afirman que reinaldo rueda tendría decidido renunciar a la selección chilena",
         "['Afirman', 'Reinaldo Rueda']",
         "2",
         "El DT, que dejó entrever su postura durante esta semana, estaría cansado de los inconvenientes que ha tenido en las últimas semanas para trabajar.\n\nLuego de los problemas para contar con jugadores de la Sub 23 para un cuadrangular amistoso en España y la suspensión de los amistosos del combinado absoluto ante Bolivia y Perú, el entrenador de la Selección Chilena, Reinaldo Rueda, tendría decidido renunciar al banco de la 'Roja'.\n\nDe acuerdo a La Tercera, el oriundo de Cali está cansado de las dificultades que ha tenido para trabajar en medio del estallido social que se vive en el país.\n\nUna fuente de la interna de 'Juan Pinto Durán' reveló a la publicación que el otrora seleccionador de Ecuador, Colombia y Honduras está cansado de no poder trabajar tranquilo con el 'Equipo de Todos' y que tiene decidido dejar el banco del bicampeón de America.\n\n\"A muchos en Pinto Durán les ha dicho que ya tiene decidido renunciar\", expresaron desde el 'búnker' de la 'Roja'.\n\nEl pasado miércoles, Rueda ya puso en duda su continuidad al mando del combinado nacional. \"Si yo vengo a trabajar en fútbol y no hay fútbol, me tengo que ir. Los jugadores socialmente están muy identificados, pero después, esto cuando se va a normalizar, qué va a pasar, esa es la gran pregunta\", indicó.",
         "2019-11"
        ],
        [
         "10",
         "948773e2ba7008c2b9ebda47814204fb9cbab1d58b5254badd63b76a6fb7d299",
         "Rubilar repudia quema a sede del PS y funa a Beatriz Sánchez: \"No es el Chile que queremos\"",
         "24horas.cl",
         "Chile",
         "2019-11-17 00:00:00",
         "Event Registry",
         "rubilar repudia quema a sede del ps y funa a beatriz sánchez: \"no es el chile que queremos\"",
         "['Beatriz Sánchez', 'Rubilar']",
         "2",
         "La vocera de Gobierno, Karla Rubilar, repudió este domingo los últimos hechos de violencia en la política nacional, como la quema de la sede del Partido Socialista en Valdivia y la \"funa\" a Beatriz Sánchez cuando se acercó a Plaza Italia.\n\nA través de su cuenta oficial de Twitter, la secretaria de Estado expresó su \"repudio absoluto a quema de sede del PS en Valdivia y funa a Beatriz Sánchez\".\n\n\"Ése no es el Chile que queremos, que pone la democracia por delante y donde cada actor es fundamental para avanzar en el Acuerdo por la Paz y la justicia social\", añadió.\n\nFinalmente hizo un llamado a \"que la violencia no opaque las demandas ciudadanas\".\n\nCabe señalar que Beatriz Sánchez dio un punto de prensa este domingo frente al teatro de la Universidad de Chile ubicado en Plaza Italia, pero sufrió una especie de funa por parte de ciclistas que se encontraban manifestándose allí, quienes la increparon y trataron de \"vendida\" por la aprobación del Frente Amplio al acuerdo por una nueva Constitución.\n\nEn tanto, la sede del Partido Socialista en Valdivia fue quemada durante la noche del sábado, siendo uno de los hechos más graves ocurridos en las últimas horas.",
         "2019-11"
        ],
        [
         "11",
         "bc4da17a0d47be00e605174f3db39edf9ef5d71c5bb9b82aa6e9dc409d1de2fa",
         "Beatriz Sánchez: \"Nadie a puertas cerradas está escribiendo una Constitución\"",
         "24horas.cl",
         "Chile",
         "2019-11-17 00:00:00",
         "Event Registry",
         "beatriz sánchez: \"nadie a puertas cerradas está escribiendo una constitución\"",
         "['Beatriz Sánchez']",
         "1",
         "La excandidata presidencial del Frente Amplio se refirió positivamente al reciente acuerdo para escribir una nueva Constitución. Además, aseguró que \"la ciudadanía va a elegir en un plebiscito cómo la quiere escribir\".\n\nEn medio de un complejo momento para el Frente Amplio, la excandidata presidencial Beatriz Sánchez se refirió a la crisis social que se ha vivido el último mes en el país y al acuerdo transversal para elaborar una nueva Constitución.\n\n\"La ciudadanía va a elegir en un plebiscito cómo la quiere escribir, si con una convención o una asamblea constituyente, y va a ser la ciudadanía quien va a elegir a esos asambleistas y a decidir quiénes tienen que escribir la Constitución en una hoja en blanco\", detalló.\n\n\"Eso es solamente lo que se hizo, nada más, nadie que a puertas cerradas está escribiendo una Constitución, para que quede claro\", agregó. \"Insisto, lo que se presenta es un acuerdo no para hacer la Constitución, ahí yo entendería la acusación de las cuatro paredes, es un acuerdo para que haya un plebiscito y que la gente decida\", detalló la periodista.\n\nDel mismo modo, dedicó unos minutos a ofrecer su mirada sobre lo que ha ocurrido en las manifestaciones de las últimas semanas.\n\n\"Creo que hoy día más que mirarnos a nosotros mismos y hablar sobre lo que pasa dentro del Frente Amplio -ya habrá momento para eso-, creo que la importancia es lo que está afuera. Hoy día nos están matando, están violando mujeres, están afectando a niños, niñas y adolescentes, la atención está en tema de derechos humanos\", sostuvo.",
         "2019-11"
        ],
        [
         "12",
         "642b385deb80b08468487372b751b784db37d30e37db6946d65f066a32263917",
         "La influyente idea del economista y Premio Nobel que \"repetidamente falló en lograr su objetivo\"",
         "24horas.cl",
         "Chile",
         "2019-11-17 00:00:00",
         "Event Registry",
         "la influyente idea del economista y premio nobel que \"repetidamente falló en lograr su objetivo\"",
         "['Premio Nobel']",
         "1",
         "La idea del Nobel William Vickrey respecto a las tarifas que se debían cobrar por servicios surgió antes de que se pudiera poner en práctica pero el tiempo remedió el problema. ¿De qué se trata y cuán justa es?\n\nEn la década de 1950, el metro de Nueva York se enfrentó a un problema que es familiar para los usuarios del transporte público en todo el mundo.\n\nEn las horas punta, estaba abarrotado; en otras ocasiones, los trenes estaban vacíos.\n\nEl alcalde encargó un estudio, que concluyó que el problema era que los pasajeros del metro pagaban una tarifa plana. No importa dónde abordaban, qué tan lejos o cuándo viajaban, les costaba 10¢ de dólar.\n\n¿Habría algún enfoque más sofisticado? Quizás.\n\nEl prólogo del estudio destacaba una propuesta de uno de sus 17 autores, el economista William Vickrey.\n\n\"Abandonar la tarifa fija en favor de una estructura tarifaria que tenga en cuenta la duración, ubicación y hora del día del viaje es obviamente un paso sensato siempre que los problemas mecánicos involucrados puedan resolverse\", decía.\n\nLa idea básica de Vickrey era simple: cobrar más cuando los trenes estaban más ocupados.\n\nLos picos de demanda serían menos puntiagudos. El metro sería más cómodo y confiable, podría transportar a más personas sin necesidad de construir nuevas líneas y podría recaudar más dinero, todo a la vez. Una gran idea.\n\nPero, ¿cómo cobrar todos estos precios diferentes?\n\nReclutar un ejército de taquilleros e inspectores tomaría demasiado tiempo y dinero. Había que encontrar una solución automatizada.\n\nLo que se necesitaba era un torniquete que funcionara con monedas y que pudiera cobrar diferentes tarifas para diferentes viajes en diferentes momentos.\n\nPero eso no era fácil de conseguir en 1952.\n\nPara darte una idea de la magnitud del desafío para William Vickrey, piensa en el problema que enfrentó la compañía Coca-Cola.\n\nUna Coca-Cola había costado 5¢de dólar durante décadas.\n\nA la compañía le habría gustado aumentar el precio en un centavo o dos, pero no podía.\n\n¿Por qué? Sus 400.000 máquinas expendedoras solo aceptaban monedas de5¢ y rediseñarlas para que tomaran dos denominaciones diferentes de monedas era una pesadilla logística.\n\nEn 1953, Coca-Cola hasta trató de persuadir al presidente de EE.UU. Dwight Eisenhower de que introdujera una moneda de 7,5¢. No lo logró, y el precio de Coca-Cola se mantuvo en 5¢ hasta 1959.\n\nPero Vickrey no se dejó intimidar y describió un artilugio que resolvería el problema.\n\n\"Los pasajeros ponen 25¢ en el torniquete de entrada, reciben una placa de metal con muescas que indican la zona de origen; esa placa se inserta en un torniquete de salida, que, por un sistema electromagnético, les devuelve la cantidad adecuada de monedas de 5¢ dependiendo del origen y la hora del viaje\".\n\nVickrey suena inteligente, ¿no? Quizás te estés preguntando por qué no habías oído hablar de él.\n\nUna pista proviene del título del discurso en el que Vickrey dio esa descripción: \"Mis innovadores fracasos en economía\".\n\nY comenzó ese discurso diciendo: \"Están frente a un economista que ha fallado repetidamente en lograr su objetivo\".\n\nEl torniquete electromecánico de precio variable que Vickrey imaginó nunca se construyó.\n\nEntonces, ¿por qué estás leyendo un artículo sobre un invento inexistente?\n\nPorque la idea en sí era muy importante, incluso si inicialmente era demasiado complicada para ponerla en práctica.\n\nLos colegas economistas de Vickrey a menudo decían que estaba demasiado adelantado a su tiempo. Finalmente ganó el Premio Nobel Economía por su trabajo, en 1996, tres días antes de su muerte.\n\nVickrey estaba proponiendo lo que los economistas llaman a menudo \"precios de carga máxima\" y los consultores de gestión, \"precios dinámicos\".\n\nEn su forma más simple, es una vieja idea.\n\nDesde la década de 1920 hay restaurantes que ofrecen \"especiales para madrugadores\", precios más bajos para quienes cenan más temprano que la mayoría de la gente. Es conveniente para ambas partes y no requiere magia electromecánica.\n\nPero la idea es atractiva en entornos mucho más complejos.\n\nYa sea que estés a cargo de un sistema de metro o una aerolínea, tratando de llenar una sala de conciertos o equilibrar una red eléctrica, puede ser muy costoso agregar capacidad adicional solo para satisfacer un pico de demanda a corto plazo, y es un desperdicio cargar con esa capacidad que no es utilizada en otros momentos.\n\nLos precios variables tienen sentido.\n\nLas aerolíneas estadounidenses fueron unas de las pioneras de la idea, luego de que la desregulación significó que las compañías tenían que competir ferozmente a fines de la década de 1970.\n\nEn 1984, el diario Wall Street Journal informó que solo Delta Air Lines empleaba a 147 personas que se dedicaban a ajustar los precios sin cesar.\n\nHoy en día ya no se requiere un ejército de especialistas en precios.\n\nUna empresa como Uber puede aparejar sin esfuerzo la oferta y la demanda con un algoritmo dinámico de precios que eleva las tasas cuando hay alta demanda de vehículos y escasez de conductores disponibles.\n\nNo obstante, el sistema no está libre de controversia.\n\nLos consumidores pueden sentirse explotados por algunas formas de precios dinámicos, especialmente dado que los precios pueden duplicarse o reducirse a la mitad en cuestión de minutos.\n\nUn estudio de 1986 realizado por los científicos del comportamiento Daniel Kahneman, Jack Knetsch y Richard Thaler indicó que a la gente le exasperaba esa variación de tarifas.\n\nDe hecho, la experiencia de Coca-Cola probó lo mismo años antes.\n\nLa compañía, desesperada por la falta de una moneda de 7,5¢, intentó sin éxito otra solución tecnológica en 1999: una máquina expendedora que en días sofocantes elevaría el precio de una Coca-Cola helada. Fue tan impopular que la compañía tuvo que cancelar sus planes.\n\nPero es probable que el sistema de tarifas dinámicas desempeñen un papel cada vez más importante en la economía del futuro.\n\nImagínate, por ejemplo, una red eléctrica inteligente alimentada por fuentes de energía intermitentes como la energía eólica y solar.\n\nCuando una nube cubre el sol, tu computadora portátil podría decidir dejar de cargarse, tu congelador podría apagarse por un minuto o tu automóvil eléctrico podría incluso comenzar a bombear energía a la red en lugar de succionarla.\n\nTodo eso requeriría que esos dispositivos respondan a los cambios de precios segundo por segundo.\n\nA William Vickrey también le fascinaban las posibilidades ofrecidas por los cargos de congestión en las carreteras, diseñados -como su torniquete- para distribuir la demanda y garantizar que la capacidad limitada se usara bien.\n\nEso ahora se está haciendo realidad.\n\nLos conductores en Arlington, Virginia, cerca de Washington DC, pueden cambiar a un carril de flujo libre en la Interestatal 66 durante la hora pico si están dispuestos a pagar el cargo variable, que puede ser de hasta US$40 por 15 km., cuando hay mucho tráfico.\n\nVickrey había tratado de mostrar que esta idea podía funcionar, a mediados de la década de 1960: hizo un prototipo, usando una computadora simple y un transmisor de radio, para contar cada vez que llegaba y salía de su propia casa.\n\nPero al igual que con el torniquete, a veces las buenas ideas necesitan esperar a que la tecnología se ponga al día.",
         "2019-11"
        ],
        [
         "13",
         "53ff746af71296ab1079048e814207bb26628e35662a0de5da7c179d7fbb3d99",
         "Crisis en Bolivia: la tensión y escasez que viven los vecinos de La Paz tras la agudización de la violencia",
         "24horas.cl",
         "Chile",
         "2019-11-17 00:00:00",
         "Event Registry",
         "crisis en bolivia: la tensión y escasez que viven los vecinos de la paz tras la agudización de la violencia",
         "[]",
         "0",
         "Casi un mes de conflicto postelectoral tiene a la ciudad boliviana de La Paz en una encrucijada. A las protestas en las calles tras la elección presidencial del 20 de octubre se han añadido barricadas, enfrentamientos, violencia y signos de escasez en los mercados que tienen en zozobra a los paceños.\n\n\"¡Maya, Maya!\"... El grito rompe la frágil tranquilidad en la madrugada de La Paz este sábado.\n\nUno de los vigías vecinales había recibido el rumor de que un grupo de seguidores de Evo Morales estaba por ingresar por el céntrico barrio paceño donde Maya tiene una agencia de turismo.\n\nHoras antes, los vecinos advirtieron que un colectivo compuesto por decenas de personas -que no eran conocidas en la zona- aguardaba en una plazuela cercana y por ello decidieron cerrar los accesos.\n\nTechos de lámina metálica (chapa), tablas de madera, sacos de arena, piedras, alambres de púas y hasta lienzos de pinturas son usados para clausurar el paso en diferentes barrios de La Paz.\n\nLos múltiples enfrentamientos producidos desde que comenzó la actual crisis del país tienen en alerta a los habitantes de la ciudad sede de los poderes de Bolivia, fundamentalmente en los barrios en los que conviven seguidores y detractores del expresidente.\n\nEvo Morales, estando lejos del poder y de Bolivia, divide las aguas como pocas veces lo hizo a lo largo de su vida y las consecuencias se ven en las calles, en los ánimos de la gente y (en su peor versión) en la escalada de desinformación, prejuicios y racismo que afloran en uno y otro bando.\n\nEl exmandatario, quien renunció el 10 de noviembre asfixiado por las numerosas denuncias de fraude contra las elecciones del 20 octubre en las que se proclamó ganador, ahora se encuentra en México y desde allí anticipó que sus seguidores no abandonaran las movilizaciones hasta derrotar al \"golpe de Estado\" del que se declara víctima.\n\n\"Quiero que sepas: los movimientos sociales, el movimiento indígena o el pueblo alteño (de la ciudad aymara de El Alto) solo nosotros los podemos parar. Van a seguir combatiendo contra la dictadura\", dijo Morales en una reciente entrevista con el periodista Gerardo Lissardy de BBC Mundo.\n\nEn algunos puntos, si llegaste muy de noche y la barricada ya fue cerrada, tal vez tengas que volver y enfilar hacia la casa de un amigo o un familiar.\n\nLos cierres de paso comenzaron a aparecer a medida que el conflicto crecía, todavía con Evo en la primera magistratura de Bolivia.\n\nSin embargo, la tensión se multiplicó tras el anuncio de su renuncia y la movilización continua de seguidores \"evistas\" desde decenas de puntos de la ciudad que es la sede de los poderes de Bolivia.\n\nGraciela vive en una zona de La Paz donde existen muchos colegios y centros preescolares. Ella vive en el piso 10 de un edificio, pero aún así le resultó casi imposible dormir antes de las 2 de la mañana, \"cuando ya no se escuchan explosiones de dinamitas ni vidrios quebrándose\", durante esta última semana.\n\nA media cuadra de su casa está un centro preescolar que sufrió la rotura de los cristales de sus ventanas.\n\n\"Ni siquiera eso respetaron\", lamenta la mujer que asegura que los autores del ataque fueron partidarios del expresidente.\n\nEl ataque a la unidad educativa fue el pasado lunes, casi al mismo tiempo que Evo Morales se acomodaba en uno de los asientos del avión que después lo trasladó a México para iniciar su nueva vida como asilado político.\n\nGrupos de WhatsApp, alarmas sonoras y turnos rotativos fueron algunos de los recursos a los que apelaron los vecinos para defender sus casas ante la ola de rumores de posibles enfrentamientos o movilizaciones.\n\nAlgunos de los voluntarios eran recibidos en las salas de recepción de edificios de apartamentos para que recuperen fuerzas mientras otros tomaban la posta a lo largo de la noche.\n\nEn el otro extremo de La Paz, en un área más residencial, se encuentra Victoria.\n\nSería sencillo suponer que los barrios más acomodados de la ciudad gozan de mayor seguridad al estar alejados del centro y sus cotidianos conflictos, pero este no es el caso.\n\nEstas zonas de la urbe paceña son vecinas muy cercanas de barrios populares, donde la mayoría votó por Evo Morales el pasado 20 de octubre y donde muchos están dispuestos a seguir en las calles para defender al expresidente renunciado.\n\n\"Fueron noches terroríficas. Saquearon, apedrearon y quemaron\", indica la artista a BBC Mundo en referencia a episodios que se vivieron en muchos puntos de La Paz.\n\nUna de las víctimas de estas acciones fue el rector de la universidad pública paceña, Waldo Albarracín, quien es crítico al gobierno y fue parte de las movilizaciones en contra de Morales.\n\n\"Mi familia y yo nos encontramos bien y en un lugar seguro. Esta acción criminal demuestra el carácter violento y delincuencial del Movimiento al Socialismo (partido de Evo Morales)\", señaló la autoridad académica el 11 de noviembre, con un video de su casa siendo consumida por las llamas.\n\nOtros periodistas recibieron alertas de acciones similares e incluso el periódico Página Siete de La Paz suspendió su edición impresa durante unos días ante las amenazas que comenzaron a circular.\n\nCallapa queda a menos de 30 minutos de una zona con casas residenciales, salas múltiples de cine, restaurantes y el centro comercial más grande de La Paz.\n\nBasta cruzar un puente metálico para pasar de una calle con asfalto a este barrio cuya mayoría de las rutas son empedradas o de tierra.\n\n\"Nos están discriminando. Ya no podemos bajar a la ciudad porque nos quieren pegar y eso no es justo\", cuenta una mujer indígena que pide que su nombre no sea revelado por seguridad.\n\nLa señora denuncia que desde que se produjo el cambio de gobierno la policía ya no los protege y que por las noches se ven a individuos sospechosos vestidos de civil.\n\n\"Nosotros estamos aquí resguardando nuestro acceso al barrio. Si antes estaba todo más o menos, ahora la gente se tiene que levantar y se va a levantar. No puede haber muertos, no pueden estar matándonos. No somos animales\", indica a BBC Mundo.\n\nConsultada sobre las denuncias que llegan desde los barrios céntricos de la ciudad en los que se acusa a los seguidores de Evo de provocar destrozos y violencia, la mujer asegura que sucede lo contrario.\n\n\"Nosotros somos los que ahora resistimos gases y que los policías nos empujen y arrastren. Hay miedo en nuestros barrios, también en El Alto, pero igual salimos a marchar sin molestar a nadie\", señala, y asegura que los violentos son \"infiltrados y rateros que se aprovechan\".\n\nAñade que \"nada de eso comparten en el WhatsApp\".\n\nLa mujer aymara que vive en Callapa y Victoria, quienes tienen posiciones políticas enfrentadas y relatan lo que sucede en La Paz de manera muy distinta, coinciden en dos cosas.\n\nLa primera es el reclamo de que los medios de comunicación no muestran la zozobra por la que atraviesan noche tras noche.\n\nLa segunda es que ambas se levantaron muy temprano este sábado para comprar alimentos ante las primeras señales de escasez en la urbe paceña.\n\nDesde hace dos días que productos de canasta básica son cada vez más difíciles de conseguir y se venden a precios elevados.\n\nBBC Mundo visitó cinco de los principales mercados de la ciudad, en barrios residenciales como populares, y en ninguno de esos lugares pudo encontrar pollo.\n\nLos distribuidores señalan que los comerciantes \"están peleándose\" por conseguir este producto que llega desde otros departamentos debido a las protestas que impiden el paso de los camiones.\n\nLos huevos escasean en varios lugares y el precio de la carne de res se ha elevado en algunos sitios.\n\nEn dos de los mercados más importantes los portones fueron cerrados y los compradores deben acceder por estrechos pasos.\n\nSe tomó esa medida por el miedo a que grupos irrumpan de manera sorpresiva y comiencen a saquear los productos.\n\nCon los supermercados el panorama es similar. Muchos de ellos tienen tablones o techos de lámina protegiendo portales de vidrio y la gente hace fila para ingresar.\n\nUna vez adentro se repite la figura, los mostradores con carne vacuna y de pollo están casi vacíos y los clientes llenan sus carritos con enormes bolsas de arroz y azúcar que para una familia de cuatro personas le podrían durar todo un mes.\n\nMensajes y fotos enviadas a los teléfonos móviles multiplican los nervios: largas filas en los bancos y en los cajeros automáticos desatan el rumor de que el efectivo puede agotarse.\n\nDonde ya no hay filas es en las estaciones de gasolina y la escasez de combustible no distingue color político ni lugar de residencia.\n\nPor eso las calles de los barrios céntricos tienen cada vez menos autos circulando y las paradas de los buses que parten a poblaciones rurales tienen cada vez a más campesinos esperando a que aparezca un vehículo que los pueda devolver a sus casas.",
         "2019-11"
        ],
        [
         "14",
         "c15c8320beb7b0b89f680bd3c540cdfdd2a8c0e7bc521922c7e86aada4fcabea",
         "La CIDH denuncia que hay al menos 23 muertos y 715 heridos desde el inicio de la crisis en Bolivia",
         "24horas.cl",
         "Chile",
         "2019-11-17 00:00:00",
         "Event Registry",
         "la cidh denuncia que hay al menos 23 muertos y 715 heridos desde el inicio de la crisis en bolivia",
         "[]",
         "0",
         "La institución criticó el \"uso desproporcionado\" de la fuerza policial y militar y el uso de armas de fuego que, a su juicio, \"deben estar excluidas de los dispositivos utilizados para el control de las protestas sociales\".\n\nLa Comisión Interamericana de Derechos Humanos (CIDH) ha denunciado este domingo que al menos 23 personas han muerto y 715 han resultado heridas desde el inicio de la crisis en Bolivia con las elecciones del pasado 20 de octubre.\n\n\"Desde ayer son nueve fallecidos y 122 heridos desde la represión combinada de la Policía y las Fuerzas Armadas. Se totaliza por lo menos 23 personas muertas y 715 personas heridas desde el inicio de la crisis institucional y política\", ha indicado el organismo en su cuenta de Twitter.\n\nLa CIDH ha expresado repetidamente su preocupación por las acciones de las fuerzas de seguridad bolivianas en el marco de las protestas que se suceden en el país.\n\nAsí, ha criticado el \"uso desproporcionado\" de la fuerza policial y militar y el uso de armas de fuego que, a su juicio, \"deben estar excluidas de los dispositivos utilizados para el control de las protestas sociales\".\n\nAdemás, ha especificado que los estándares interamericanos establecen que debe limitarse \"al máximo\" la presencia de las Fuerzas Armadas en el control de disturbios y que el gas lacrimónego atenta \"gravemente\" contra los estándares jurídicos internacionales.\n\nLa crisis política en Bolivia estalló tras las elecciones presidenciales celebradas el pasado 20 de octubre. Morales proclamó su victoria mientras que la oposición denunció un \"fraude gigantesco\". La auditoría de la Organización de Estados Americanos (OEA) ha confirmado \"irregularidades\".\n\nMorales dimitió el domingo y el martes llegó a México en calidad de asilado político. Áñez se ha proclamado mandataria interina para evitar el vacío de poder dejado por la renuncia del líder indígena y otros altos cargos, asegurando que su objetivo es celebrar nuevas elecciones.\n\nA la dimisión de Morales se sumaron las de otros altos cargos, entre ellos los llamados a sustituirle conforme a la línea sucesoria trazada por la Constitución, por lo que Jeanine Áñez, en calidad de vicepresidenta segunda del Senado, asumió las riendas del país.\n\nÁñez ha prometido que se mantendrá en el poder sólo el tiempo que sea necesario para celebrar nuevas elecciones presidenciales, si bien ha aclarado que Morales no podrá competir en ellas, haciendo valer así el resultado del referéndum de 2017, que fue revertido por el Tribunal Constitucional.\n\nMorales y sus seguidores han calificado lo ocurrido de \"golpe de Estado\".",
         "2019-11"
        ],
        [
         "15",
         "782bb5e071b854384bede98f7e8fec91b551a640319385fcb7eb677ad32e500b",
         "Siete estaciones de Metro volverán a operar y habrá cambios en el funcionamiento de buses para este lunes 18",
         "24horas.cl",
         "Chile",
         "2019-11-17 00:00:00",
         "Event Registry",
         "siete estaciones de metro volverán a operar y habrá cambios en el funcionamiento de buses para este lunes 18",
         "[]",
         "0",
         "A partir de este lunes volverá a estar operativo el tramo de Metro desde Puente Alto a Quilín gracias a la habilitación de cinco estaciones en la Línea 4. Además, se suma la reapertura de San Joaquín y Estadio Nacional.\n\nEl ministerio de Transportes ha anunciado un plan para el funcionamiento de la locomoción en la capital para el próximo lunes 18. A las siete estaciones que se reabrirán se le suma una modificación en el recorrido de los buses.\n\nMetro de Santiago tendrá seis de sus siete líneas parcialmente operativas con 94 estaciones habilitadas de las 136 que tiene el servicio.\n\nEl servicio operará este lunes 18 de noviembre entre las 6:00 y las 20:00.\n\nDesde mañana abrirán las estaciones Vicuña Mackenna, Vicente Valdés, Sótero del Río, Las Mercedes y Plaza de Puente Alto, reactivando la operación del tramo Puente Alto - Quilín, lo que permitirá a los usuarios de esas zonas reducir enormemente sus tiempos de viaje hacia Tobalaba. A esto se sumará la apertura de la estación San Joaquín de la Línea 5 y Estadio Nacional de la Línea 6.\n\nLas líneas de Metro funcionarán del siguiente modo:\n\nLínea 1 entre Pajaritos y Los Dominicos (Neptuno y San Pablo no están disponibles) con las estaciones Baquedano y Santa Lucía cerradas y sin detención de trenes; mientras que Los Héroes estará disponible solo para realizar combinación entre Líneas 1 y 2.\n\nLínea 2 entre La Cisterna y Vespucio Norte: con servicio en El Parrón, Lo Ovalle, Ciudad del Niño, Lo Vial, San Miguel, El Llano, Franklin, Rondizzoni, Parque O'Higgins, Toesca, Santa Ana L2, Cal y Canto, Patronato, Cerro Blanco, Cementerios, Einstein, Dorsal Y Zapadores\n\nLínea 3: con servicio en Los Libertadores, Vivaceta, Conchalí, Plaza Chacabuco, Hospitales, Cal y Canto, Plaza de Armas L3, Universidad de Chile L3, Matta, Irarrázaval L3, Monseñor Eyzaguirre, Ñuñoa, Chile España, Villa Frei, Plaza Egaña y Fernando Castillo Velasco.\n\nLínea 4 entre PlazaPuente Alto y Tobalaba: con detención en Cristóbal Colón, Francisco Bilbao, Príncipe de Gales, Simón Bolívar, Plaza Egaña, Los Orientales, Grecia, Los Presidentes, Quilín, Vicuña Mackenna, Vicente Valdés, Sótero del Río, Las Mercedes y Plaza de Puente Alto.\n\nLínea 4ª: completamente cerrada.\n\nLínea 5 entre Quinta Normal y Vicente Valdés: con detenciones en Santa Ana L5, Plaza de Armas, Bellas Artes, Parque Bustamante, Santa Isabel, Irarrázaval, Ñuble (Disponible solo para combinar), Rodrigo de Araya, Carlos Valdovinos, Camino Agrícola, San Joaquín, Mirador y Bellavista La Florida.\n\nLínea 6: con las estaciones Cerrillos, Lo Valledor, Franklin L6, Ñuble (Disponible solo para combinar), Estadio Nacional, Ñuñoa, Inés de Suárez y Los Leones.\n\nLas combinaciones que estarán disponibles son:\n\nBuses\n\nBuses apoyarán a las líneas de Metro en distintos tramos. Revisa aquí el detalle:",
         "2019-11"
        ],
        [
         "16",
         "accbbab01fb042e6704abaf484cac36654e45e1c4b513bbf6761f2ee32c4c233",
         "China Suárez sorprende a sus seguidores con dos inesperados cambios de look en menos de 48 horas ",
         "24horas.cl",
         "Chile",
         "2019-11-17 00:00:00",
         "Event Registry",
         "china suárez sorprende a sus seguidores con dos inesperados cambios de look en menos de 48 horas",
         "['China Suárez']",
         "1",
         "La actriz argentina impresionó a las redes sociales con sus looks luego de terminar con las grabaciones de su última teleserie.\n\nMaría Eugenia Suárez desafió las expectativas de sus seguidores y los sorprendió con dos cambios de look en menos de 48 horas.\n\nApenas terminó las grabaciones de la teleserie \"Argentina, tierra de amor y venganza\", la \"China\" se cortó las puntas del pelo y se hizo chasquilla, otorgando una juvenil apariencia a su rostro. Eso sí, mantuvo el rubio platinado que requería su personaje.\n\nComo si fuera poco, apenas un día después de haberse cortado el pelo, decidió ir de nuevo a la peluquería para un nuevo cambio. Esta vez decidió optar por un corte más drástico y por cambiar el color de pelo a un castaño que no dejó a nadie indiferente.\n\nNo solo su cabello sacó aplausos, sino que sus pestañas llamaron la atención de sus seguidoras, quienes se preguntan qué máscara o tratamiento utiliza la talentosa actriz.",
         "2019-11"
        ],
        [
         "17",
         "c3b8a83449f33c7a080bbe4c11ae8ec17cc43a60afb92e7fa5ccdfeb8c6123f0",
         "Corea del Norte avisa de que no reanudará el diálogo nuclear hasta que EE.UU. no discuta su \"política hostil\"",
         "24horas.cl",
         "Chile",
         "2019-11-17 00:00:00",
         "Event Registry",
         "corea del norte avisa de que no reanudará el diálogo nuclear hasta que ee.uu. no discuta su \"política hostil\"",
         "[]",
         "0",
         "Corea del Norte contempla estos ejercicios como una demostración de fuerza a la que suele responder con el lanzamiento de cohetes contra el mar.\n\nLas autoridades norcoreanas han asegurado que no volverán a discutir su programa nuclear hasta que Estados Unidos se declare dispuesto a hablar sobre su \"política hostil\" hacia este país, al mismo tiempo que Washington anunciaba la suspensión de unos ejercicios militares con Corea del Sur, precisamente como acto de conciliación.\n\nCorea del Norte contempla estos ejercicios como una demostración de fuerza a la que suele responder con el lanzamiento de cohetes contra el mar. Sin embargo, Pyongyang también expresa su rechazo a cualquier informe internacional que critique el desarrollo del país, como la reciente resolución de Naciones Unidas que cuestionaba la protección a los derechos humanos en Corea del Norte.\n\nEn este sentido, las autoridades norcoreanas han descrito esta resolución como un \"acto de provocación\" y ejemplo de la \"política hostil\" que emprende Estados Unidos, como miembro del Consejo de Seguridad de la ONU, hacia Corea del Norte.\n\n\"Aunque se abra un canal de diálogo, jamás podremos discutir la situación nuclear si no hablamos primero de la política hostil de Estados Unidos\", según un comunicado del Ministerio de Exteriores norcoreano, recogido por la agencia oficial de noticias KCNA.\n\nMientras, Estados Unidos ha anunciado la suspensión del llamado Evento de Entrenamiento Combinado de Vuelo, una simulación de combate aéreo con Corea del Sur, aunque ha desmentido que la decisión esté directamente relacionada con la queja norcoreana\n\n\"Yo no lo veo como una concesión, sino como un esfuerzo de buena fe para conseguir la paz\", ha declarado el secretario de Defensa de EEUU, Mark Esper, desde una reunión de seguridad asiática en Bangkok. \"Me parece que es importante crear un espacio a nuestros diplomáticos para alcanzar la desnuclearización de la península\", ha añadido\n\nCorea del Norte y Washington llevan meses sin hablar al más alto nivel desde la súbita visita del presidente de Estados Unidos, Donald Trump, a la parte norcoreana de la zona desmilitarizada el pasado mes de junio.",
         "2019-11"
        ],
        [
         "18",
         "6f339a83fb91537d7dd953d6ac8870087ce976aa76963a9a4f56157e2e7d8e8a",
         "El emotivo ritual con el que Leonor Varela recordó a su hijo a un año de su muerte ",
         "24horas.cl",
         "Chile",
         "2019-11-17 00:00:00",
         "Event Registry",
         "el emotivo ritual con el que leonor varela recordó a su hijo a un año de su muerte",
         "['Leonor Varela']",
         "1",
         "La actriz compartió el simbólico momento y escribió un mensaje en sus redes sociales.\n\nEste 16 de noviembre se cumplió un año de la muerte del hijo de Leonor Varela, Matteo, quien falleció producto de una complicada enfermedad degenerativa llamada Leucodistrofia.\n\nLa actriz, a un año de la partida de su hijo mayor, quiso recordarlo con un emotivo mensaje en redes sociales, donde además compartió imágenes del emotivo ritual con el que se despidió de sus cenizas.\n\n\"Hoy navegamos en altamar para dejar ir lo último que queda de Matteo en esta tierra: sus cenizas\", escribió Varela en sus historias junto a una foto del pequeño.\n\n\"Nov 16. Hace un año volaste alto hijo amado. Han sido días de lágrimas amargas por ya no poder abrazarte, y sonrisas dulces de saberte en paz y sentirte tan cerca. Hoy dejamos ir, con esa misma mezcla agri-dulce tus cenizas en un lugar que adorabas: El Mar. Así podré tenerte siempre a mi vista, no importa el continente o país en que estemos! Eres Luz eterna hijo, gracias por cuidarnos a tu turno desde ese lugar de paz donde estas #Matteo\", expresó en una publicación.\n\nEn las imágenes se puede ver cómo se aleja en el mar una pequeña caja con flores blancas donde van las cenizas del niño.\n\nLa publicación recibió cientos de comentarios de apoyo para la actriz y su familia en esta fecha tan difícil.",
         "2019-11"
        ],
        [
         "19",
         "686b9050309d105077db9e6ceeb84dc4cda44a92f447cfd201f6682365782329",
         "Cuatro incendios forestales continúan activos en la región de Valparaíso",
         "24horas.cl",
         "Chile",
         "2019-11-17 00:00:00",
         "Event Registry",
         "cuatro incendios forestales continúan activos en la región de valparaíso",
         "[]",
         "0",
         "Hasta el momento, se contabilizan dos mil hectáreas consumidas por el fuego y la alta intensidad del viento ha dificultado las tareas de combate de las llamas.\n\nDurante la noche de este sábado, la Oficina Nacional de Emergencias (Onemi) emitió un nuevo reporte sobre los incendios forestales que se registran en la región de Valparaíso.\n\nSegún indica el organismo, cuatro incendios se encuentran activos:\n\nCabe destacar, que personal de la empresa ESVAL realizó una interrupción del suministro de agua, afectando a 4.700 clientes, de los sectores de Villa Fundadores, Alto Verde y PUCV de Curauma, con el fin de mantener un caudal adecuado para las labores de control de los equipos de respuesta. Como medida de mitigación se dispuso de estanques fijos de abastecimiento en las siguientes intersecciones de calles; Cristóbal Colón con La Niña; Avenida Fundadores con Undécima; Descubridores con colonizadores; Avenida Fundadores con Pioneros Avenida Central con Tercera; Cardenal Samoré con Primera Sur; Avenida Décima con Central; y en Tercera Sur con Décima.\n\nPor otra parte, se indica que la ruta 68 se encuentra habilitada en ambas direcciones.\n\nLos incendios forestales que han avanzado durante esta jornada en la provincia de Valparaíso tienen al sector en Alerta Roja y con algunas zonas residenciales evacuadas de manera preventiva. Hasta el momento, se contabilizan dos mil hectáreas consumidas por el fuego y la alta intensidad del viento ha dificultado las tareas de combate de las llamas.",
         "2019-11"
        ],
        [
         "20",
         "84fbb9f26c1ed169847ea3f1bfb2a30afda2f36c645ae5b18b42d04e8f9f8477",
         "El cariñoso reencuentro entre Gastón Gaudio y \"Chino\" Ríos en la previa de Copa Davis",
         "24horas.cl",
         "Chile",
         "2019-11-17 00:00:00",
         "Event Registry",
         "el cariñoso reencuentro entre gastón gaudio y \"chino\" ríos en la previa de copa davis",
         "['Chino\" Ríos', 'Gastón Gaudio']",
         "2",
         "Los extenistas y amigos se volvieron a ver las caras en Madrid, en la previa del duelo que Chile y Argentina disputarán este martes.\n\nDurante su etapa de tenistas, Marcelo Ríos y Gastón Gaudio forjaron una amistad que perdura hasta hoy, tal como quedó de manifiesto en Madrid, en la previa del enfrentamiento entre Chile y Argentina por Copa Davis.\n\nAmbos se reencontraron en un contexto totalmente distinto a cuando jugaban, ya que el \"Gato\" está en España en su calidad de capitán del equipo trasandino, mientras que el \"Chino\" también es parte del cuerpo técnico del equipo nacional liderado por Nicolás Massú.\n\nA través de risas y un cariñoso saludo se pudo ver el afecto que hay entre ambos, quienes consolidaron su relación compartiendo por años en el circuito y saliendo de fiestas en reiteradas ocasiones, tal como el argentino relató en alguna oportunidad.\n\nChile y Argentina disputarán su primera serie por la fase de grupos de la Copa Davis durante la jornada de este martes, en un torneo que podrás seguir completo por las pantallas de TVN.",
         "2019-11"
        ],
        [
         "21",
         "bd6c7f230c4dbeeeb5e45ab4c5bc718f2b5de779b518bdcd35c2ea62307a014c",
         "Ministro Blumel: \"El Gobierno es partidario de avanzar hacia una nueva Constitución\"",
         "24horas.cl",
         "Chile",
         "2019-11-17 00:00:00",
         "Event Registry",
         "ministro blumel: \"el gobierno es partidario de avanzar hacia una nueva constitución\"",
         "['Ministro Blumel']",
         "1",
         "El ministro del Interior fue uno de los invitados a este capítulo de Estado Nacional, valorando el acuerdo alcanzado esta semana. Además, se refirió a las críticas a Carabineros en su actuar durante las manifestaciones, señalando que tienen todo el apoyo \"dentro de la ley\", pero que \"no puede haber impunidad para ningún tipo de delito\".\n\nEl ministro del Interior, Gonzalo Blumel visitó el programa de TVN \"Estado Nacional\", donde se refirió al \"Acuerdo de Paz Social y la Nueva Constitución\" y valoró el acuerdo logrado entre los partido políticos tanto del oficialismo como de oposición.\n\nEn la ocasión el Secretario de Estado afirmó que la posición del Gobierno es cambiar la Constitución, aún cuando no estaba en la agenda.\n\n\"Es verdad que no estaba planteado así como está ahora y siempre consideramos reformas y un plebiscito ratificatorio, pero las circunstancias nos hicieron hacer entender a todo que había que cambiar la mirada\", expresó Blumel.\n\nAl ser consultado por su postura frente a la nueva Constitución, el ministro expresó que \"yo soy ministro del Interior, así que mi opinión es la del Gobierno y el Gobierno es partidario de avanzar hacia una nueva Constitución\" y agregó que \"lo más probable es que gane el sí\".\n\nAdemás hizo un llamado a los sectores que no se han sumado al acuerdo a reconsiderar su posición. \"Reitero a todos los sectores a sumarse a este acuerdo por la paz, la solución a esto es un compromiso compartido de todos los sectores, un acuerdo de esta naturaleza necesita una transversalidad muy grande\".\n\nEn relación a las críticas de algunos sectores que acusan que el Acuerdo de Paz fue una \"cocina\", Blumen puntualizó: \"Las críticas no las comprendo, espero que a medida que se entienda bien, las fuerzas que no se han sumado se vayan sumando\".\n\n\"Si los extremos se restan es que eso refleja es que es un buen acuerdo, porque la democracia no puede ser de blanco y negro, de amigos enemigos, yo todo lo que pienso y tú nada de lo que tu piensas, eso no es democracia, es fascismo. En democracia de lo que se trata es de ponernos de acuerdo en nuestras diferencias para llegar a decisiones que nos permitan avanzar conjuntamente\", agregó.\n\nEl martes recién pasado se rumoreó que tras las manifestaciones que desencadenaron diferentes desórdenes el Presidente iba a decretar un nuevo Estado de Excepción Constitucional, lo que finalmente no sucedió. Ante esa determinación el ministro explicó que fue una decisión difícil.\n\n\"El día martes fue un día muy difícil en cuanto al punto de vista del orden público y habían condiciones objetivas para decretar el Estado de Emergencia y el Presidente tuvo que tomar una decisión muy difícil sobre si avanzar a un Estado de Emergencia o darse una última oportunidad para el diálogo\", reveló y continuó: \"El Presidente tomó una de las decisiones más trascendentes, efectivamente había un sentido de urgencia porque otro episodio como ese día habría sido difícil\".\n\nEste jueves se cumplió un año de la muerte de Camilo Catrillanca, día en que había manifestaciones organizadas en todo el país, por lo que existía un grado de temor sobre qué lo que podría suceder, sin embargo, se desarrolló una jornada tranquila, lo que fue valorado por el ministro, quien reveló que llamó a Marcelo Catrillanca.\n\n\"Hay que ser muy respetuoso del dolor ajeno, estamos hablando de una persona que perdió a su hijo, que fue asesinado, por eso cuando veo que el llamado que hace es a recordar, pero sin violencia, a manifestarse pacíficamente está contribuyendo a lo que necesitamos como sociedad\", afirmó.\n\n\"Ese llamado de Marcelo Catrillanca fue muy importante, mira qué simbólico, para lograr un acuerdo, para tener un Acuerdo por la Paz y la Nueva Constitución ese mismo día\", agregó.\n\nEl ministro fue enfático en expresar que la nueva Constitución no es la solución a todas las demandas, por lo que se debe seguir trabajando en la Agenda Social.\n\n\"La constitución no es la respuesta a todos los problemas que tiene la sociedad\", sentenció.\n\nEs por eso que la agenda impulsada por el Gobierno tiene tres ejes fundamentales \"la salud y todo lo que tiene que ver el acceso; el sueldo mínimo y lo que es el ingreso mínimo garantizado; y las pensiones\", recalcó.\n\nJustamente en el tema de las pensiones se quiso detener e hizo un llamado a los parlamentario. \"Quiero hacer un llamado al Congreso que a partir de mañana se sienten y encuentren un acuerdo cuanto antes en materia de reforma previsional\", aseveró.\n\n\"Están las condiciones, están las bases, está nuestro proyecto, está el proyecto del gobierno anterior. Yo creo que estamos cerca, que si juntando las dos puntas tengamos un proyecto que a todos nos interprete\", puntualizó.\n\nFrente a la reforma que aumenta el 50% de las pensiones que fue aprobada en el Congreso, el ministro cuestionó la medida, ya que sería inconstitucional.\n\n\"Esa no es la forma. Cuando estamos discutiendo sobre una nueva Constitución. Si queremos tener una discusión constitucional honesta, no podemos partir de la base de vulnerar las reglas del juego\", expresó.\n\nAnte la muerte de Abel Acuña en las manifestaciones de este viernes y de las denuncias de personal del Samu que acusan a Carabineros de atacarlos mientras intentaban reanimar al joven de 29 años, dijo que \"es un deber de cada funcionario policial asegurar el acceso a la atención médica\" y aseguró que la fiscalía está investigando.\n\n\"Algo pasó, se tiene que investigar y se tiene que resolver y sancionar\", enfatizó y agregó \"Carabineros tiene que tener todo el respaldo para el actuar, pero si está fuera de la ley se tiene que sancionar\".\n\nAdemás expresó que se debe hacer una reforma para mejorar de mejor manera a los uniformados en materia de Derechos Humanos.\n\n\"En materia de Derechos Humanos estamos hablando de un tema que es sagrado para la sociedad , ya no es de derecha o de izquierda, es una materia de estado\", recalcó.\n\nFinalmente, el secretario de Estado aseguró que el Gobierno no permitirá que los responsables de los incendios al Metro y diferentes desórdenes durante las manifestaciones queden impunes.\n\n\"Hubo un informe que habla de que el 77% tenía detenciones previas, entonces estamos hablando de bandas que tienen una especie de coordinación\", afirmó y concluyó: \"Puedo asegurar que vamos a investigar todos los casos, todas las causas para que no haya impunidad\".",
         "2019-11"
        ],
        [
         "22",
         "d7eb15a19e96873ac3e20f7c04af28569f2d7d03e946c392a5de2216c58ed20b",
         "¿Realmente los hombres pierden peso más fácilmente que las mujeres?",
         "24horas.cl",
         "Chile",
         "2019-11-17 00:00:00",
         "Event Registry",
         "¿realmente los hombres pierden peso más fácilmente que las mujeres?",
         "[]",
         "0",
         "La sospecha es de larga data y parece haber mucha evidencia anecdótica pero, ¿es realidad o mito? Y de ser cierto, ¿no deberían adecuarse los planes de pérdida de peso de acuerdo al sexo?\n\n¿Te ha pasado que has seguido al pie de la letra una muy recomendada dieta durante toda la semana y cuando llega el momento de subirte a la pesa en lugar de alegría lo que te invade es una gran decepción?\n\nEl número que ves no es el que esperabas. Sientes una mezcla de frustración, injusticia e irritación.\n\nTodo eso se multiplica si eres mujer y has estado a régimen junto con un hombre y él pierde más peso que tú.\n\nEs una queja conocida: \"él sólo tiene que dejar de comer pan y adelgaza, mientras que yo...\".\n\n¿Será cierto que a los hombres realmente les resulta más fácil perder peso que a las mujeres? ¿ Y que, por ende, los planes de pérdida de peso deberían adecuarse dependiendo del género?\n\nLas respuestas pueden ser más complicadas de lo que piensas...\n\nEl año pasado, una investigación hizo que muchos (y sobre todo muchas) exclamaran: \"¡Lo sabía!\"\n\nLa Universidad de Copenhague, junto con otras 8 instituciones de investigación, se embarcó en un estudio que puso a 2.500 personas pre-diabéticas y con sobrepeso en una estricta dieta controlada de calorías durante 8 semanas.\n\n¿El resultado? En promedio, los hombres perdieron 11,8 kg, mientras que las mujeres \"solo\" bajaron 10,2 kg.\n\nFinalmente, había evidencia de que a los hombres les resulta más fácil perder peso que a las mujeres.\n\nSin embargo, las estadísticas no cuentan la historia completa.\n\n\"Fue decepcionante que los medios de comunicación se centraran en esa diferencia sin comprender bien las matemáticas\", le dice a la BBC el profesor Ian Macdonald de la Universidad de Nottingham, quien participó en el estudio.\n\nEnfocarse en las diferencias en el peso final fue, según él, \"desafortunado\".\n\n¿La razón? Todos los participantes en el estudio recibieron la misma cantidad de alimentos (810 calorías) sin tener en cuenta que los hombres tenían un mayor déficit de energía.\n\nEn primer lugar, los hombres eran más grandes (pesaban en promedio 109 kg en comparación con los 96 kg de las mujeres), por lo que tenían más peso que perder.\n\nAsí que la diferencia en el resultado, \"fue solo una consecuencia de la diferencia en el tamaño del cuerpo. Si hubiéramos tenido hombres más pequeños y mujeres más grandes, habría sido al revés\", explica el profesor.\n\nEsto no fue un descuido por parte de los científicos.\n\nEl plan de 8 semanas no era el foco principal de la investigación, sino el comienzo de otro estudio de 3 años.\n\n\"Los participantes tuvieron que perder el 8% del peso corporal en ese período de 8 semanas para ser reclutados en la dieta aleatoria y el período de mantenimiento de ejercicio durante los próximos 3 años, como parte de un estudio de prevención de diabetes\", revela Macdonald.\n\nTambién hubo informes de que los hombres perdieron peso \"mejor\" que las mujeres: su presión arterial y frecuencia cardíaca disminuyeron más y hubo diferencias en el nivel de la caída del colesterol.\n\nPero, aclara Macdonald, \"Si bien hubo algunas diferencias estadísticas, en términos de relevancia clínica, no eran significativas. Ambos sexos experimentaron beneficios de la pérdida de peso\".\n\nSin embargo, el profesor admite que hay diferencias en la pérdida de peso entre hombres y mujeres.\n\n\"Para el mismo índice de masa corporal, los hombres tenderán a tener más masa libre de grasa (músculo) y una masa de grasa menor. Eso se debe al efecto de las hormonas sexuales en la masa de grasa corporal, así como a la distribución de grasa\".\n\nDebido a eso, \"las mujeres generalmente encuentran un poco más difícil perder peso\", según el doctor Tom Little, especialista en nutrición y fundador de Colour-Fit.\n\n\"Los hombres tienen más testosterona y están genéticamente diseñados para tener un mayor porcentaje de músculo y menos grasa. La masa muscular tiene un metabolismo más alto que la grasa y, por lo tanto, cuanto más músculo tengas, más calorías puedes quemar, incluso cuando no haces ejercicio\", apunta.\n\n\"Sin embargo, la mayoría de los estudios muestran que si bien los hombres inicialmente pierden peso más rápido, las diferencias se compensan con el tiempo\".\n\nEste verano boreal, una nueva investigación de la Universidad de Iowa -tan nueva que, de hecho, aún no se ha publicado oficialmente (\"hasta ahora, la hemos presentado solo en reuniones científicas\", explica el investigador principal, el Dr. E Dale Abel)- examinó si los hombres tienen más probabilidades que las mujeres de tener éxito en la popular dieta cetogénica.\n\nLa dieta cetogénica (o dieta keto, en su forma abreviada) es un plan de alimentación bajo en carbohidratos y rico en grasas.\n\nEl estudio se realizó por casualidad.\n\nEstaban investigando el impacto de la dieta cetogénica como tratamiento para la insuficiencia cardíaca. Notaron que los ratones machos en la dieta perdieron peso, pero las hembras lo ganaron.\n\n\"Notamos que esa discrepancia era realmente pronunciada entre machos y hembras en la dieta cetogénica; pensamos '¡guau, qué drástico!', por lo que la siguiente pregunta fue si eso era reproducible\", explica Jesse Cochran, el investigador líder.\n\n\"Todas las veces fue igual: los ratones machos perdían peso, las hembras, lo ganaban\".\n\nPara averiguar si las diferencias se debían a las hormonas sexuales, estudiaron ratones hembras a quienes les habían extirpado los ovarios para imitar un estado posmenopáusico. Descubrieron que aunque aumentaban de peso (debido a la deficiencia de estrógenos), la dieta keto no lo exacerbaba.\n\nA pesar de todo, los científicos universitarios advierten que, en primer lugar, aunque los ratones perdieron músculo y grasa, eso podría deberse a que la versión de esa dieta para ratones está restringida en proteínas (lo que es necesario para que los ratones en esta dieta produzcan cetonas).\n\nA diferencia de ellos, los humanos continúan comiendo proteínas en la dieta cetogénica, por lo que podría no causar pérdida muscular.\n\nAbel y el equipo ya han recibido atención de los medios sobre el estudio, tras presentarlo en reuniones científicas.\n\n\"Recibí muchas anécdotas de mujeres o de sus proveedores de atención médica que decían: 'Tiene sentido, siempre me pregunté por qué (no funcionó para mí)'\", cuenta.\n\n\"No obstante quiero advertir en letras grandes que un ratón no es una persona. Nos pueden dar una idea, y ciertamente estamos explorando ideas moleculares y otras hormonas que podrían ayudarnos a comprender la diferencia entre hombres y mujeres.\n\n\"Lo que es clave es que, si se hacen ensayos en humanos, se debería investigar cuidadosamente para determinar si hay diferencias en el efecto de esas dietas debido al género\", agrega.\n\nUna razón por la cual aún no tenemos una respuesta clara sobre si algunas dietas son más adecuadas para cada género es que la ciencia en general ha sido hecha a la medida de sólo uno de ellos.\n\n\"En medicina en general, mucho de lo que hacemos en la práctica está basado en estudios realizados en hombres. Cada vez hay más conciencia de que ello, por eso creo que una observación como la que hizo Jesse es crucial, ya que destaca que existen diferencias fundamentales en la biología\", explica Abel.\n\nLa respuesta es: No. Al menos hasta que haya más investigación que aclare bien las cosas.\n\nSin embargo, Rick Miller, el dietista principal del Hospital King Edward VII de Londres, explica que hay algunas consideraciones que puedes tener en cuenta.\n\n\"Los planes basados ??en el sexo pueden ofrecer cierta personalización en torno a las opciones de ejercicio o variaciones que pueden adaptarse mejor a hombres o mujeres.\n\n\"Pero en términos de nutrición, los requisitos generales de proteínas, carbohidratos y grasas se basan en la composición corporal (proporciones de masa grasa a masa magra). Por lo tanto, un hombre y una mujer de las mismas proporciones tendrán necesidades similares de calorías y nutrientes por día.\n\n\"Cuando se trata de micronutrientes (vitaminas y minerales), existen algunas diferencias entre hombres y mujeres. Por ejemplo, la menstruación aumenta las necesidades de hierro de una mujer debido a la pérdida de sangre\".\n\n\"La clave del éxito de cualquier plan de nutrición es la personalización del estilo de vida, el historial médico y los objetivos\".\n\nSi bien (todavía) no tenemos respuestas definitivas a las preguntas planteadas, los expertos con los que hablamos tienen algunos consejos para las personas que hacen dieta, independientemente del género.\n\nTodos están de acuerdo en que, en lugar de embarcarse en una dieta muy restrictiva, es mejor optar por el enfoque \"lento y constante'': realizar cambios en la alimentación saludable que sean sostenibles a largo plazo.\n\n\"Pregúntate: '¿puedo mantener este cambio de por vida?'. Si la respuesta es 'no', es posible que deberías ser un poco más indulgente y ver qué otra cosa podrías intercambiar. Eso evita que tomes decisiones drásticas que no podrás mantener.\n\nLa idea, señala Millar, es que \"no se sienta como una 'dieta' sino como que solo estás haciendo pequeños cambios\".",
         "2019-11"
        ],
        [
         "23",
         "e5b4fef40acdc60e214f3929ea327ff34183090b6923044e87612db0ec886f48",
         "Caso Rodney Reed: las nuevas evidencias que ayudaron a salvar a un condenado a muerte (y qué papel jugaron Kim Kardashian y otras celebridades)",
         "24horas.cl",
         "Chile",
         "2019-11-17 00:00:00",
         "Event Registry",
         "caso rodney reed: las nuevas evidencias que ayudaron a salvar a un condenado a muerte (y qué papel jugaron kim kardashian y otras celebridades)",
         "['Kim Kardashian', 'Rodney Reed']",
         "2",
         "Estaba previsto que Rodney Reed recibiera una inyección letal el 20 de noviembre, pero los abogados anuncian nuevas pruebas demuestran su inocencia.\n\nUn tribunal en Texas detuvo la ejecución de Rodney Reed, condenado a muerte por asesinato, en un caso que causa controversia en Estados Unidos.\n\nReed ha estado 21 años condenado a muerte por un asesinato que habría cometido en 1996 y se tenía previsto que recibiera una inyección letal el 20 de noviembre.\n\nSe trata de un caso que divide la opinión pública estadounidense. Más de 2.9 millones de personas firmaron una petición en línea pidiendo clemencia. Incluso celebridades como Kim Kardashian West, Rihanna y Gigi Hadid se han expresado en su apoyo.\n\nRodney Reed dice ser inocente y sus abogados asegurar tener nuevas pruebas que lo demuestran.\n\nEl prisionero estadounidense fue declarado culpable del asesinato de Stacey Stites, de 19 años, quien fue encontrada estrangulada después de que en su trabajo notaran que no se había presentado a trabajar.\n\nLa Corte de Apelaciones Criminales de Texas detuvo la muerte programada de Reed. Una decisión tomada poco después de que la Junta de Indultos y Libertad Condicional de Texas recomendara un aplazamiento de 120 días.\n\nDicha junta también rechazó su solicitud de modificar su sentencia a cadena perpetua.\n\nCuando Reed recibió la noticia sobre la suspensión de su ejecución, Kim Kardashian se encontraba con él y, con una publicación en Instagram, la estadounidense aseguró que las palabras no podían \"describir el alivio y la esperanza que se extendió por la habitación en ese momento\".\n\nInnocence Project, una organización que ha estado trabajando en el caso, también agradeció la decisión del tribunal de apelaciones.\n\n\"Gracias a todos los que llamaron, tuitearon y se expresaron en contra de la ejecución de una persona inocente. Hoy celebramos. Mañana seguimos trabajando para demostrar la inocencia de #RodneyReed\", tuiteó la institución.\n\nNunca le hicieron pruebas de ADN al arma homicida y en la camioneta que solía conducir la víctima Stacey Stites no se encontró ninguna huella digital de Reed. El caso en su contra se basó principalmente en su semen.\n\nEl acusado dijo quetuvo sexo consentido con la víctima el día antes de que la mataran, pero peritos judiciales sostuvieron inicialmente que eso no podía ser cierto y explican que el esperma no podría haber sobrevivido en el cuerpo de Stites por tanto tiempo.\n\nContrariamente a lo dicho por Reed, los expertos consideraron que la joven habría sido violada poco antes de ser asesinada, una evidencia suficiente para que el jurado, compuesto enteramente por jueces blancos, condenara a Reed.\n\nLos abogados de Reed han estado trabajando para cambiar el veredicto y por eso han presentado nuevas pruebas.\n\nLas nuevas evidencias se centran en las afirmaciones de los testigos forenses en el juicio inicial, quienes aseguraron que los espermatozoides no podían sobrevivir más de un día en el cuerpo después de un acto sexual.\n\nEl doctor Roberto Bayardo, uno de los expertos médicos involucrados, emitió una declaración jurada explicando que ahora es consciente de que los espermatozoides pueden permanecer intactos durante días en una persona muerta.\n\nPara Bayardo, no habría evidencia de que Stacey Stites y Rodney Reed tuvieran algo más que sexo consentido.\n\nLa mañana del 23 de abril, Stacey Stites debía estar temprano en su trabajo en un supermercado en Bastrop, en el estado de Texas, EE.UU., pero la joven, que en ese entonces tenía 19 años, nunca se presentó.\n\nUn par de horas más tarde, la camioneta que solía conducir fue encontrada abandonada, y en la tarde se encontró el cuerpo de Stites, quien había sido estrangulada con su propio cinturón.\n\nUn grupo de investigadores encontró una muy pequeña cantidad de espermatozoides, tres en total, en su vagina. El semen era de un hombre de raza negra: Rodney Reed.\n\nLa policía contaba con el ADN del prisionero en sus archivos porque este había sido investigado, sin haber sido encontrado culpable, por otro caso de agresión sexual.\n\nReed afirmó que había estado teniendo una relación secreta con Stites.\n\nStites estaba comprometida, pronta a casarse, con un ex policía blanco llamado Jimmy Fennell y ahora algunos testigos han presentado declaraciones sobre la relación de la pareja.\n\nUna mujer dijo que Fennel una vez mencionó que si alguna vez su novia le engañaba, la estrangularía.\n\nUn vendedor de seguros recuerda que Jimmy Fennell amenazó a Stacey Stites con matarla si alguna vez la descubría \"poniéndole los cuernos\" con él.\n\nOtra declaración proviene de un expolicía quien dice que en el funeral de Stites vio a Jimmy Fennell mirando el cadáver y diciendo algo sobre que su novia había obtenido lo que se merecía.\n\nJimmy Fennell pasó años en prisión por secuestrar y agredir sexualmente a otra mujer. El expolicía fue puesto en libertad en 2018.\n\nUno de los nuevos testigos es un hombre que estaba en la cárcel con él. Arthur Snow, quien era líder de una pandilla supremacista blanca en prisión, afirma que Jimmy Fennell le dijo que su novia había estado durmiendo con un hombre negro a sus espaldas.\n\nEn una declaración jurada, dijo: \"Hacia el final de la conversación, Jimmy dijo con confianza: 'Tuve que matar a mi prometida que amaba a los negros'\".\n\nSu abogado, Bob Phillips, dijo que \"no hay absolutamente nada de mérito\" en ese reclamo y aseguró en el canal de televisión estadounidense CBS Austin que Arthur Snow es un \"criminal de carrera\" que está \"tratando de salvar su propio pellejo\". Igualmente calificó a los otros nuevos testigos como \"risibles\" y preguntó por qué esperaron tanto tiempo para presentarse.\n\nPhillips sostiene que es \"absolutamente falso\" que Stacey Stites estuviera teniendo una aventura con Rodney Reed.\n\nRihanna, Gigi Hadid y Kim Kardashian West son solamente algunas de los artistas que han expresado públicamente su apoyo a Rodney Reed en el controvertido caso.\n\nKardashian West, que quiere ser abogada, ha emitido varios tuits refiriéndose al asunto. En uno de los últimos se muestra aliviada por la decisión de la Corte de Apelaciones Criminales de Texas .\n\n\"Estoy muy agradecida por el compromiso y la pasión de todos los que expresaron su apoyo, la Junta de Indultos y Libertad Condicional de Texas por su recomendación de emitir un aplazamiento de 120 días y los tribunales por emitir una suspensión!\"\n\nRihanna, por su parte, alentó a sus seguidores a firmar la petición en línea en la que se pedía clemencia por Reed \"si creen que el gobierno no debería matar a un hombre inocente\".\n\nY la supermodelo Gigi Hadid dijo haberla firmado. \"Acabo de firmar esta petición para pedirle al gobernador de Texas que detenga la ejecución de Rodney Reed.\n\nRodrick Reed, hermano del condenado, ha celebrado las intervenciones de estas personalidades. \"Mientras más reportes de celebridades tengamos, el mundo se fijará más (en este caso)\".",
         "2019-11"
        ],
        [
         "24",
         "f9560ea99103a7ec3b673e3584760e3587c2e6695159471b5fb4d3d56f7c1599",
         "Gobierno ofrece Palacio Cerro Castillo para canoístas y remeros que tuvieron que evacuar del CAR de Curauma",
         "24horas.cl",
         "Chile",
         "2019-11-17 00:00:00",
         "Event Registry",
         "gobierno ofrece palacio cerro castillo para canoístas y remeros que tuvieron que evacuar del car de curauma",
         "[]",
         "0",
         "En medio de los incendios forestales que afectan a la región de Valparaíso, nueve deportistas del Centro de Entrenamiento Olímpico de Curauma debieron evacuar y se hospedarán en el palacio presidencial hasta que la emergencia se controle.\n\nDiferentes zonas de Valparaíso cercanas a los incendios forestales han tenido que ser evacuadas por el inminente peligro de ser dañadas por el fuego. Dentro de esos casos está el Centro de Alto Rendimiento de Curauma, donde nueve canoístas, remeros y head coaches del equipo chileno alojan regularmente.\n\nDebido a esta dificultad, el Gobierno ofreció las dependencias del Palacio Cerro Castillo para garantizar su alojamiento\n\nEl palacio funcionará como residencia provisoria hasta que la emergencia sea controlada. Esto fue coordinado por el ministerio del Deporte y el Comité Olímpico de Chile, con el fin de beneficiar a los nueve deportistas que ahí residen y entrenan.\n\nLos deportistas Antonia Abraham, Melita Abraham, Isidora Niemeyer, Yoselin Cárcamo, Ignacio Abraham, Alfredo Abraham, Cristopher Kalleg, Ysumy Orellana, Francisco Lapostol y los head coaches Bienvenido Front y Evidio González se quedarán en el lugar y ya conocieron las dependencias del Palacio.\n\nDe forma paralela, se solicitó la utilización provisoria del centro de entrenamiento de la Escuela Naval (remo ergométrico, piscina y gimnasio) y desde el próximo lunes albergará la realización de las prácticas los remeros y canoístas.",
         "2019-11"
        ],
        [
         "25",
         "c03b1f72df3728f164c8cec088079fbabe830dfe26f0b236e7e98e2558e3e225",
         "Carabineros tras estudio de la UCH: \"Se utiliza perdigón de goma no letal, adquirido a proveedor certificado\"",
         "24horas.cl",
         "Chile",
         "2019-11-17 00:00:00",
         "Event Registry",
         "carabineros tras estudio de la uch: \"se utiliza perdigón de goma no letal, adquirido a proveedor certificado\"",
         "[]",
         "0",
         "Pese a que la institución policial afirma que los perdigones que emplean se encuentran \"conforme a ficha técnica elaborada por la Dirección de Logística de Carabineros\", solicitarán un informe técnico a su proveedor y un análisis científico a un ente externo.\n\nDurante este viernes se dio a conocer un estudio realizado por los doctores Patricio Jorquera y Rodrigo Palma del Departamento de Ingeniería Mecánica de la Universidad de Chile en el que se asegura que los perdigones de goma que utiliza personal de Carabineros en sus procedimientos solamente están compuestos en un 20% de goma.\n\nAmbos científicos realizaron análisis de densidad, comportamiento térmico y otros para llegar a sus conclusiones sobre la composición de los perdigones. \"Los perdigones analizados contienen 20% de caucho y el 80% restante corresponde a otros compuestos. Los otros compuestos son síliice, sulfato de bario, y plomo\", dictamina el informe. Además, aseguraron que la dureza del perdigón es de 96.5 Shore A, de una escala donde el máximo es de 100.\n\nLas muestras de perdigones se habrían obtenido de \"pacientes afectados por impacto de dichos proyectiles durante las manifestaciones\".\n\nAnte ello, Carabineros emitió un comunicado en el que afirmó que \"Carabineros de Chile para sus operaciones policiales, de acuerdo a sus protocolos de actuación para el mantenimiento del orden público, sobre la base de estándares internacionales de otras policías, utiliza perdigón de goma no letal, adquirido a proveedor certificado, conforme a ficha técnica elaborada por la Dirección de Logística de Carabineros\".\n\nSin embargo, según indica el documento, la institución policial \"solicitará a la brevedad posible que, el proveedor de dicha munición presente un estudio actualizado sobre los componentes de la munición en comento y, en forma paralela, para mayor transparencia la institución pedirá un análisis científico a un ente externo para certificar los componentes de la misma\"",
         "2019-11"
        ],
        [
         "26",
         "dbddc57ab55723e6612a2599740f37099fa921ebed8188d6df2d039a382519b5",
         "Crisis en Bolivia: Cuba anuncia la salida de sus médicos del país andino por el \"acoso y maltrato\" del nuevo gobierno",
         "24horas.cl",
         "Chile",
         "2019-11-17 00:00:00",
         "Event Registry",
         "crisis en bolivia: cuba anuncia la salida de sus médicos del país andino por el \"acoso y maltrato\" del nuevo gobierno",
         "[]",
         "0",
         "Ante la crisis en la que se encuentra Bolivia y después de las declaraciones de su canciller interina, el gobierno de Miguel Díaz Canel anunció este viernes la retirada inminente de los más de 700 médicos cubanos que prestan servicio en el país andino desde hace más de 10 años.\n\nDespués de Brasil y Ecuador, llegó el turno de Bolivia.\n\nEl presidente de Cuba, Miguel Díaz-Canel, anunció este viernes la salida inmediata de los 725 miembros de la Brigada Médica Cubana destinados en el país andino y justificó la decisión por motivos de seguridad.\n\nEn un mensaje publicado en Twitter, Díaz-Canel denunció el \"acoso y maltrato\" al que son sometidos los médicos cubanos que prestan servicio en Bolivia:\n\nhttps://twitter.com/DiazCanelB/status/1195427764502970369\n\nEn otro tuit, el mandatario cubano exigió el fin de la \"exacerbación de irresponsables expresiones anticubanas y de odio, la mentira, las difamaciones e instigaciones a la violencia contra los cooperantes cubanos, quienes han brindado su aporte solidario a la salud de ese hermano pueblo boliviano\".\n\nLa decisión se produce en plena crisis política y social tras la renuncia de Evo Morales a la presidencia de Bolivia el pasado 10 de noviembre y su posterior traslado a México, país que le otorgó asilo político.\n\nLos doctores cubanos no han sido ajenos a la crisis que vive el país andino: a lo largo de la semana varios miembros de la brigada médica fueron detenidos bajo acusaciones de instigar y financiar protestas en Bolivia.\n\nCuatro de ellos fueron apresados por la policía boliviana hace dos días cuando regresaban a su residencia tras sacar del banco dinero \"para pagar servicios básicos y alquileres de los 107 miembros de la Brigada Médica\" destinada en El Alto.\n\nPosteriormente se informó de la detención en La Paz de otros dos cubanos: la coordinadora de la brigada, Yoandra Muro, y el responsable de logística, Jacinto Pérez.\n\n\"Acudieron a su casa y la han detenido\", explicó en referencia a Yoandra Muro el director general para América Latina de la cancillería de Cuba, Eugenio Martínez, que insinuó la participación de Washington en la detención al afirmar que \"había estacionado cerca del lugar un auto de la embajada de EE.UU.\".\n\nMuro quedó en libertad tras unas horas de interrogatorio.\n\nEl Ministerio de Relaciones Exteriores cubano aseguró en un comunicado que las acusaciones contra los detenidos son \"falsas\".\n\nLa cancillería dijo que en las circunstancias descritas se ha decidido \"el retorno inmediato a la Patria de los colaboradores cubanos\" y demandó \"que los cooperantes detenidos sean liberados de inmediato y que las autoridades bolivianas garanticen la integridad física de cada uno\".\n\nPor su parte, la ministra interina de Relaciones Exteriores de Bolivia, Karen Longaric, ya adelantó el jueves que la salida de los médicos cubanos del país podía ser inminente.\n\n\"Ellos saldrán de Bolivia, creo que es oportuna y necesaria esa salida y creo que esto también va a permitir un trato respetuoso como siempre hubo entre Cuba y Bolivia\", explicó la canciller en una entrevista televisiva.\n\nLos médicos cubanos se encontraban en Bolivia desde poco después de la llegada de Evo Morales al poder, en 2006.\n\nMorales se convirtió en uno de los principales aliados de Cuba en la región y recibió a más de 700 colaboradores de la isla en varios sectores, en su mayoría en el área de la salud.\n\nEl trabajo ofrecido por los doctores destacó especialmente en el campo de la atención oftalmológica bajo la llamada Misión Milagro.\n\nSegún datos revelados en septiembre por la jefa de la brigada, Yoandra Muro, más de 719.000 personas recuperaron la visión en Bolivia gracias a este programa.\n\nEl convenio de colaboración entre La Paz y La Habana incluyó además el envío de brigadas médicas para fortalecer el sistema de salud en sitios remotos o de difícil acceso, el impulso de una campaña masiva de alfabetización y el otorgamiento de 5.000 becas a jóvenes bolivianos para estudiar medicina en Cuba.\n\nLa retirada de los médicos cubanos de Bolivia se suma a la de los que estaban destinados en Ecuador, donde el gobierno de Lenín Moreno anunció esta semana el fin del convenio bilateral suscrito en 2013 por el que prestaban servicio allí alrededor de 400 doctores de la isla.\n\nhttps://twitter.com/BrunoRguezP/status/1195454114500632576\n\nAdemás, estos días se cumple un año de la cancelación por diferencias políticas del programa \"Más Médicos\" entre Cuba y Brasil, lo que desencadenó la salida de ese país de más de 8.000 doctores cubanos.\n\nEl gobierno de Cuba tomó aquella decisión después de que el presidente brasileño Jair Bolsonaro, recién elegido entonces, cuestionara la formación de los médicos y dijera que realizaban \"trabajo esclavo\" debido a que se les retenía el 75% de sus salarios.\n\nLa cooperación médica internacional es uno de los pilares de la política exterior de Cuba que, desde 1963 con la primera misión enviada a Argelia, ha involucrado a unos 407.000 profesionales, técnicos y personal sanitario en 164 naciones, según datos oficiales.\n\nEn 2017, el último año del que hay estadísticas, las exportaciones de bienes y servicios tuvieron un valor a precios corrientes de US$14.083 millones, de los cuales las exportaciones de bienes fueron solo US$2.402 millones y los ingresos por servicios fueron de US$11.681 millones.\n\nRecuerda que puedes recibir notificaciones de BBC News Mundo. Descarga la última versión de nuestra app y actívalas para no perderte nuestro mejor contenido.",
         "2019-11"
        ],
        [
         "27",
         "ef3e5d3058832c2dc8d23e68f470f46c29de39c285be1357cbfaebf435dc5815",
         "Desciende cifra de heridos y eventos graves en balance de movilizaciones durante el sábado",
         "24horas.cl",
         "Chile",
         "2019-11-17 00:00:00",
         "Event Registry",
         "desciende cifra de heridos y eventos graves en balance de movilizaciones durante el sábado",
         "[]",
         "0",
         "La Subsecretaría del Interior emitió un nuevo balance de las jornadas de movilizaciones, en el que destacó el descenso de los eventos graves durante las últimas 24 horas.\n\nSegún informó el Gobierno, en base a los antecedentes entregados por Carabineros de Chile y la Policía de Investigaciones, se registraron 12 eventos graves, cuatro incidentes menos con respecto a la jornada anterior.\n\nEn cuanto a personas lesionadas, resultaron cinco civiles y 11 efectivos policiales heridos, además de 114 detenidos, 154 menos que el día viernes.\n\nAdemás se informó de dos saqueos a nivel nacional, los que afectaron a farmacias ubicadas en la comuna de San Bernardo, en la región Metropolitana, y de Copiapó, en la región de Atacama.\n\nRespecto de los cortes en rutas del país, durante la última jornada se informó de siete cortes, cuatro de ellos en la Ruta 5.",
         "2019-11"
        ],
        [
         "28",
         "fbabd71e8f8c3731c7008400eb52d656efa679bc2167b883e5638a39350d87d2",
         "Continúan cuatro focos activos: CONAF reanuda operaciones para controlar incendios forestales en Valparaíso",
         "24horas.cl",
         "Chile",
         "2019-11-17 00:00:00",
         "Event Registry",
         "continúan cuatro focos activos: conaf reanuda operaciones para controlar incendios forestales en valparaíso",
         "[]",
         "0",
         "Según reportaron las autoridades más de dos mil hectáreas han sido consumidas.\n\nCerca de las 09:00 horas de este domingo la Corporación Nacional Forestal reanudó las operaciones aéreas para controlar los incendios forestales que afectan a la región de Valparaíso desde hace algunos días y mantienen a la zona en alerta roja.\n\nHasta el momento se encuentran cuatro focos activos, los que han obligado a la evacuación de sectores poblados ante el peligro de propagación.\n\nEn horas de esta mañana el director ejecutivo del organismo, José Manuel Rebolledo, y el director regional de CONAF Valparaíso, Sandro Bruzzone, llegaron hasta los lugares donde ha sido controlado el fuego para evaluar los daños principalmente en la Reserva Nacional Lago Peñuelas donde se estima se vieron afectadas cerca de 800 hectáreas.",
         "2019-11"
        ],
        [
         "29",
         "cc4126529dca6846b19506b693b62b13e405bfccfadf1ec7fdad731c99c91833",
         "Soldado conscripto muere tras recibir balazo de compañero de guardia",
         "24horas.cl",
         "Chile",
         "2019-11-17 00:00:00",
         "Event Registry",
         "soldado conscripto muere tras recibir balazo de compañero de guardia",
         "[]",
         "0",
         "El Ejército emitió un comunicando señalando que las circunstancias en que ocurrió el hecho se investigan, aunque habría ocurrido mientras uno de ellos manipulaba su armamento.\n\nUn soldado conscripto murió durante la noche del sábado en la Escuela de Montaña del Ejército ubicada en Río Blanca, región de Valparaíso, tras recibir un disparo de un compañero de guardia.\n\nAsí lo confirmó el Ejército a través de un comunicado, señalando que los hechos ocurrieron a las 23:30 horas de este sábado, cuando ambos se encontraban \"cumpliendo la función de centinelas de guardias\".\n\nAunque se investigan las causas en que ocurrieron los hechos, todo habría ocurrido cuando uno de ellos manipuló su armamento, impactando de bala a su compañero, quien falleció posteriormente.\n\nEl Ejército, además, señaló que se informó a la Fiscalía de lo ocurrido para que investigue los hechos, además de disponer la realización de una investigación sumaria administrativa dentro de la institución.\n\nFinalmente, \"la Escuela de Montaña lamenta profundamente la pérdida de uno de sus camaradas de armas, hecho que enluta a la Institución, la cual ha dispuesto los apoyos correspondientes a la familia afectada\".",
         "2019-11"
        ],
        [
         "30",
         "d1e796f653aefd725f997578ac618c49a91e751408a3dc3b50ab0836354d4da5",
         "Las (a menudo desapercibidas) oportunidades de la \"economía de la longevidad\"",
         "24horas.cl",
         "Chile",
         "2019-11-17 00:00:00",
         "Event Registry",
         "las (a menudo desapercibidas) oportunidades de la \"economía de la longevidad\"",
         "[]",
         "0",
         "En 2018, las personas de más de 65 años superaron en número al grupo de niños menores de 5 años a nivel global. Aunque el envejecimiento poblacional suele verse como un problema, también puede ser una oportunidad, sobre todo en el mundo de los negocios.\n\nLos jóvenes pueden estar preparados para heredar el futuro, pero ahora el envejecimiento de la población es lo que está definiendo nuestro tiempo.\n\nEn 2018, por primera vez en la historia, las personas de 65 años o más superaron en número al grupo de niños menores de 5 años a nivel global.\n\nY se prevé que el número de personas de 80 años o más se triplique, de 143 millones ahora a 426 millones, en el año 2050.\n\nLa población de 65 años o más está creciendo más rápido que todos los demás grupos de edad, sobre todo desde que la tasa de natalidad mundial empezó a desplomarse en la segunda mitad del siglo XX.\n\nSegún la Organización Mundial de la Salud, la tasa de fertilidad en todas las regiones, excepto África, están cerca o por debajo de lo que se considera la \"tasa de reemplazo\", el nivel necesario para mantener estable la población.\n\nEn la mayoría de los países de altos ingresos, la cifra ronda los 2,1 hijos por mujer.\n\nSin embargo, la población no solo está envejeciendo: las personas viven más y aumentan su \"ciclo vital\" con una salud en mejor estado.\n\nEso significa que, a medida que aumenta la población de ancianos, también crece un grupo de consumidores, trabajadores e innovadores.\n\nEn otras palabras, no son simplemente un grupo que necesita de los servicios dela llamada\"economía de la longevidad\", que está dirigida exclusivamente a personas mayores, sino que la población mayor puede continuar participando a tiempo completo en la economía en general.\n\n\"Ahora estamos hablando de una nueva etapa de la vida que es tan larga como la última parte de la vida adulta\", dice el Joseph Coughlin, director del Instituto de Tecnología de Massachusetts AgeLab y autor del libro \"Economía de larga duración: Liberando el mercado de mayor crecimiento y más incomprendido\".\n\nA medida que las personas mayores tienen vidas más largas y saludables, y continúan participando activamente en la economía global, se abren posibilidades para convertir la longevidad en un activo para la sociedad.\n\nEn 2015, los estadounidenses mayores de 50 años generaron casi US$8.000 millones en actividades económicas.\n\nLa consultora Boston Consulting Group estima que, para 2030, la población de más de 55 años en Estados Unidos habrá representado la mitad de todo el crecimiento del gasto del consumidor interno desde la crisis financiera mundial.\n\nEste número aumenta al 67% en Japón y al 86% en Alemania.\n\nDado que las personas mayores actualmente son responsables de una parte sustancial de la actividad económica mundial y de que lo serán en el futuro, la \"economía de la longevidad\" podría abrir oportunidades de crecimiento que hoy están sin explotar.\n\nEl envejecimiento global de la sociedad se ha considerado perjudicial para la salud económica de un país, ya que reduce la fuerza laboral y aumenta las cargas sobre los sistemas públicos de salud.\n\nEn la reunión del G20 de este año en Japón, el envejecimiento estaba en la lista de prioridades por primera vez.\n\nEl gobernador del Banco de Japón, Haruhiko Kuroda, dijo que el envejecimiento de la población podría plantear \"serios desafíos\" para los bancos centrales.\n\nUn reciente informe de Naciones Unidas también advirtió que el envejecimiento global aumentaría las \"presiones fiscales que enfrentarán muchos países en las próximas décadas tratando de construir y mantener sistemas públicos de atención médica, pensiones y protección social para las personas mayores\".\n\nEsto podría impactar particularmente en muchos de los países que registran un número creciente de jubilados.\n\nPero Coughlin, del MIT, cree que, aunque las poblaciones pueden estar envejeciendo en cantidades significativas, no hay que dejar que la idea de \"vejez\" reprima la forma en que pensamos sobre las oportunidades económicas.\n\nArgumenta que la vejez es una construcción social que no refleja de manera realista cómo viven las personas después de la mediana edad.\n\nY dice que las empresas deben ofrecer lo que las personas mayores realmente quieren y no lo que la sabiduría convencional sugiere que necesitan.\n\nNo se trata solo de coches para ancianos, por ejemplo, sino de diversión, moda, turismo y viajes confortables.\n\n\"Se trata de no tener edad. Las cosas que son más personalizadas, más centradas en el bienestar, en cosas que facilitan la vida\", dice Coughlin.\n\n\"Esos conjuntos de valores valen para todas las generaciones\", añade.\n\nAgrega que aunque las demandas de los millennials están vinculadas al auge de la economía a la carta, los adultos mayores se benefician enormemente de lo conveniente que es este estilo de vida.\n\n\"Para la gente mayor se ha convertido en una vida de asistencia virtual\".\n\nAunque no hay mucha investigación disponible sobre la economía de la longevidad, lo que está claro es que si las empresas consiguen aprovechar esta base de consumidores, eso podría significar grandes oportunidades de negocio.\n\nEste último grupo es el que menos gasta, con unos US$173 de media por transacción.\n\nEl mercado más grande para la \"economía de la longevidad\" puede ser Japón, la nación del mundo que envejece más rápido.\n\nPero la cultura japonesa moderna ha sabido adaptarse alas necesidades cotidianas de su envejecida población.\n\nY ha puesto en marcha ideas que suponen pequeñas comodidades, como proporcionar anteojos en las oficinas de correos, bancos y hoteles para leer la letra no tan pequeña.\n\nPero también implementan mejoras estructurales más grandes, como colocar botones en los cruces peatonales que, al presionarlos, dan tiempo extra para cruzar.\n\nJapón, país que tiene al menos el 20% de su población por encima de los 70 años,ha desarrollado una cultura inclusiva.\n\nEste modelo se refleja en cómo los ancianos consumen junto a las generaciones más jóvenes, por ejemplo, en piscinas locales, paquetes vacacionales y clases de ejercicio.\n\nUna parte clave de la longevidad y el aumento de la salud es la libertad de trabajar.\n\nCuando los trabajadores tienen una vida más saludable y más larga, una fuerza laboral que envejece puede ser una oportunidad para cosechar lo que la consultora Deloitte llama el \"dividendo de la longevidad\".\n\nEs decir, poder impulsar la productividad económica de los empleados de más edad.\n\nEn Alemania, mantener a los trabajadores mayores en el trabajo es una cuestión de estabilidad económica nacional.\n\nMás del 21% de la población alemana tiene más de 65 años.\n\nLa agencia de calificación crediticia Moody's dice que el envejecimiento de la población de Alemania plantea riesgos para su fortaleza económica.\n\nMoody's advirtió que si Alemania pierde su calificación crediticia triple A, la razón más probable será \"el impacto del cambio demográfico en la economía alemana y los sistemas de seguridad social\".\n\nA la luz de los avances en salud y esperanza de vida, se espera que un alemán de 65 años de edad viva unos 20 años más, según la OCDE.\n\nSin embargo, debido a la naturaleza físicamente exigente de la industria manufacturera, la retención de trabajadores en las fábricas hasta la edad de jubilación seguirá siendo un desafío.\n\nAlgunas compañías alemanas están utilizando los avances tecnológicos para hacer un hueco a los trabajadores mayores y mantenerlos activos.\n\nPor ejemplo, en la planta de Porsche, en la localidad de Leipzig, se implementan medidas de ergonomía para ayudar a los trabajadores.\n\nGeneralmente operan en turnos de una hora y rotan de una estación a otra durante todo el día.\n\nToda la fábrica está diseñada con un sistema de semáforos que indica el grado de comodidad ergonómica, por lo que los gerentes pueden programar turnos que garanticen que las distintas partes del cuerpo no se carguen.\n\n\"El objetivo de la ergonomía no es reaccionar, sino ser preventivo\", dice Alissa Frey, especialista en ergonomía de Porsche en Leipzig.\n\n\"La rotación entre los diferentes pasos de fabricación ayuda a evitar tensiones en un punto. Además, los ajustes de procesos y componentes, los límites de fuerza, los espacios de trabajo de altura ajustable, los dispositivos de manipulación y los sistemas de soporte, así como un despliegue adecuado de nuestros empleados evitan una sobrecarga física\", agrega Frey.\n\nAhora, si el aumento de la longevidad es una carga o una ventaja depende de cuánto se preparen las sociedades para los desafíos que plantea el envejecimiento de la población, así como de identificar y maximizar sus beneficios.\n\n\"Los baby boomers representan una nueva generación\", dice Coughlin.\n\n\"Por lo tanto, existe la expectativa de que, aunque ya no son jóvenes, se sienten jóvenes. No solo esperan, sino que en muchos casos exigen nuevos productos, nuevos servicios, nuevas experiencias, para hacer que cada etapa de la vida, si no todos los días, sea un poco mejor\".\n\nLee la historia original en inglés en BBC.",
         "2019-11"
        ],
        [
         "31",
         "e38b80ec8726b44f77cab83ee7ce639756a0bd2faa566688888cfddb4381842d",
         "Cómo el GPS se volvió invaluable en sólo 3 décadas (y por qué el riesgo de una falla es tan estremecedor)",
         "24horas.cl",
         "Chile",
         "2019-11-17 00:00:00",
         "Event Registry",
         "cómo el gps se volvió invaluable en sólo 3 décadas (y por qué el riesgo de una falla es tan estremecedor)",
         "[]",
         "0",
         "A pesar de la dependencia generalizada en el sistema, no existe un plan universal para lidiar con una interrupción del GPS.\n\n¿Qué pasaría si el GPS, el Sistema de Posicionamiento Global, dejara de funcionar?\n\nPara empezar, muchos de nosotros tendríamos que volver a conectar nuestros cerebros y prestar atención al mundo que nos rodea para poder ir de A a B.\n\nQuizás eso no sea tan malo: sería menos probable que nos metiéramos en ríos o estuviéramos en peligro de caernos a abismos en nuestros autos por confiar ciegamente en los dispositivos de navegación.\n\nHay muchas historias sobre ese tipo de idiotez, que se volvió posible gracias al GPS, como la de la pareja sueca que escribió mal el nombre de la isla italiana de Capri en su dispositivo y terminó a cientos de kilómetros de distancia en Carpi, preguntando dónde estaba el mar.\n\nPero esas son las excepciones.\n\nLos dispositivos que usan GPS generalmente evitan que nos perdamos.\n\nSi fallaran, las carreteras estarían obstruidas con conductores que tendrían que frenar para mirar las señales o consultar mapas. Si tu viaje incluye un tren, no habría paneles de información que te indicaran cuándo debe llegar.\n\nAl llamar para pedir un taxi, te encontrarías con un operador intentando rastrear su flota llamando a los conductores.\n\nProbablemente, quienes recuerdan el mundo pre-GPS dirán, con razón, que no era tan terrible; pero hay que tener en cuenta que ahora el mundo está organizado contando con ese sistema y varias cosas que ya se volvieron costumbre eran imposibles antes de que existiera.\n\nSin GPS, los servicios de emergencia tendrían dificultades: los operadores no podrían localizar a las personas que llaman con sólo la señal de su teléfono o identificar la ambulancia o el coche de policía más cercanos.\n\nHabría caos en los puertos: las grúas de contenedores necesitan GPS para descargar los barcos.\n\nHabría estantes vacíos en los supermercados y fábricas inactivas, mientras que productos y partes esperan, deteriorándose, ser entregados, pues sus sistemas logísticos \"justo a tiempo\" se detendrían.\n\nEl método \"justo a tiempo\" o JIT (por sus siglas en inglés \"just in time\") esencialmente permite que los suministros lleguen a la fábrica o los productos al cliente poco antes de que se usen y solo en las cantidades necesarias. Y el JIT depende del GPS.\n\nLa agricultura, la construcción, la pesca, la agrimensura son otras industrias que se verían inmediatamente afectadas.\n\nPara tener una idea de la dimensión del problema, un informe del gobierno de Reino Unido estableció que el costo de la falta de GPS sería alrededor de US$1.000 millones por día durante los primeros cinco días.\n\nSi se extendiera por mucho más tiempo, tendríamos que empezar a preocuparnos por el funcionamiento de otros sistemas, pues el GPS no sólo es un servicio de ubicación, es también un servicio de tiempo.\n\nEl sistema consta de 24 satélites que llevan relojes sincronizados con un grado extremo de precisión.\n\nCuando tu teléfono inteligente usa GPS para ubicarte en un mapa, está captando señales de algunos de esos satélites, y está haciendo cálculos basados ??en el momento en que enviaste la señal y el lugar en el que estaba el satélite.\n\nSi los relojes de esos satélites se desincronizan por una milésima de segundo, tu ubicación puede errar en 200 km o 300 km.\n\nPiensa en las redes telefónicas: tus llamadas comparten espacio con otros a través de una técnica llamada multiplexación: los datos se marcan, se mezclan y se descifran en el otro extremo.\n\nUna falla de solo un 100.000 de segundo puede causar problemas. Los pagos bancarios, los mercados bursátiles, las redes eléctricas, la televisión digital, la computación en la nube, todo depende de diferentes ubicaciones que suceden en un momento específico.\n\nSi el GPS fallara, ¿qué tan bien y con qué amplitud, y durante cuánto tiempo los sistemas de respaldo mantendrían esos diversos sistemas funcionando?\n\nLa respuesta poco tranquilizadora es que nadie parece saberlo.\n\nNo es de extrañar que el GPS a veces se llame la \"utilidad invisible\".\n\nTratar de ponerle un valor en dólares se ha vuelto casi imposible.\n\nComo lo expresa el autor Greg Milner en \"Pinpoint: cómo el GPS está cambiando nuestro mundo\", es casi como preguntar: \"¿Cuánto vale el oxígeno para el sistema respiratorio humano?\".\n\nEs una historia notable para un invento que primero obtuvo apoyo en el ejército de EE.UU. porque podría ayudarle a bombardear a la gente, aunque ni siquiera estaba seguro de necesitarlo.\n\nUna respuesta típica a la propuesta era: \"Yo sé dónde estoy, ¿para qué necesito un maldito satélite que me lo diga?\"\n\nEl primer satélite GPS se lanzó en 1978, pero no fue hasta la primera Guerra del Golfo, en 1990, que los escépticos se convencieron de su utilidad.\n\nCuando la Operación Tormenta del Desierto se enfrentó con una tormenta de verdad en el desierto, y la arena arremolinada redujo la visibilidad a 5 metros, el GPS le permitió a los soldados marcar la ubicación de las minas, encontrar el camino de regreso a las fuentes de agua y evitar interponerse en el camino del otro.\n\nFue tan obviamente útil para salvar vidas que, dado que el ejército tenía tan pocos receptores, los soldados le pidieron a sus familias en Estados Unidos que pagaran de su propio bolsillo dispositivos que costaban hasta US$1.000 en el mercado.\n\nDada la ventaja militar conferida por el GPS, es posible que te preguntes por qué las fuerzas armadas de Estados Unidos permitieron que se convirtieran en un dispositivo que todos podían usar.\n\nLa verdad es que no querían, pero no pudieron hacer nada para impedirlo.\n\nIntentaron que los satélites enviaran en efecto dos señales -una precisa para su propio uso y otra degradada y más difusa para los civiles- pero las compañías encontraron formas inteligentes de lograr que las señales difusas fueran más claras.\n\nY el beneficio económico se volvió cada vez más evidente.\n\nEn 2000, el presidente Bill Clinton aceptó lo inevitable e hizo que la señal de alto grado estuviera disponible para todos.\n\nHasta el día de hoy, es el contribuyente estadounidense el que aporta los mil millones de dólares anuales que se necesitan para mantener el GPS en funcionamiento... y eso es muy amable de su parte.\n\nPero, ¿cuán prudente es que el resto del mundo dependa de su generosidad?\n\nDe hecho, el GPS no es el único sistema mundial de navegación por satélite.\n\nTambién hay uno ruso, llamado Glonass, aunque no es tan bueno. China y la Unión Europea tienen sus propios proyectos bien avanzados, llamados Beidou y Galileo, respectivamente. Japón e India también están trabajando en sus propios sistemas.\n\nEsos satélites alternativos pueden ayudarnos a superar problemas específicos del GPS, pero también pueden ser objetivos militares tentadores en cualquier conflicto futuro, y no es difícil imaginar una guerra espacial que los pueda dejar a todos fuera de línea.\n\nAunque una tormenta solar lo suficientemente grande también podría hacerlo.\n\nExisten alternativas terrestres a la navegación por satélite. La principal se llama eLoran, pero no cubre todo el mundo, y algunos países están poniendo más esfuerzo que otros en sus sistemas nacionales.\n\nUn gran atractivo de eLoran es que sus señales son más fuertes. Cuando las señales de GPS terminan su viaje de 20.000 km a la Tierra son extremadamente débiles, lo que hace que sean fáciles de bloquear o falsificar, si sabes lo que estás haciendo.\n\nLas personas a las que se les paga por pensar en estas cosas se preocupan menos por los escenarios apocalípticos (como despertarse un día y encontrar que todo está fuera de línea) y más por el potencial de que enemigos puedan causar estragos al enviar señales inexactas a los receptores GPS en un área determinada.\n\nEl profesor de ingeniería Todd Humphreys ha demostrado que así se pueden derribar drones y desviar los superyates. Le preocupa que los atacantes puedan freír las redes eléctricas, paralizar las redes móviles o colapsar los mercados bursátiles.\n\nLa verdad es que es difícil determinar cuánto daño pueden hacer las señales de suplantación del GPS.\n\nPero pregúntales a esos turistas suecos en Carpi. Saber que estás perdido es una cosa; estar convencido de que sabes dónde estás y estar equivocado es un problema totalmente distinto.\n\n~~~~~~~~~~~~~~~~~~~~",
         "2019-11"
        ],
        [
         "32",
         "5d68014230993905017083a80b3a23c356e7d1e7352da47144df7d17fb36143a",
         "Jaime Bellolio y acuerdo por nueva Constitución: \"Haré campaña por el Sí\"",
         "24horas.cl",
         "Chile",
         "2019-11-17 00:00:00",
         "Event Registry",
         "jaime bellolio y acuerdo por nueva constitución: \"haré campaña por el sí\"",
         "['Jaime Bellolio']",
         "1",
         "El diputado aseguró que está a favor de la redacción de una nueva carta magna y que votará por el mecanismo de la convención mixta.\n\nEl diputado de la UDI, Jaime Bellolio, se refirió al acuerdo para crear una nueva Constitución y los mecanismos posibles, además de la posición de su partido frente a este futuro plebiscito, donde afirmó que hará campaña para modificar la Constitución, a diferencia del anuncio que hizo la presidenta de la UDI, Jacqueline van Rysselberghe, quien aseguró que votará en contra de la modificación constitucional.\n\nEn primer lugar, el diputado declaró que la UDI tuvo que ceder \"muchas cosas\" para poder firmar el \"Acuerdo por la paz social y nueva Constitución\".\n\n\"Si hace 35 días preguntabas en la UDI si íbamos a firmar un acuerdo donde se dan alternativas de cambiar la Constitución a través de dos mecanismos, la respuesta unánime era un no. Y probablemente hubiese pasado algo similar en Evópoli y en RN. Lo acordado significa una cesión de tu posición previa. Y dada la crisis política y social que podría profundizarse, había que revaluar no tus convicciones, sino tu estrategia para poder llegar a tus convicciones finales\", detalló el parlamentario en una entrevista con La Tercera.\n\nSin embargo, fue enfático en declarar que la Constitución actual \"se agotó\", a pesar de las modificaciones que se le habían hecho y que eran uno de los motivos por los que su partido no quería cambiarla.\n\n\"Lo que ocurre es que la Constitución que nos rige hasta el día de hoy tuvo un ciclo que permitió que Chile redujera la pobreza, permitió el crecimiento económico, mejoras en la calidad de vida. Pero ese ciclo ya se agotó. Se generó el diagnóstico de que 'da lo mismo quién salga electo, las cosas no cambian\", señaló el diputado.\n\nAsimismo, expresó que hará campaña por el \"Sí\" y que está a favor de una nueva Constitución a través de una convención mixta, y que incluso se lo declaró a la presidenta de su partido. \"Ella (Jacqueline van Rysselberghe) dijo que iba a hacer campaña por el No. En el mismo momento que nos tocó discutir por la incorporación de esta pregunta, yo dije 'haré campaña por el Sí\".\n\nAdemás, el diputado expresó sus consideraciones respecto a una posible fuga de militantes de la UDI hacia el partido de José Antonio Kast o sobre si el partido debe modificar sus cimientos para reconquistar a la ciudadanía. \"La UDI fue un proyecto exitoso en los 90 no porque fuera pinochetista o conservador, yo no soy ninguna de esas dos cosas, sino porque fue capaz de cambiar la lógica con la cual se hacía política, de conectar con el mundo popular, esa clase media que estaba emergiendo\", afirmó. Del mismo modo, aseguró que \"estaba seguro\" que había más militantes de la UDI a favor de una nueva Constitución.",
         "2019-11"
        ],
        [
         "33",
         "c7fddaf1d05fde9f20992b7237467e613a444a98208c0acdcc5e0e798c3d3022",
         "Felipe Flores: 'La ANFP está esperando que un jugador termine herido para no jugar más' ",
         "adnradio.cl",
         "Chile",
         "2019-11-17 00:00:00",
         "Event Registry",
         "felipe flores: 'la anfp está esperando que un jugador termine herido para no jugar más'",
         "['Felipe Flores']",
         "1",
         "El delantero de Deportes Antofagasta comentó que la decisión de los \"Pumas\" es que no se juegue más, pero que no fueron escuchados.\n\nEstá decidido y a no ser que las movilizaciones digan otra cosa, el fútbol chileno regresará el próximo fin de semana. La ANFP mantiene su voluntad de \"normalización\" para que se termine el Torneo Nacional, y las otras competencias, y así dar por finalizada la temporada 2019 en medio de la crisis social y política que vive Chile.\n\nEn ello, el delantero de Deportes Antofagasta, Felipe Flores, expresó su molestia al no ser escuchados respecto a la voluntad del cuadro \"puma\": \"los jugadores no queremos que se juegue más este torneo, aunque no sé si nuestro voto pesará. Hicimos una votación en el equipo y se concluyó que no queríamos jugar y se lo hicimos llegar al Sifup\", comentó en conversación con El Mercurio.\n\n\"Ha pasado una semana y no nos han dicho nada. No sé si consideraron o solo se dejan llevar por lo que opinen los tres clubes grandes. Nuestro capitán, el 'Chapa' Rojas escribió eso en el famoso grupo de los capitanes, pero tampoco pasó nada\", agregó el exariete de Colo Colo.\n\nRespecto al supuesto grupo de \"capitanes\" que existe en whatsapp, Flores sostuvo que: \"le preguntamos al 'Chapa' qué dijeron en el famoso grupo de capitanes, y dijo que no teníamos respuesta. No sé si la opinión de Antofagasta pesa poco o derechamente nada\", sostuvo.\n\n\"Desde Curicó (Partido que tienen pendiente) se nos avisó que tengamos cuidados, porque la gente hará imposible para que no se juegue el partido, que nos irían a buscar al hotel y que no nos dejarían salir al estadio. La ANFP está esperando que un jugador termine herido para no jugar más, no sé qué esperan para suspender\", cerró el delantero.",
         "2019-11"
        ],
        [
         "34",
         "38665c956338547017c8b2ee37e0560292db0d1b19775ee68a2d294059e314fe",
         "Ministro Briones: Hoy día no es factible aumentar en un 50% las pensiones solidarias ",
         "adnradio.cl",
         "Chile",
         "2019-11-17 00:00:00",
         "Event Registry",
         "ministro briones: hoy día no es factible aumentar en un 50% las pensiones solidarias",
         "[]",
         "0",
         "El secretario de Estado, eso sí, comentó que aquello se puede dar en un futuro, aunque con una hoja de ruta definida.\n\nEn diálogo con CNN Chile, el ministro de Hacienda, Ignacio Briones, reveló que es difícil que se aplique un aumento del 50% a la pensión básica solidaria, tras la aprobación en la Cámara de Diputados de dicho incremento.\n\nAl respecto, el secretario de Estado comentó que si bien ese escenario se puede dar en el futuro, en la actualidad no es posible.\n\n\"Hoy día no es factible. Eso implica mil millones de dólares adicionales que no tenemos\", apuntó Briones, apuntando a cuál es el camino para dicha posibilidad.\n\n\"Uno quisiera ir mucho más allá y ojalá llegar al 50%. Yo creo que se puede llegar al 50%, el punto es generar una hoja de ruta creíble, en la cual nosotros podamos partir de este 20%, asegurar que el próximo año estemos en 30.25% y construir esa hoja de tura, porque lo que los chilenos nos exigen es que esto no quede en una promesa más que vamos a deshonrar\", afirmó.",
         "2019-11"
        ],
        [
         "35",
         "48e7cdaa2f19921e02f9cae693c88da82c82ac8c8820fb6f776b85f5613910e8",
         "Joker superó los mil millones de dólares en taquilla ",
         "adnradio.cl",
         "Chile",
         "2019-11-17 00:00:00",
         "Event Registry",
         "joker superó los mil millones de dólares en taquilla",
         "[]",
         "0",
         "La producción es la séptima que más ha recaudado durante este 2019.\n\nEl éxito de la película sobre el Joker llegó a tal punto de que superó la barrera de los mil millones de dólares en taquilla.\n\nDe acuerdo a medios internacionales, la cinta dirigida por Todd Phillips alcanzó los USD$ 1.016.599.593 alrededor del mundo, tras un mes y medio desde su estreno.\n\nCabe decir que la producción es la primera con clasificación \"R\" en pasar dicho hito, superando a Deadpool 2 con USD$ 785.\n\nDe paso, vale mencionar que Joker es la séptima película más taquillera de 2019, en un ranking que es encabezado por Avengers: Endgame con USD$ 2.797.",
         "2019-11"
        ],
        [
         "36",
         "0ddb8f6a9a9d965acb9a8d4297f630ec1cfe1878ea0f9dd7fe91f24cd9aefb70",
         "Expresidente Ricardo Lagos: 'Las demandas ciudadanas eran muy difíciles de satisfacer' ",
         "adnradio.cl",
         "Chile",
         "2019-11-17 00:00:00",
         "Event Registry",
         "expresidente ricardo lagos: 'las demandas ciudadanas eran muy difíciles de satisfacer'",
         "['Ricardo Lagos']",
         "1",
         "El exmandatario acusó además a Piñera de decir que \"estábamos en guerra\".\n\nEl presidente Sebastiánn Piñera no dudó en pedirle su opinión en su calidad de exmandatario y ha sido parte activa del estallido social y político que vive Chile hace ya más de un mes.\n\nEl expresidente de la República, Ricardo Lagos, conversó con CNN respecto a la actual situación que vive el país, y comentó el estallido social que se vivió en Chile: \"estamos todos conscientes que estábamos con una camisa de fuerza que era una constitución heredada, pétrea, que no se podía cambiar\", dijo.\n\n\"Entonces esta camisa de fuerza hizo que esta caldera, las demandas ciudadanas eran muy difíciles de satisfacer, y por lo tanto mientras existiera esa camisa, era imposible y todos sabíamos porqué existía esa camisa\", agregó Lagos.\n\nSobre la situación en sí, Lagos comentó que: \"por lo tanto el momento fue cuando los que había mantenido con tanta fuerza, durante 30 años, se dieron cuenta que haba llegado el momento de permitir que se pudiera hacer una nueva Constitución a partir de la voluntad de los ciudadanos\", sostuvo.\n\nRespecto a la decisión Piñera de sacar a los militares a la calle, Lagos comentó que: \"fue un error, pero el primero fue decir que estábamos en guerra, creo que fue un error. El rol de Piñera es que fue muy sorprendido por el estallido social. Yo estaba consiente que se iba a producir, pero no en esta magnitud\", agregó.",
         "2019-11"
        ],
        [
         "37",
         "bf7d1136ca265e9706a344820d4d4af9b1c63646ebf04a6ecfcc540cb1406fc4",
         "Deportes Concepción venció a Trasandino y sigue firme con la misión del ascenso ",
         "adnradio.cl",
         "Chile",
         "2019-11-17 00:00:00",
         "Event Registry",
         "deportes concepción venció a trasandino y sigue firme con la misión del ascenso",
         "['Deportes Concepción']",
         "1",
         "Deportes Concepción consiguió un triunfo clave en su misión de retornar al profesionalismo, tras ganar por 1-0 ante Trasandino.\n\nEl elenco lila llegaba de un apretado triunfo ante Provincial Ovalle, por lo que era imperioso poder mantener la buena racha.\n\nEn esta oportunidad, con gol de Matt Lagos durante la primera etapa, el cuadro lila pudo abrochar una nueva victoria, ya que manejó sin contratiempos el partido.\n\nCon estos tres puntos, Concepcion lidera la liguilla del ascenso con 6 unidades, escapándose de sus rivales. Ahora se medirá ante Deportes Limache en la quinta región.",
         "2019-11"
        ],
        [
         "38",
         "67e92fbf5105562ef6c842f73722c5d429fc02042df33b0dac535c0c80ec2b41",
         "Mario Desbordes: 'Tenemos que conversar los de escuelita con número con los de Harvard o Chicago' ",
         "adnradio.cl",
         "Chile",
         "2019-11-17 00:00:00",
         "Event Registry",
         "mario desbordes: 'tenemos que conversar los de escuelita con número con los de harvard o chicago'",
         "['Mario Desbordes']",
         "1",
         "El presidente de Renovación Nacional adelantó los acuerdos a los que se deberán llegar para establecer la nueva Constitución.\n\nFue uno de los personeros claves en el acuerdo entre oposición y oficialismo para discutir sobre una nueva Constitución para Chile. Mario Desbordes, presidente de Renovación Nacional destacó por ser el único en firmar el documento con un color de lápiz diferente al resto (verde) y aquello dijo hacerlo \"por apoyo a Carabineros\".\n\nEn conversación con La Tercera, el mandamás de RN repasó lo logrado la madrugada del pasado viernes aseverando que: \"llevábamos un mes y tanto conversando con la oposición, RN había dialogado con todos, desde el FA hasta la DC, para buscar acuerdos en temas como la reforma a la salud\", dijo sobre los tres acuerdos a los que llamó Sebastián Piñera previamente.\n\n\"El Presidente fue clave en esto. Si él hubiera tomado la decisión de decretar el estado de emergencia (que muchos desde el sector y con mucha razón le pedían), habría cerrado la posibilidad del diálogo. Optó por lo segundo y la verdad que con altura de miras asumió el riesgo que eso significaba\", agregó Desbordes.\n\nRespecto a las demandas que se solicitan en la calle, Desbordes dijo que: \"lo veo en la casa de mis padres cada vez que nos juntamos y es parte de la realidad familiar. Somos personas de clase media: a mí me ha ido muy bien, tengo una buena situación económica y mi núcleo familiar directo es privilegiado, pero no estamos desconectados de lo que pasa con la gente que vive en Maipú, La Florida, La Cisterna\".\n\n\"Nunca me sentí discriminado de manera importante. Somos un partido donde convivimos en armonía personas que vienen de los mejores colegios de Chile con otros que provenimos de escuelita con número\", comentó respecto a sus orígenes y llegada a RN.\n\nY precisamente sobre lo de \"la escuelita con número\", Desbordes fue más allá y adelantó que para lo que viene a futuro, habrá que llegar a entendimientos: \"yo creo que tenemos que conversar mucho los de escuelita con número con los que han tenido la posibilidad de ir a Harvard o Chicago. Muchas veces las teorías, los estudios, son importantes y necesarios en el diseño de políticas públicas, pero la vida misma ayuda mucho a conectar con lo que realmente está pasando, más allá de los números\", sostuvo.",
         "2019-11"
        ],
        [
         "39",
         "a9af3ddc05745960117e56faf9329debd9be0230fb055e9af4528fba51dd9961",
         "#PorUnChileMásJusto: La campaña de los futbolistas en apoyo al movimiento social ",
         "adnradio.cl",
         "Chile",
         "2019-11-17 00:00:00",
         "Event Registry",
         "#porunchilemásjusto: la campaña de los futbolistas en apoyo al movimiento social",
         "[]",
         "0",
         "La idea de la iniciativa es demostrar que el fútbol no rivaliza con las demandas.\n\nPor medio de redes sociales, la ANFP y el Sifup difundieron un video en donde se ven a jugadores del fútbol chileno enviando un mensaje en el que piden un país más justo.\n\nBajo el lema \"Por un Chile más justo\", varios futbolistas, entre los que destacan Esteban Paredes, Johnny Herrera, José Pedro Fuenzalida, Nicolás Maturana, César Cortés, entre otros, se suman a las demandas de la ciudadanía.\n\nLa campaña fue confirmada en el último Consejo de Presidentes de los clubes del fútbol chileno, con el fin de demostrar que la actividad no rivaliza con el movimiento social.",
         "2019-11"
        ],
        [
         "40",
         "6f96b03a005844fee1382210b5b7062fec0a5f77734e09bd3ad97544e0500235",
         "Carabineros sobre efectos de lacrimógenas vencidas: 'Es como tomarse un yogurt cinco días después' ",
         "adnradio.cl",
         "Chile",
         "2019-11-17 00:00:00",
         "Event Registry",
         "carabineros sobre efectos de lacrimógenas vencidas: 'es como tomarse un yogurt cinco días después'",
         "[]",
         "0",
         "El coronel Óscar Alarcón salió al paso de las denuncias que existen sobre el uso de dichas bombas en medio de las manifestaciones y protestas.\n\nLas denuncias en redes sociales y de los manifestantes no terminan. En los últimos días, varias quejas se hicieron presentes respecto a un posible uso de bombas lacrimógenas vencidas por parte de efectos policiales en Santiago y regiones.\n\nAnte dichas especulaciones, el coronel Óscar Alarcón de la Prefectura de Valparaíso, salió al paso y aseveró que: \"no tengo información de bombas lacrimógenas vencidas, (pero sobre su efecto) la verdad es que es ninguno, es como tomarse un yogurt que usted se lo toma cinco días después, e igual funciona, igual está bien\".\n\nEl funcionario lo comparó con el uso de chalecos anti-balas: \"tienen una certificacion que dura supongamos dos años, y cada dos años hay cambiarlo, acá es lo mismo, no es una situación que evite se puedan utilizar y que puedan provocar daño\".\n\nRespecto a la polémica por el compuesto que tendrían los perdigones que disparan contra los manifestantes, Alarcón sostuvo que: \"puedo señalar que es un balín certificado por un proveedor internacional, si ve el cartucho por fuera dice 'balín de goma'\".\n\n\"Si alguna institución hizo un análisis interno del contenido y se establece que no un balín 100% de goma, lógicamente a nivel institucional habrá que tomar las medidas necesarias para cambiar el proveedor\", cerró.",
         "2019-11"
        ],
        [
         "41",
         "63727474cbaa981427492e96a82e194096f14d66c820a95cc3181546933774ca",
         "Camila Vallejo a Beatriz Sánchez: 'Condeno tajante y absolutamente la funa que sufrieron' ",
         "adnradio.cl",
         "Chile",
         "2019-11-17 00:00:00",
         "Event Registry",
         "camila vallejo a beatriz sánchez: 'condeno tajante y absolutamente la funa que sufrieron'",
         "['Beatriz Sánchez', 'Camila Vallejo']",
         "2",
         "La diputada del PC manifestó que \"así no podremos avanzar,necesitamos entre tod@s asegurar participación del pueblo\".\n\nLa agresividad que vivió la excndidata presidencial del Frente Amplio (FA), Beatriz Sánchez, fue criticada por la diptada del Partido Comunista (PC), Camila Vallejo, quien rechazó que un grupo de personas increpara e insultara a la dirigente opositora.\n\n\"Podremos tener diferencias con Revolución Democrática y Beatriz Sánchez sobre el acuerdo por la paz, pero condeno tajante y absolutamente la funa que sufrieron el día de hoy\", escribió la parlamentaria del PC.\n\nLa diputada por el Distrito N° 12, agregó a través de su cuenta en la red social Twtter que \"así no podremos avanzar, necesitamos entre tod@s asegurar participación del pueblo en el proceso para una nueva Constitución\".",
         "2019-11"
        ],
        [
         "42",
         "b3b2086537ad5ed717aafcd0c50d9d06da2776b2cc8a9ec58028d14476443d76",
         "Onemi ordenó evacuación de cerros más afectados por incendios en Valparaíso ",
         "adnradio.cl",
         "Chile",
         "2019-11-17 00:00:00",
         "Event Registry",
         "onemi ordenó evacuación de cerros más afectados por incendios en valparaíso",
         "[]",
         "0",
         "De momento, cuatro vivienda se han visto comprometidas por los siniestros.\n\nDurante la tarde de este domingo, la Oficina Nacional de Emergencias (Onemi) hizo un balance con respecto a la Alerta Roja que hay en Valparaíso, por los incendios forestales que han afectado a la región en los últimos días.\n\nDe momento, hay 2.500 hectáreas consumidas en a lo menos cinco focos, por lo que la entidad llamó a evacuar los sectores Mesana Alto, calles Santa Rita, Aquiles Ramírez, Miguel Ángel y Chaparro.\n\nAdemás, ante el escenario, la Onemi activó el sistema de mensajería SAE, con el que informan a vecinos de medidas a través de sus teléfonos celulares.\n\nDe paso, el organismo informó que hay cuatro viviendas afectadas por el siniestro denominado \"Mesana\", el que ha afectado una superficie por confirmar de 0,1 hectáreas.",
         "2019-11"
        ],
        [
         "43",
         "a24bf67046f5c0e81d6653d6b89b61a76206667c2f978029acc981216b5e1773",
         "Karla Rubilar: 'Partimos siempre de buena fe viendo el trabajo incansable de Carabineros' ",
         "adnradio.cl",
         "Chile",
         "2019-11-17 00:00:00",
         "Event Registry",
         "karla rubilar: 'partimos siempre de buena fe viendo el trabajo incansable de carabineros'",
         "['Karla Rubilar']",
         "1",
         "La muerte de Abel Acuña el pasado viernes en Plaza Italia y la posterior denuncia de agresiones por parte de carabineros a personal del SAMU de Santiago sigue generando diversas reacciones en el mundo político.\n\nEn ello, la ministra Vocera de gobierno, Karla Rubilar, estuvo la mañana de este domingo en conversación con Mesa Central de Canal 13, y dijo no tener dudas sobre el actuar de los efectivos policiales: \"yo parto siempre de la buena fe, y en el entendido de que Carabineros actúa cuando hay desmanes y violencia, hemos dicho de forma clara que cualquier exceso, toda salida de protocolo o todo delito tiene que ser investigado y sancionado\", comentó.\n\n\"Hemos respetado todo el accionar de la justicia en el estado de derecho, que es lo que más nos importa, como el actuar del INDH, la Defensoria de Niñez, los fiscales formalizando carabineros en casos de tortura, pero partimos siempre de buena fe porque hemos visto el trabajo de carabineros, incansable durante muchos días y muy duro\", agregó la Rubilar.\n\nOtro de los temas que tocó en la conversación fue la supuesta negativa de los militares a salir a la calle cuando el presidente Piñera supuestamente iba a decretar Estado de Emergencia a mediados de semana.\n\n\"Yo estaba ahí y por parte de los militares hubo una completa disposición a acatar las instrucciones del presidente y del ministro de Defensa. (¿No hubo insubordinación?) Para nada, yo no lo vi. Yo estaba ahí y lo que vi fue a militares completamente disponibles a la decisión que el presidente tomara\", dijo.",
         "2019-11"
        ],
        [
         "44",
         "64d48d638fcb2334ec0a7151d677c6afb15f92e5e4da60d5aa475239cd541266",
         "Denuncian apremios ilegítimos y abuso sexual por parte de carabineros contra manifestante ",
         "adnradio.cl",
         "Chile",
         "2019-11-17 00:00:00",
         "Event Registry",
         "denuncian apremios ilegítimos y abuso sexual por parte de carabineros contra manifestante",
         "[]",
         "0",
         "El fiscal de turno de la Fiscalía de O'Higgins se constituyó en la 1° comisaría de Carabineros de Rancagua, con el fin de instruir una causa penal, luego de una denuncia por apremios ilegítimos y abuso sexual contra una joven detenida en las últimas manifestaciones, las cuales se han desarrollado en diversos puntos del país.\n\nFue a través de redes sociales que el ente persecutor dio a conocer la medida, añadiendo que se instruyó a la Policía de Investigaciones para que realice su trabajo.\n\nSegún se ha podido indagar, la víctima es una mujer de 27 años, quien fuera detenida y trasladada al lugar, en donde habría sido víctima de apremios ilegítimos y abuso sexual.\n\nCabe decir que hasta figuras del mundo político han hecho un llamado para que se investigue este caso.",
         "2019-11"
        ],
        [
         "45",
         "6ec33cbc0a2f9c61e3a1daddc08966cce7458bb4cbd3f56053ae894a41a895b0",
         "La casa central de U. de Chile fue rayada con mensajes de odio anti migrantes, mapuches y LGBT+ ",
         "adnradio.cl",
         "Chile",
         "2019-11-17 00:00:00",
         "Event Registry",
         "la casa central de u. de chile fue rayada con mensajes de odio anti migrantes, mapuches y lgbt+",
         "[]",
         "0",
         "La acción vandálica incluye ataques en contra del comunismo, la nueva constitución y la asamblea constituyente.\n\nUn ataque con mensajes de odio apareció rayado el frontis de la casa central de la Universidad de Chile, y a solamente metros del Palacio de La Moneda en Santiago.\n\nLa acción vandálica de un grupo desconocido incluye expresiones de desprecio a la población migrante, la comunidad mapuche y la lucha LGBT+.\n\nEn los rayados se observan mensajes en contra del diputado Gabriel Boric, el comunismo, el Frente Amplio y una falsa acusación en contra de Camilo Catrillanca.",
         "2019-11"
        ],
        [
         "46",
         "869d54ed22517d92c5d798063e3a6fc82089ff85bce123d6ed5276a8f77edd8d",
         "Ciclistas 'funaron' a Beatriz Sánchez a metros de Plaza Italia ",
         "adnradio.cl",
         "Chile",
         "2019-11-17 00:00:00",
         "Event Registry",
         "ciclistas 'funaron' a beatriz sánchez a metros de plaza italia",
         "['Beatriz Sánchez']",
         "1",
         "Los manifestantes que se encontraban en el lugar no le permitieron llegar a un punto de prensa que darían.\n\nEl descontento social tras la crisis que atraviesa Chile parece no tener color político. Así quedó claro el mediodía de este domingo cuando Beatriz Sánchez, excandidata presidencial, fue \"funada\" en las cercanías de la Plaza Italia.\n\nLa periodista y excandidata del Frente Amplio a la presidencia, no alcanzó a llegar al frontis del Teatro de la Universidad de Chile, lugar donde daría un punto de prensa comentando el acuerdo al que se llegó el pasado viernes para establecer una nueva carta magna.\n\nSánchez caminaba por un costado del Parque Forestal, cuando vecinos que transitaban por el lugar le comenzaron a gritar, a los que se sumaron cerca de 50 ciclistas que empezaron a pedirle que se retirara del lugar por \"vendida\", así como también al Frente Amplio.",
         "2019-11"
        ],
        [
         "47",
         "9f5cd9ee99ff0fc419cb9b67e83aaf733d6337deed0020e2267e784c18c12ade",
         "Glup! pidió un minuto de silencio por los muertos en crisis social y política en Chile ",
         "adnradio.cl",
         "Chile",
         "2019-11-17 00:00:00",
         "Event Registry",
         "glup! pidió un minuto de silencio por los muertos en crisis social y política en chile",
         "[]",
         "0",
         "La banda chilena se presentó por última vez en el año en el Club Chocolate y mostró varias señales de respeto por la situación que atraviesa el país.\n\nLa crisis social y política que atraviesa Chile por estas semanas no ha dejado indiferente a nadie. De manera transversal y prácticamente sumando a todos los personajes del mundo político, social y cultura, las movilizaciones en el país han tenido un fuerte apoyo desde diversas esferas en post de cumplir las demandas ciudadanas.\n\nEn ello, el grupo chileno Glup! dio muestras de respeto por los muertos que han dejado las diversas protestas y manifestaciones estas semanas en el país. En medio de su último show del 2019 en el Club Chocolate, la banda partió su espectáculo cantando \"El Baile de los que Sobran\" de Los Prisioneros.\n\nPero como si fuera poco, en medio del espectaculo, pidieron un minuto de silencio por las víctimas que han dejado las movilizaciones, el que fue respetado por los poco más de 800 espectadores que estaban presentes en el show.",
         "2019-11"
        ],
        [
         "48",
         "7cb9a7cb220583ea10809dd45ee53a6560cce1917b011790d6b1c9c09363c3f1",
         "Intendente Valparaíso: 'Pudimos haber tenido un incendio de las magnitudes del año 2014' ",
         "adnradio.cl",
         "Chile",
         "2019-11-17 00:00:00",
         "Event Registry",
         "intendente valparaíso: 'pudimos haber tenido un incendio de las magnitudes del año 2014'",
         "[]",
         "0",
         "La autoridad comentó con respecto a las características de los últimos siniestros que se han vivido en la región.\n\nEl intendente de Valparaíso, Jorge Martínez, hizo un balance en torno a los incendios forestales que afectan a la región, indicando que el escenario podría ser peor si no estuvieran presentes todo el contingente de emergencia.\n\nLa autoridad aseveró que uno de los momentos más complejos ocurrió a las 14:20 horas de este domingo, cuando comenzó un siniestro inesperado en el costado de La Pólvora, en el sector de Mesana, cerro San Juan de Dios.\n\nA su juicio, dicho incendio \"tiene todos los aspectos de intencionalidad, porque comenzó en una quebrada con una fuerza muy grande\".\n\nProfundizando en dicho caso, Martínez dijo que \"si no es porque en ese minuto estaban todas las compañías de Bomberos activadas en este lugar que concurrieron inmediatamente, las brigadas de Conaf, el Ejécito y sobre todo los medios aéreos que en ese mismo minuto se trasladaron inmediatamente (...) pudimos haber tenido un incendio de las magnitudes del año 2014\".\n\nMartínez reiteró que la situación, por las características, demuestra \"claramente una intencionalidad, una intencionalidad muy peligrosa. Hay gente que no tiene adjetivos, no hay palabras como definirlas, pero están provocando daños\".\n\n\"Hay personas que no tienen escrúpulos, no sé qué tienen en la cabeza, si es que la tienen\", cuestionó la autoridad.",
         "2019-11"
        ],
        [
         "49",
         "d2ef188f77c1e50eab79745be93f86080a51c901ee13382028e381a636259138",
         "Director del Servel: 'Necesitamos 120 días que es lo que establece la ley' ",
         "adnradio.cl",
         "Chile",
         "2019-11-17 00:00:00",
         "Event Registry",
         "director del servel: 'necesitamos 120 días que es lo que establece la ley'",
         "[]",
         "0",
         "Patricio Santamaría explicó en ADN que organizar un plebiscito \"no es una tarea fácil\".\n\nEl titular del consejo directivo del Servicio Electoral de Chile (Servel), Patricio Santamaría, se refirió en ADN Noticias a la polémica sobre los plazos para contar con un padrón actualizado y dijo que \"la ley dice que se puede emitir un padrón provisorio 120 días antes de una elección, de un plebiscito nacional o de un plebiscito comunal\".\n\nAnte la pregunta de por qué se había decidido no asistir a la consulta planteada por la Asociación de Municipalidades de Chile (Amuch), Santamaría explico en Radio ADN que \"no se consideran las consultas\" y recalcó que \"solamente esas son los casos en que la ley nos autoriza: 120 días antes del plebiscito de abril\".\n\nEl director del Servel comentó en el Congreso dijeron que \"necesitamos 120 días que es lo que establece la ley, pero si nos piden podemos utilizar un plazo especial que es de 90 días, en algunos casos muy específicos. Creo que se tuvo consideración y lo agradecemos, porque organizar un plebiscito como este, en años donde vamos a tener 17 eventos electorales en ocho fechas diferentes de aquí al 2021, no es una tarea fácil\".",
         "2019-11"
        ]
       ],
       "shape": {
        "columns": 11,
        "rows": 2912708
       }
      },
      "text/html": [
       "<div>\n",
       "<style scoped>\n",
       "    .dataframe tbody tr th:only-of-type {\n",
       "        vertical-align: middle;\n",
       "    }\n",
       "\n",
       "    .dataframe tbody tr th {\n",
       "        vertical-align: top;\n",
       "    }\n",
       "\n",
       "    .dataframe thead th {\n",
       "        text-align: right;\n",
       "    }\n",
       "</style>\n",
       "<table border=\"1\" class=\"dataframe\">\n",
       "  <thead>\n",
       "    <tr style=\"text-align: right;\">\n",
       "      <th></th>\n",
       "      <th>id</th>\n",
       "      <th>title</th>\n",
       "      <th>source</th>\n",
       "      <th>country</th>\n",
       "      <th>publish_date</th>\n",
       "      <th>platform</th>\n",
       "      <th>title_normalized</th>\n",
       "      <th>personas_title</th>\n",
       "      <th>personas_title_count</th>\n",
       "      <th>body</th>\n",
       "      <th>year_month</th>\n",
       "    </tr>\n",
       "  </thead>\n",
       "  <tbody>\n",
       "    <tr>\n",
       "      <th>0</th>\n",
       "      <td>14fae92262bf935db2acd1b27326a7ce832446f3ae29f4...</td>\n",
       "      <td>Incendio en el centro de Iquique dejó al menos...</td>\n",
       "      <td>24horas.cl</td>\n",
       "      <td>Chile</td>\n",
       "      <td>2019-11-17</td>\n",
       "      <td>Event Registry</td>\n",
       "      <td>incendio en el centro de iquique dejó al menos...</td>\n",
       "      <td>[]</td>\n",
       "      <td>0</td>\n",
       "      <td>Durante la madrugada de este domingo, un incen...</td>\n",
       "      <td>2019-11</td>\n",
       "    </tr>\n",
       "    <tr>\n",
       "      <th>1</th>\n",
       "      <td>0ebd40ff8cf0d0e72d33595efd0d55e3f29bd63c5255ce...</td>\n",
       "      <td>EE.UU. sanciona al ministro del Interior cuban...</td>\n",
       "      <td>24horas.cl</td>\n",
       "      <td>Chile</td>\n",
       "      <td>2019-11-17</td>\n",
       "      <td>Event Registry</td>\n",
       "      <td>ee.uu. sanciona al ministro del interior cuban...</td>\n",
       "      <td>[]</td>\n",
       "      <td>0</td>\n",
       "      <td>Según el comunicado difundido por la oficina d...</td>\n",
       "      <td>2019-11</td>\n",
       "    </tr>\n",
       "    <tr>\n",
       "      <th>2</th>\n",
       "      <td>4ddf688088b0b404dc739602d0efa40f29662d81ad0b0c...</td>\n",
       "      <td>General Rozas y actuar de Carabineros: No es p...</td>\n",
       "      <td>24horas.cl</td>\n",
       "      <td>Chile</td>\n",
       "      <td>2019-11-17</td>\n",
       "      <td>Event Registry</td>\n",
       "      <td>general rozas y actuar de carabineros: no es p...</td>\n",
       "      <td>['Abel Acuña', 'General Rozas']</td>\n",
       "      <td>2</td>\n",
       "      <td>El General Director de Carabineros leyó un com...</td>\n",
       "      <td>2019-11</td>\n",
       "    </tr>\n",
       "    <tr>\n",
       "      <th>3</th>\n",
       "      <td>4615e874256022f2d724bdaf9418e48bd159d7eb4c8033...</td>\n",
       "      <td>Bachelet por crisis en Bolivia: \"Esta situació...</td>\n",
       "      <td>24horas.cl</td>\n",
       "      <td>Chile</td>\n",
       "      <td>2019-11-17</td>\n",
       "      <td>Event Registry</td>\n",
       "      <td>bachelet por crisis en bolivia: \"esta situació...</td>\n",
       "      <td>['Bachelet']</td>\n",
       "      <td>1</td>\n",
       "      <td>La Alta Comisionada de la ONU para los Derecho...</td>\n",
       "      <td>2019-11</td>\n",
       "    </tr>\n",
       "    <tr>\n",
       "      <th>4</th>\n",
       "      <td>266463d44ea2a15ade44c267ea2de44ff6e85c4a814c0b...</td>\n",
       "      <td>Tsitsipas vence a Thiem en dramático duelo y s...</td>\n",
       "      <td>24horas.cl</td>\n",
       "      <td>Chile</td>\n",
       "      <td>2019-11-17</td>\n",
       "      <td>Event Registry</td>\n",
       "      <td>tsitsipas vence a thiem en dramático duelo y s...</td>\n",
       "      <td>['Thiem', 'Tsitsipas']</td>\n",
       "      <td>2</td>\n",
       "      <td>El griego venció al pupilo de Nicolás Massú y ...</td>\n",
       "      <td>2019-11</td>\n",
       "    </tr>\n",
       "    <tr>\n",
       "      <th>...</th>\n",
       "      <td>...</td>\n",
       "      <td>...</td>\n",
       "      <td>...</td>\n",
       "      <td>...</td>\n",
       "      <td>...</td>\n",
       "      <td>...</td>\n",
       "      <td>...</td>\n",
       "      <td>...</td>\n",
       "      <td>...</td>\n",
       "      <td>...</td>\n",
       "      <td>...</td>\n",
       "    </tr>\n",
       "    <tr>\n",
       "      <th>2912703</th>\n",
       "      <td>abc0b17f47c0c8a74644c586645f274d783a92f12ecc99...</td>\n",
       "      <td>El influencer que aterrizó sin permiso en la A...</td>\n",
       "      <td>tvn.cl</td>\n",
       "      <td>Chile</td>\n",
       "      <td>2025-07-07</td>\n",
       "      <td>Event Registry</td>\n",
       "      <td>el influencer que aterrizó sin permiso en la a...</td>\n",
       "      <td>[]</td>\n",
       "      <td>0</td>\n",
       "      <td>Por el momento, el piloto podría seguir en el ...</td>\n",
       "      <td>2025-07</td>\n",
       "    </tr>\n",
       "    <tr>\n",
       "      <th>2912704</th>\n",
       "      <td>881359ccc7c92cc7e315391ebeb066f8c9e010fa47a561...</td>\n",
       "      <td>De vacaciones y con exitoso futbolista: ¿Quién...</td>\n",
       "      <td>tvn.cl</td>\n",
       "      <td>Chile</td>\n",
       "      <td>2025-07-07</td>\n",
       "      <td>Event Registry</td>\n",
       "      <td>de vacaciones y con exitoso futbolista: ¿quién...</td>\n",
       "      <td>['Coté López']</td>\n",
       "      <td>1</td>\n",
       "      <td>La influencer se habría reunido con el jugador...</td>\n",
       "      <td>2025-07</td>\n",
       "    </tr>\n",
       "    <tr>\n",
       "      <th>2912705</th>\n",
       "      <td>b4a8da03372ccde02398bb7e39695406b5a78142b75b95...</td>\n",
       "      <td>Christell Rodríguez deslumbra y se llena de el...</td>\n",
       "      <td>tvn.cl</td>\n",
       "      <td>Chile</td>\n",
       "      <td>2025-07-07</td>\n",
       "      <td>Event Registry</td>\n",
       "      <td>christell rodríguez deslumbra y se llena de el...</td>\n",
       "      <td>['Christell Rodríguez']</td>\n",
       "      <td>1</td>\n",
       "      <td>Las redes sociales se rindieron con la partici...</td>\n",
       "      <td>2025-07</td>\n",
       "    </tr>\n",
       "    <tr>\n",
       "      <th>2912706</th>\n",
       "      <td>93ec3d6a86a895c25034a79875c326f1be243cefeda246...</td>\n",
       "      <td>Gepe y Ana Tijoux se consagran como los grande...</td>\n",
       "      <td>tvn.cl</td>\n",
       "      <td>Chile</td>\n",
       "      <td>2025-07-07</td>\n",
       "      <td>Event Registry</td>\n",
       "      <td>gepe y ana tijoux se consagran como los grande...</td>\n",
       "      <td>['Ana Tijoux']</td>\n",
       "      <td>1</td>\n",
       "      <td>Manuel García, Electrodomésticos, Marlon Breez...</td>\n",
       "      <td>2025-07</td>\n",
       "    </tr>\n",
       "    <tr>\n",
       "      <th>2912707</th>\n",
       "      <td>87c10e716e651ecd677c412b9240e95837dcd8d084755f...</td>\n",
       "      <td>Sorprendió con una salsa: Jere Klein puso el b...</td>\n",
       "      <td>tvn.cl</td>\n",
       "      <td>Chile</td>\n",
       "      <td>2025-07-07</td>\n",
       "      <td>Event Registry</td>\n",
       "      <td>sorprendió con una salsa: jere klein puso el b...</td>\n",
       "      <td>['Jere Klein']</td>\n",
       "      <td>1</td>\n",
       "      <td>El músico urbano cerró la noche con parte de s...</td>\n",
       "      <td>2025-07</td>\n",
       "    </tr>\n",
       "  </tbody>\n",
       "</table>\n",
       "<p>2912708 rows × 11 columns</p>\n",
       "</div>"
      ],
      "text/plain": [
       "                                                        id  \\\n",
       "0        14fae92262bf935db2acd1b27326a7ce832446f3ae29f4...   \n",
       "1        0ebd40ff8cf0d0e72d33595efd0d55e3f29bd63c5255ce...   \n",
       "2        4ddf688088b0b404dc739602d0efa40f29662d81ad0b0c...   \n",
       "3        4615e874256022f2d724bdaf9418e48bd159d7eb4c8033...   \n",
       "4        266463d44ea2a15ade44c267ea2de44ff6e85c4a814c0b...   \n",
       "...                                                    ...   \n",
       "2912703  abc0b17f47c0c8a74644c586645f274d783a92f12ecc99...   \n",
       "2912704  881359ccc7c92cc7e315391ebeb066f8c9e010fa47a561...   \n",
       "2912705  b4a8da03372ccde02398bb7e39695406b5a78142b75b95...   \n",
       "2912706  93ec3d6a86a895c25034a79875c326f1be243cefeda246...   \n",
       "2912707  87c10e716e651ecd677c412b9240e95837dcd8d084755f...   \n",
       "\n",
       "                                                     title      source  \\\n",
       "0        Incendio en el centro de Iquique dejó al menos...  24horas.cl   \n",
       "1        EE.UU. sanciona al ministro del Interior cuban...  24horas.cl   \n",
       "2        General Rozas y actuar de Carabineros: No es p...  24horas.cl   \n",
       "3        Bachelet por crisis en Bolivia: \"Esta situació...  24horas.cl   \n",
       "4        Tsitsipas vence a Thiem en dramático duelo y s...  24horas.cl   \n",
       "...                                                    ...         ...   \n",
       "2912703  El influencer que aterrizó sin permiso en la A...      tvn.cl   \n",
       "2912704  De vacaciones y con exitoso futbolista: ¿Quién...      tvn.cl   \n",
       "2912705  Christell Rodríguez deslumbra y se llena de el...      tvn.cl   \n",
       "2912706  Gepe y Ana Tijoux se consagran como los grande...      tvn.cl   \n",
       "2912707  Sorprendió con una salsa: Jere Klein puso el b...      tvn.cl   \n",
       "\n",
       "        country publish_date        platform  \\\n",
       "0         Chile   2019-11-17  Event Registry   \n",
       "1         Chile   2019-11-17  Event Registry   \n",
       "2         Chile   2019-11-17  Event Registry   \n",
       "3         Chile   2019-11-17  Event Registry   \n",
       "4         Chile   2019-11-17  Event Registry   \n",
       "...         ...          ...             ...   \n",
       "2912703   Chile   2025-07-07  Event Registry   \n",
       "2912704   Chile   2025-07-07  Event Registry   \n",
       "2912705   Chile   2025-07-07  Event Registry   \n",
       "2912706   Chile   2025-07-07  Event Registry   \n",
       "2912707   Chile   2025-07-07  Event Registry   \n",
       "\n",
       "                                          title_normalized  \\\n",
       "0        incendio en el centro de iquique dejó al menos...   \n",
       "1        ee.uu. sanciona al ministro del interior cuban...   \n",
       "2        general rozas y actuar de carabineros: no es p...   \n",
       "3        bachelet por crisis en bolivia: \"esta situació...   \n",
       "4        tsitsipas vence a thiem en dramático duelo y s...   \n",
       "...                                                    ...   \n",
       "2912703  el influencer que aterrizó sin permiso en la a...   \n",
       "2912704  de vacaciones y con exitoso futbolista: ¿quién...   \n",
       "2912705  christell rodríguez deslumbra y se llena de el...   \n",
       "2912706  gepe y ana tijoux se consagran como los grande...   \n",
       "2912707  sorprendió con una salsa: jere klein puso el b...   \n",
       "\n",
       "                          personas_title  personas_title_count  \\\n",
       "0                                     []                     0   \n",
       "1                                     []                     0   \n",
       "2        ['Abel Acuña', 'General Rozas']                     2   \n",
       "3                           ['Bachelet']                     1   \n",
       "4                 ['Thiem', 'Tsitsipas']                     2   \n",
       "...                                  ...                   ...   \n",
       "2912703                               []                     0   \n",
       "2912704                   ['Coté López']                     1   \n",
       "2912705          ['Christell Rodríguez']                     1   \n",
       "2912706                   ['Ana Tijoux']                     1   \n",
       "2912707                   ['Jere Klein']                     1   \n",
       "\n",
       "                                                      body year_month  \n",
       "0        Durante la madrugada de este domingo, un incen...    2019-11  \n",
       "1        Según el comunicado difundido por la oficina d...    2019-11  \n",
       "2        El General Director de Carabineros leyó un com...    2019-11  \n",
       "3        La Alta Comisionada de la ONU para los Derecho...    2019-11  \n",
       "4        El griego venció al pupilo de Nicolás Massú y ...    2019-11  \n",
       "...                                                    ...        ...  \n",
       "2912703  Por el momento, el piloto podría seguir en el ...    2025-07  \n",
       "2912704  La influencer se habría reunido con el jugador...    2025-07  \n",
       "2912705  Las redes sociales se rindieron con la partici...    2025-07  \n",
       "2912706  Manuel García, Electrodomésticos, Marlon Breez...    2025-07  \n",
       "2912707  El músico urbano cerró la noche con parte de s...    2025-07  \n",
       "\n",
       "[2912708 rows x 11 columns]"
      ]
     },
     "execution_count": 41,
     "metadata": {},
     "output_type": "execute_result"
    }
   ],
   "source": [
    "df"
   ]
  },
  {
   "cell_type": "code",
   "execution_count": 42,
   "id": "b2e3baaa",
   "metadata": {},
   "outputs": [
    {
     "name": "stdout",
     "output_type": "stream",
     "text": [
      "Las 10 fuentes con más noticias son:\n",
      "Index(['biobiochile.cl', 'adnradio.cl', 'cooperativa.cl', 'latercera.com',\n",
      "       'lacuarta.com', '24horas.cl', 't13.cl', 'radioagricultura.cl',\n",
      "       'elmostrador.cl', 'elciudadano.com'],\n",
      "      dtype='object', name='source')\n",
      "\n",
      "El DataFrame ahora tiene 1492730 filas, correspondientes solo a las 10 fuentes principales.\n"
     ]
    }
   ],
   "source": [
    "# 1. Contar las noticias por cada 'source' y obtener las 10 principales\n",
    "top_10_sources = df['source'].value_counts().nlargest(10).index\n",
    "\n",
    "print(\"Las 10 fuentes con más noticias son:\")\n",
    "print(top_10_sources)\n",
    "\n",
    "# 2. Filtrar el DataFrame para mantener solo las filas de esas 10 fuentes\n",
    "# A partir de aquí, el resto de tu script trabajará solo con este DF filtrado.\n",
    "df = df[df['source'].isin(top_10_sources)].copy()\n",
    "\n",
    "print(f\"\\nEl DataFrame ahora tiene {len(df)} filas, correspondientes solo a las 10 fuentes principales.\")\n"
   ]
  },
  {
   "cell_type": "code",
   "execution_count": 14,
   "id": "14e06468",
   "metadata": {},
   "outputs": [],
   "source": [
    "def count_persons(value):\n",
    "    if isinstance(value, (list, tuple, set)):\n",
    "        return len(value)\n",
    "    if isinstance(value, str):\n",
    "        # por si cargaste desde CSV y quedó como texto \"[...]\"\n",
    "        try:\n",
    "            import ast\n",
    "            parsed = ast.literal_eval(value)\n",
    "            if isinstance(parsed, (list, tuple, set)):\n",
    "                return len(parsed)\n",
    "        except Exception:\n",
    "            pass\n",
    "    return 0\n",
    "\n",
    "df[\"n_personas\"] = df[\"personas_title\"].map(count_persons)\n"
   ]
  },
  {
   "cell_type": "code",
   "execution_count": 43,
   "id": "ff352d15",
   "metadata": {},
   "outputs": [],
   "source": [
    "body_len = df['body'].fillna('').str.len()\n",
    "df = df[body_len.between(2500, 10000)]\n"
   ]
  },
  {
   "cell_type": "code",
   "execution_count": 45,
   "id": "c3039188",
   "metadata": {},
   "outputs": [
    {
     "name": "stdout",
     "output_type": "stream",
     "text": [
      "Filas con ≥1 persona: 141557\n",
      "Filas con ≥2 personas: 35975\n"
     ]
    }
   ],
   "source": [
    "df[\"n_personas\"] = df[\"personas_title\"].map(count_persons)\n",
    "\n",
    "# Contar filas con 1 o más personas\n",
    "count_1_plus = (df[\"n_personas\"] >= 1).sum()\n",
    "\n",
    "# Contar filas con 2 o más personas\n",
    "count_2_plus = (df[\"n_personas\"] >= 2).sum()\n",
    "\n",
    "print(\"Filas con ≥1 persona:\", count_1_plus)\n",
    "print(\"Filas con ≥2 personas:\", count_2_plus)"
   ]
  },
  {
   "cell_type": "code",
   "execution_count": 38,
   "id": "71ecb04d",
   "metadata": {},
   "outputs": [
    {
     "data": {
      "image/png": "[encoded data removed]",
      "text/plain": [
       "<Figure size 1200x400 with 1 Axes>"
      ]
     },
     "metadata": {},
     "output_type": "display_data"
    }
   ],
   "source": [
    "import matplotlib.pyplot as plt\n",
    "\n",
    "# Asegúrate de tener la columna de fechas como datetime\n",
    "df['publish_date'] = pd.to_datetime(df['publish_date'], errors='coerce')\n",
    "\n",
    "# Filtrar las filas con ≥2 personas\n",
    "mask = df['personas_title_count'] >= 1\n",
    "df_2_plus = df.loc[mask & df['publish_date'].notna()]\n",
    "\n",
    "\n",
    "# Opción 2: histograma continuo (bins de días/semanas)\n",
    "df_2_plus['publish_date'].hist(\n",
    "    bins='auto', figsize=(12, 4)\n",
    ")\n",
    "plt.title('Distribución de fechas para noticias con ≥2 personas')\n",
    "plt.xlabel('Fecha de publicación')\n",
    "plt.ylabel('Frecuencia')\n",
    "plt.tight_layout()\n",
    "plt.show()\n"
   ]
  },
  {
   "cell_type": "code",
   "execution_count": 47,
   "id": "101e5021",
   "metadata": {},
   "outputs": [
    {
     "name": "stdout",
     "output_type": "stream",
     "text": [
      "Noticias por mes en el subset final:\n",
      "year_month\n",
      "2019-07    500\n",
      "2019-08    500\n",
      "2019-09    500\n",
      "2019-10    500\n",
      "2019-11    500\n",
      "          ... \n",
      "2025-05    500\n",
      "2025-06    500\n",
      "2025-07    500\n",
      "2025-08    500\n",
      "2025-09    500\n",
      "Freq: M, Name: count, Length: 75, dtype: int64\n",
      "\n",
      "Primeras filas del subset generado:\n",
      "                                                       id  \\\n",
      "182940  1073f805cdc17e54d7ff9de18301a2dee8afa5fb32930f...   \n",
      "182551  40abf2b284f0f13adfa27720e930893cc6da109750a498...   \n",
      "183041  b3ae8649ce749529f4dc7790f38890962e5df7d02ac644...   \n",
      "182956  63186f238015f6ec5ece5502098f4485400e8f31daff4a...   \n",
      "182955  5575cf97e6f0c11ba14ea3e49e94e892f9175888dd62a4...   \n",
      "\n",
      "                                                    title          source  \\\n",
      "182940  José Maza intentará batir un récord Guinness c...  elmostrador.cl   \n",
      "182551  PiÃ±era tilda paro de profesores como ilegal y...  biobiochile.cl   \n",
      "183041  Jorge Aravena: \"Siempre le preguntaba a Charle...    lacuarta.com   \n",
      "182956  Ganó el Sí: se impone el toque de queda infant...  elmostrador.cl   \n",
      "182955  Ganó el Sí: se impone el toque de queda infant...  elmostrador.cl   \n",
      "\n",
      "       country publish_date        platform  \\\n",
      "182940   Chile   2019-07-01  Event Registry   \n",
      "182551   Chile   2019-07-01  Event Registry   \n",
      "183041   Chile   2019-07-01  Event Registry   \n",
      "182956   Chile   2019-07-01  Event Registry   \n",
      "182955   Chile   2019-07-01  Event Registry   \n",
      "\n",
      "                                         title_normalized  \\\n",
      "182940  josé maza intentará batir un récord guinness c...   \n",
      "182551  piã±era tilda paro de profesores como ilegal y...   \n",
      "183041  jorge aravena: \"siempre le preguntaba a charle...   \n",
      "182956  ganó el sí: se impone el toque de queda infant...   \n",
      "182955  ganó el sí: se impone el toque de queda infant...   \n",
      "\n",
      "                      personas_title  personas_title_count  \\\n",
      "182940                 ['José Maza']                     1   \n",
      "182551                   ['PiÃ±era']                     1   \n",
      "183041  ['Charles', 'Jorge Aravena']                     2   \n",
      "182956       ['Ganó el Sí', 'Lavín']                     2   \n",
      "182955       ['Ganó el Sí', 'Lavín']                     2   \n",
      "\n",
      "                                                     body year_month  \\\n",
      "182940  Se estableció en 2018 en Vermont, Estados Unid...    2019-07   \n",
      "182551  Previo a su retorno al paÃ­s tras la gira que ...    2019-07   \n",
      "183041  Aránguiz recordó al \"Mortero\" por una frase qu...    2019-07   \n",
      "182956  Pasado las 18:00 horas de este domingo concluy...    2019-07   \n",
      "182955  Las Condes, Lo Barnechea, Colina, La Florida, ...    2019-07   \n",
      "\n",
      "        n_personas  \n",
      "182940           1  \n",
      "182551           1  \n",
      "183041           2  \n",
      "182956           2  \n",
      "182955           2  \n"
     ]
    }
   ],
   "source": [
    "import pandas as pd\n",
    "\n",
    "# Asegúrate de tener la columna de fechas como datetime\n",
    "df['publish_date'] = pd.to_datetime(df['publish_date'], errors='coerce')\n",
    "\n",
    "# Eliminar filas donde la fecha no se pudo convertir\n",
    "df = df.dropna(subset=['publish_date'])\n",
    "\n",
    "# Crear una columna con el año y el mes para agrupar\n",
    "df['year_month'] = df['publish_date'].dt.to_period('M')\n",
    "\n",
    "# DataFrame para almacenar el resultado final\n",
    "df_subset = pd.DataFrame()\n",
    "\n",
    "# Iterar sobre cada mes en los datos\n",
    "for month in df['year_month'].unique():\n",
    "    df_month = df[df['year_month'] == month]\n",
    "\n",
    "    # Separar las noticias por prioridad\n",
    "    high_priority = df_month[df_month['personas_title_count'] >= 2]\n",
    "    low_priority = df_month[df_month['personas_title_count'] == 1]\n",
    "\n",
    "    # Lógica para seleccionar 5000 noticias\n",
    "    if len(high_priority) >= 500:\n",
    "        # Si hay 5000 o más de alta prioridad, tomar una muestra\n",
    "        monthly_sample = high_priority.sample(n=500, random_state=42)\n",
    "    else:\n",
    "        # Si hay menos de 5000 de alta prioridad, tomarlas todas\n",
    "        monthly_sample = high_priority\n",
    "        needed = 500 - len(high_priority)\n",
    "        \n",
    "        # Rellenar con las de baja prioridad\n",
    "        if needed > 0 and len(low_priority) > 0:\n",
    "            # Tomar las noticias de baja prioridad necesarias, si las hay\n",
    "            low_priority_sample = low_priority.sample(n=min(needed, len(low_priority)), random_state=42)\n",
    "            monthly_sample = pd.concat([monthly_sample, low_priority_sample])\n",
    "\n",
    "    # Añadir el subconjunto del mes al DataFrame final\n",
    "    df_subset = pd.concat([df_subset, monthly_sample])\n",
    "\n",
    "# Opcional: Reordenar el DataFrame por fecha\n",
    "df_subset = df_subset.sort_values(by='publish_date')\n",
    "\n",
    "# Opcional: Verificar cuántas noticias tienes por mes en el nuevo subset\n",
    "print(\"Noticias por mes en el subset final:\")\n",
    "print(df_subset['year_month'].value_counts().sort_index())\n",
    "\n",
    "# Ahora `df_subset` contiene los datos que querías\n",
    "print(\"\\nPrimeras filas del subset generado:\")\n",
    "print(df_subset.head())"
   ]
  },
  {
   "cell_type": "code",
   "execution_count": 51,
   "id": "94dd6c70",
   "metadata": {},
   "outputs": [],
   "source": [
    "df_subset.drop_duplicates(subset='title', inplace=True)"
   ]
  },
  {
   "cell_type": "code",
   "execution_count": 53,
   "id": "46380db9",
   "metadata": {},
   "outputs": [],
   "source": [
    "df_subset.to_csv('data/processed/pruebaV1.csv')"
   ]
  }
 ],
 "metadata": {
  "kernelspec": {
   "display_name": "Python 3",
   "language": "python",
   "name": "python3"
  },
  "language_info": {
   "codemirror_mode": {
    "name": "ipython",
    "version": 3
   },
   "file_extension": ".py",
   "mimetype": "text/x-python",
   "name": "python",
   "nbconvert_exporter": "python",
   "pygments_lexer": "ipython3",
   "version": "3.12.5"
  }
 },
 "nbformat": 4,
 "nbformat_minor": 5
}
